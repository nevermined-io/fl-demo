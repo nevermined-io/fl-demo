{
 "cells": [
  {
   "cell_type": "markdown",
   "metadata": {},
   "source": [
    "![DISC](../resources/images/disc.jpg)\n",
    "\n",
    "![Architecture](../resources/images/architecture.jpg)"
   ]
  },
  {
   "cell_type": "markdown",
   "metadata": {},
   "source": [
    "### Imports"
   ]
  },
  {
   "cell_type": "code",
   "execution_count": null,
   "metadata": {
    "tags": [
     "parameters"
    ]
   },
   "outputs": [],
   "source": [
    "from datetime import datetime\n",
    "\n",
    "from contracts_lib_py.account import Account\n",
    "\n",
    "from nevermined_sdk_py import Config, Nevermined\n",
    "\n",
    "PROVIDER_ADDRESS = \"0x068Ed00cF0441e4829D9784fCBe7b9e26D4BD8d0\"\n",
    "PROVIDER_PASSWORD = \"secret\"\n",
    "PROVIDER_KEYFILE = \"../resources/accounts/provider.json\"\n",
    "CONFIG_FILE = \"../config.ini\""
   ]
  },
  {
   "cell_type": "markdown",
   "metadata": {},
   "source": [
    "### Setup Nevermined and Accounts"
   ]
  },
  {
   "cell_type": "code",
   "execution_count": null,
   "metadata": {},
   "outputs": [],
   "source": [
    "nevermined = Nevermined(Config(CONFIG_FILE))\n",
    "\n",
    "provider_account = Account(PROVIDER_ADDRESS, PROVIDER_PASSWORD, PROVIDER_KEYFILE)"
   ]
  },
  {
   "cell_type": "markdown",
   "metadata": {},
   "source": [
    "### Publish compute to the data for both data assets"
   ]
  },
  {
   "cell_type": "code",
   "execution_count": null,
   "metadata": {
    "tags": [
     "compute1_did"
    ]
   },
   "outputs": [],
   "source": [
    "# Asset 1\n",
    "metadata_compute1 = {\n",
    "    \"main\": {\n",
    "        \"name\": \"Credit Card Data Part 1\",\n",
    "        \"dateCreated\": datetime.utcnow().isoformat(timespec=\"seconds\") + \"Z\",\n",
    "        \"author\": \"Nevermined Provider\",\n",
    "        \"license\": \"\",\n",
    "        \"price\": \"1\",\n",
    "        \"files\": [\n",
    "            {\n",
    "                \"index\": 0,\n",
    "                \"contentType\": \"text/text\",\n",
    "                \"checksum\": \"0x52b5c93b82dd9e7ecc3d9fdf4755f7f69a54484941897dc517b4adfe3bbc3377\",\n",
    "                \"checksumType\": \"MD5\",\n",
    "                \"contentLength\": \"12057507\",\n",
    "                \"url\": \"https://github.com/nevermined-io/fl-demo/raw/master/fraud-detection-xain/resources/data/creditcard_part1.csv\"\n",
    "            }\n",
    "        ],\n",
    "        \"type\": \"dataset\"\n",
    "    }\n",
    "}\n",
    "\n",
    "ddo_compute1 = nevermined.assets.create_compute(metadata_compute1, provider_account)\n",
    "print(f\"Compute DID: {ddo_compute1.did}\")"
   ]
  },
  {
   "cell_type": "code",
   "execution_count": null,
   "metadata": {
    "tags": [
     "compute_did",
     "compute2_did"
    ]
   },
   "outputs": [],
   "source": [
    "# Asset 2\n",
    "metadata_compute2 = {\n",
    "    \"main\": {\n",
    "        \"name\": \"Credit Card Data Part 2\",\n",
    "        \"dateCreated\": datetime.utcnow().isoformat(timespec=\"seconds\") + \"Z\",\n",
    "        \"author\": \"Nevermined Provider\",\n",
    "        \"license\": \"\",\n",
    "        \"price\": \"1\",\n",
    "        \"files\": [\n",
    "            {\n",
    "                \"index\": 0,\n",
    "                \"contentType\": \"text/text\",\n",
    "                \"checksum\": \"0x52b5c93b82dd9e7ecc3d9fdf4755f7f69a54484941897dc517b4adfe3bbc3377\",\n",
    "                \"checksumType\": \"MD5\",\n",
    "                \"contentLength\": \"12057507\",\n",
    "                \"url\": \"https://github.com/nevermined-io/fl-demo/raw/master/fraud-detection-xain/resources/data/creditcard_part2.csv\"\n",
    "            }\n",
    "        ],\n",
    "        \"type\": \"dataset\"\n",
    "    }\n",
    "}\n",
    "\n",
    "ddo_compute2 = nevermined.assets.create_compute(metadata_compute2, provider_account)\n",
    "print(f\"Compute DID: {ddo_compute2.did}\")"
   ]
  },
  {
   "cell_type": "markdown",
   "metadata": {},
   "source": [
    "### Publish the coordinator service\n",
    "\n",
    "This service does not provide any data. It only provides compute by hosting the coordinator."
   ]
  },
  {
   "cell_type": "code",
   "execution_count": null,
   "metadata": {
    "tags": [
     "compute3_did"
    ]
   },
   "outputs": [],
   "source": [
    "# Coordinator service\n",
    "metadata_compute_coordinator = {\n",
    "  \"main\": {\n",
    "    \"name\": \"Coordinator\",\n",
    "    \"dateCreated\": datetime.utcnow().isoformat(timespec=\"seconds\") + \"Z\",\n",
    "    \"author\": \"Nevermined Coordinator Provider\",\n",
    "    \"license\": \"\",\n",
    "    \"price\": \"1\",\n",
    "    \"files\": [],\n",
    "    \"type\": \"compute\"\n",
    "  }\n",
    "}\n",
    "\n",
    "ddo_compute_coordinator = nevermined.assets.create_compute(metadata_compute_coordinator, provider_account)\n",
    "print(f\"Compute DID: {ddo_compute_coordinator.did}\")"
   ]
  }
 ],
 "metadata": {
  "kernelspec": {
   "display_name": "Python 3",
   "language": "python",
   "name": "python3"
  },
  "language_info": {
   "codemirror_mode": {
    "name": "ipython",
    "version": 3
   },
   "file_extension": ".py",
   "mimetype": "text/x-python",
   "name": "python",
   "nbconvert_exporter": "python",
   "pygments_lexer": "ipython3",
   "version": "3.8.7"
  }
 },
 "nbformat": 4,
 "nbformat_minor": 4
}