{
 "cells": [
  {
   "cell_type": "markdown",
   "metadata": {},
   "source": [
    "# Federated Fraud Demo with logistic regression\n"
   ]
  },
  {
   "cell_type": "code",
   "execution_count": null,
   "metadata": {},
   "outputs": [],
   "source": [
    "# Libraries\n",
    "import pandas as pd\n",
    "import numpy as np\n",
    "\n",
    "from sklearn.linear_model import LogisticRegression\n",
    "from sklearn.model_selection import train_test_split\n",
    "from sklearn.metrics import accuracy_score, confusion_matrix\n",
    "from xain_sdk import ParticipantABC, run_participant, configure_logging\n",
    "\n",
    "\n",
    "import pathlib\n",
    "import os\n",
    "from io import BytesIO\n",
    "\n",
    "INPUTS_PATH = os.environ.get(\"NEVERMINED_INPUTS_PATH\")\n",
    "COORDINATOR_URL = \"http://172.17.0.2:8081\"\n",
    "np.random.seed(123)"
   ]
  },
  {
   "cell_type": "code",
   "execution_count": null,
   "metadata": {},
   "outputs": [],
   "source": [
    "# get input file path\n",
    "input_file_path = next(pathlib.Path(INPUTS_PATH).rglob(\"*/creditcard*.csv\")).as_posix()\n",
    "\n",
    "# Load target dataset\n",
    "df = pd.read_csv(input_file_path)\n",
    "\n",
    "feature_names = df.iloc[:, 1:30].columns\n",
    "target = df.iloc[:1, 30:].columns\n",
    "\n",
    "data_features = df[feature_names]\n",
    "data_target = df[target]\n",
    "\n",
    "x_train, x_test, y_train, y_test = train_test_split(data_features, data_target, \n",
    "                                                    train_size = 0.70, test_size = 0.30,\n",
    "                                                    random_state = 1)"
   ]
  },
  {
   "cell_type": "code",
   "execution_count": null,
   "metadata": {},
   "outputs": [],
   "source": [
    "\n",
    "class Participant(ParticipantABC):\n",
    "\n",
    "    def __init__(self, x_train, x_test, y_train, y_test):\n",
    "        super(Participant, self).__init__()\n",
    "        self.x_train = x_train\n",
    "        self.x_test = x_test\n",
    "        self.y_train = y_train\n",
    "        self.y_test = y_test\n",
    "        self.round = 1\n",
    "        self.model = LogisticRegression(max_iter=1000)\n",
    "\n",
    "    def get_weights(self):\n",
    "        return self.model.coef_\n",
    "\n",
    "    def set_weights(self, weights):\n",
    "        self.model.coef_ = weights.reshape(1, 29)\n",
    "\n",
    "    def train_round(self, training_input):\n",
    "        # set global model weights\n",
    "        if training_input is not None:\n",
    "            self.set_weights(training_input)\n",
    "\n",
    "        # select a subset of the data to train\n",
    "        x_train = self.x_train.sample(frac=0.1)\n",
    "        y_train = self.y_train.loc[x_train.index, :]\n",
    "\n",
    "        # train\n",
    "        self.model.fit(x_train, y_train)\n",
    "\n",
    "        # check accuracy\n",
    "        pred = self.model.predict(self.x_test)\n",
    "        print(f\"[{self.round}] Accuracy: {accuracy_score(self.y_test, pred)}\")\n",
    "        self.round += 1\n",
    "\n",
    "        return (self.get_weights(), len(x_train))\n",
    "\n",
    "    def serialize_training_result(self, training_result):\n",
    "        (weights, number_of_samples) = training_result\n",
    "\n",
    "        # reshape weights\n",
    "        weights = weights.reshape(29,)\n",
    "\n",
    "        writer = BytesIO()\n",
    "        writer.write(number_of_samples.to_bytes(4, byteorder=\"big\"))\n",
    "        np.save(writer, weights, allow_pickle=False)\n",
    "        return writer.getbuffer()[:]\n",
    "\n",
    "    def deserialize_training_input(self, data):\n",
    "        if not data:\n",
    "            return None\n",
    "\n",
    "        reader = BytesIO(data)\n",
    "        return np.load(reader, allow_pickle=False)"
   ]
  },
  {
   "cell_type": "code",
   "execution_count": null,
   "metadata": {},
   "outputs": [],
   "source": [
    "configure_logging(log_http_requests=True)\n",
    "\n",
    "participant = Participant(x_train, x_test, y_train, y_test)\n",
    "run_participant(participant, COORDINATOR_URL)"
   ]
  }
 ],
 "metadata": {
  "kernelspec": {
   "display_name": "Python 3",
   "language": "python",
   "name": "python3"
  },
  "language_info": {
   "codemirror_mode": {
    "name": "ipython",
    "version": 3
   },
   "file_extension": ".py",
   "mimetype": "text/x-python",
   "name": "python",
   "nbconvert_exporter": "python",
   "pygments_lexer": "ipython3",
   "version": "3.8.7"
  }
 },
 "nbformat": 4,
 "nbformat_minor": 4
}