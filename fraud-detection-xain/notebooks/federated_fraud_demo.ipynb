{
 "cells": [
  {
   "cell_type": "markdown",
   "metadata": {},
   "source": [
    "# Federated Fraud Demo with logistic regression\n"
   ]
  },
  {
   "cell_type": "markdown",
   "metadata": {},
   "source": [
    "# Clone Sherpa framework\n",
    "Go to https://github.com/sherpaai/Sherpa.ai-Federated-Learning-Framework/blob/master/install.md\n",
    "Follow insructions to install Sherpa framework\n",
    "\n",
    "Then copy this notebook into the notebook folder\n"
   ]
  },
  {
   "cell_type": "code",
   "execution_count": null,
   "metadata": {},
   "outputs": [],
   "source": [
    "# Libraries\n",
    "import pandas as pd\n",
    "import numpy as np\n",
    "\n",
    "import shfl\n",
    "from shfl.data_base.data_base import LabeledDatabase\n",
    "from sklearn.datasets import make_classification\n",
    "\n",
    "from shfl.private.reproducibility import Reproducibility\n",
    "\n",
    "from sklearn.linear_model import LogisticRegression\n",
    "from shfl.model.linear_classifier_model import LinearClassifierModel\n",
    "\n",
    "import random\n",
    "import pathlib\n",
    "import os\n",
    "\n",
    "INPUTS_PATH = os.environ.get(\"NEVERMINED_INPUTS_PATH\")"
   ]
  },
  {
   "cell_type": "code",
   "execution_count": null,
   "metadata": {},
   "outputs": [],
   "source": [
    "# get input file path\n",
    "# input_file_path = next(pathlib.Path(INPUTS_PATH).rglob(\"*/creditcard.csv\")).as_posix()\n",
    "input_file_path = \"../resources/data/creditcard.csv\"\n",
    "\n",
    "# Load target dataset\n",
    "data_tmp = pd.read_csv(input_file_path).values\n",
    "\n",
    "# How to separate features from labels\n",
    "print('features: \\n', data_tmp[:, :-1])\n",
    "print('\\n labels: \\n', data_tmp[:, -1])"
   ]
  },
  {
   "cell_type": "code",
   "execution_count": null,
   "metadata": {},
   "outputs": [],
   "source": [
    "def prep_data(dataset):\n",
    "    ''' '''\n",
    "\n",
    "    data = dataset[:, :-1]\n",
    "    labels = dataset[:, -1]\n",
    "\n",
    "    database = LabeledDatabase(data, labels)\n",
    "\n",
    "    train_data, train_labels, test_data, test_labels = database.load_data()\n",
    "\n",
    "    n_features = train_data.shape[1]\n",
    "    n_classes = len(np.unique(train_labels))\n",
    "    n_samples = train_data.shape[0] + test_data.shape[0]\n",
    "\n",
    "    # check results\n",
    "    if False == True:\n",
    "        print(\"Shape of training and test data: \" + str(train_data.shape) + str(test_data.shape))\n",
    "        print(\"Shape of training and test labels: \" + str(train_labels.shape) + str(test_labels.shape))\n",
    "        print(train_data[0,:])\n",
    "\n",
    "    return n_features, n_classes, n_samples, train_data, train_labels, test_data, test_labels, database\n",
    "\n",
    "# Define model builder\n",
    "def model_builder():\n",
    "    ''' '''\n",
    "\n",
    "    sk_model = LogisticRegression(warm_start=True, solver='lbfgs', multi_class='auto')\n",
    "    model = LinearClassifierModel(n_features=n_features, classes=classes, model=sk_model)\n",
    "\n",
    "    return model\n",
    "\n",
    "# Train model on decentralized data\n",
    "def do_decentralized_train(database, model_builder, test_data, test_labels, n_rounds = 3, n_clients = 4):\n",
    "    ''' '''\n",
    "\n",
    "    iid_distribution = shfl.data_distribution.IidDataDistribution(database)\n",
    "    federated_data, test_data, test_labels = iid_distribution.get_federated_data(num_nodes=n_clients, percent=100)\n",
    "    aggregator = shfl.federated_aggregator.FedAvgAggregator()\n",
    "\n",
    "\n",
    "    # Run the federated experiment:\n",
    "    federated_government = shfl.federated_government.FederatedGovernment(model_builder, federated_data, aggregator)\n",
    "    federated_government.run_rounds(n=n_rounds, test_data=test_data, test_label=test_labels)\n",
    "\n",
    "    return "
   ]
  },
  {
   "cell_type": "code",
   "execution_count": null,
   "metadata": {},
   "outputs": [],
   "source": [
    "dset = data_tmp\n",
    "\n",
    "# flag to reduce dataset\n",
    "decrease_dataset = False\n",
    "num_reduced = 40000\n",
    "\n",
    "if decrease_dataset:\n",
    "    dset = data_tmp[0:num_reduced]\n",
    "    n_sample_global = dset.shape[0]"
   ]
  },
  {
   "cell_type": "code",
   "execution_count": null,
   "metadata": {},
   "outputs": [],
   "source": [
    "# Prep data\n",
    "n_features, n_classes, n_samples, train_data, train_labels, test_data, test_labels, database = prep_data(dset)\n"
   ]
  },
  {
   "cell_type": "code",
   "execution_count": null,
   "metadata": {},
   "outputs": [],
   "source": [
    "# Train model with ALL data on DECENTRALIZED fashion \n",
    "classes = np.unique(train_labels)\n",
    "do_decentralized_train(database, model_builder, test_data, test_labels, n_rounds = 3, n_clients = 4)\n"
   ]
  },
  {
   "cell_type": "code",
   "execution_count": null,
   "metadata": {},
   "outputs": [],
   "source": [
    "# Train N (n_splits) data split unilateral models\n",
    "\n",
    "n_splits = 4\n",
    "n_rounds = 3\n",
    "n_sample_global = data_tmp.shape[0]\n",
    "\n",
    "dset = data_tmp\n",
    "\n",
    "# flag to reduce dataset\n",
    "decrease_dataset = False\n",
    "num_reduced = 40000\n",
    "\n",
    "if decrease_dataset:\n",
    "    dset = data_tmp[0:num_reduced]\n",
    "    n_sample_global = dset.shape[0]\n",
    "\n",
    "x = random.sample(range(n_sample_global), n_sample_global)\n",
    "\n",
    "ll = round(len(x) / n_splits)\n",
    "perf = []\n",
    "\n",
    "for j in range(n_rounds):\n",
    "    print('\\nROUND #', j, '\\n')\n",
    "\n",
    "    for i in range(n_splits):\n",
    "        init = ll * i\n",
    "        endit = ll + init\n",
    "        tmp = dset[init:endit]\n",
    "        \n",
    "        print(str('\\n\\nEntity #') + str(i) + str(' with ') + str(len(tmp)) + str(' transactions from a total of ') + str(n_sample_global) + str('\\n\\n'))\n",
    "\n",
    "        # Prep data\n",
    "        n_features, n_classes, n_samples, train_data, train_labels, test_data, test_labels, database = prep_data(tmp)\n",
    "\n",
    "        # Balance check\n",
    "        num_train_positive = len(train_labels[train_labels == 1])\n",
    "        num_train_negative = len(train_labels[train_labels == 0])\n",
    "\n",
    "        num_test_positive = len(test_labels[test_labels == 1])\n",
    "        num_test_negative = len(test_labels[test_labels == 0])\n",
    "\n",
    "        print(100*num_train_positive/num_train_negative, 100*num_test_positive/num_test_negative)\n",
    "\n",
    "        # Train model on centralized data for comparison:\n",
    "        \n",
    "        eva_tmp = do_centralized_train(n_features, np.unique(train_labels), train_data, train_labels, test_data, test_labels)\n",
    "\n",
    "        # Store results\n",
    "        perf.append([j, eva_tmp, round(100 * num_train_positive/num_train_negative, 2), round(100 * num_test_positive/num_test_negative, 2)])\n"
   ]
  },
  {
   "cell_type": "code",
   "execution_count": null,
   "metadata": {},
   "outputs": [],
   "source": [
    "# Summary for unilateral training\n",
    "perf"
   ]
  },
  {
   "cell_type": "code",
   "execution_count": null,
   "metadata": {},
   "outputs": [],
   "source": []
  }
 ],
 "metadata": {
  "kernelspec": {
   "display_name": "Python 3",
   "language": "python",
   "name": "python3"
  },
  "language_info": {
   "codemirror_mode": {
    "name": "ipython",
    "version": 3
   },
   "file_extension": ".py",
   "mimetype": "text/x-python",
   "name": "python",
   "nbconvert_exporter": "python",
   "pygments_lexer": "ipython3",
   "version": "3.8.6"
  }
 },
 "nbformat": 4,
 "nbformat_minor": 4
}
