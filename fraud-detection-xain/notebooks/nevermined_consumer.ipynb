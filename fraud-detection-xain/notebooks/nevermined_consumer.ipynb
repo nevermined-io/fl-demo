{
 "cells": [
  {
   "cell_type": "markdown",
   "metadata": {},
   "source": [
    "### Imports"
   ]
  },
  {
   "cell_type": "code",
   "execution_count": null,
   "metadata": {
    "tags": [
     "parameters"
    ]
   },
   "outputs": [],
   "source": [
    "from datetime import datetime\n",
    "import time\n",
    "\n",
    "from contracts_lib_py.account import Account\n",
    "from common_utils_py.agreements.service_types import ServiceTypesIndices\n",
    "\n",
    "\n",
    "from nevermined_sdk_py import Config, Nevermined\n",
    "from nevermined_sdk_py.nevermined.keeper import NeverminedKeeper as Keeper\n",
    "\n",
    "CONSUMER_ADDRESS = \"0x00Bd138aBD70e2F00903268F3Db08f2D25677C9e\"\n",
    "CONSUMER_PASSWORD = \"node0\"\n",
    "CONSUMER_KEYFILE = \"../resources/accounts/consumer.json\"\n",
    "CONFIG_FILE = \"../config.ini\"\n",
    "\n",
    "PROVIDER_ADDRESS = \"0x068Ed00cF0441e4829D9784fCBe7b9e26D4BD8d0\"\n",
    "ASSET_COMPUTE_DID_1 = \"did:nv:52eee7920b94249f44c77c6601a9817055970a86e1da6ac681fe015b3c46b5f6\"\n",
    "ASSET_COMPUTE_DID_2 = \"did:nv:4c8388b496dc526027da9d4bb843734406bddc7416dfe0ab2e851edc57217a06\"\n",
    "ASSET_COORDINATOR_DID = \"did:nv:09aba45b1f9d096fb0210e409a8335217b34ae2019f4e7b682502016e4e4bb4e\""
   ]
  },
  {
   "cell_type": "markdown",
   "metadata": {},
   "source": [
    "### Setup Nevermined and accounts"
   ]
  },
  {
   "cell_type": "code",
   "execution_count": null,
   "metadata": {},
   "outputs": [],
   "source": [
    "nevermined = Nevermined(Config(CONFIG_FILE))\n",
    "consumer_account = Account(CONSUMER_ADDRESS, CONSUMER_PASSWORD, CONSUMER_KEYFILE)\n",
    "\n",
    "nevermined.accounts.request_tokens(consumer_account, 10)\n"
   ]
  },
  {
   "cell_type": "markdown",
   "metadata": {},
   "source": [
    "### Publish algorithm"
   ]
  },
  {
   "cell_type": "code",
   "execution_count": null,
   "metadata": {},
   "outputs": [],
   "source": [
    "metadata_algorithm = {\n",
    "    \"main\": {\n",
    "        \"name\": \"Fraud Demo Algorithm\",\n",
    "        \"dateCreated\": datetime.utcnow().isoformat(timespec=\"seconds\") + \"Z\",\n",
    "        \"author\": \"Nevermined Consumer\",\n",
    "        \"license\": \"\",\n",
    "        \"price\": \"0\",\n",
    "        \"files\": [\n",
    "            {\n",
    "                \"index\": 0,\n",
    "                \"contentType\": \"text/text\",\n",
    "                \"checksum\": \"0x52b5c93b82dd9e7ecc3d9fdf4755f7f69a54484941897dc517b4adfe3bbc3377\",\n",
    "                \"checksumType\": \"MD5\",\n",
    "                \"contentLength\": \"12057507\",\n",
    "                \"url\": \"https://raw.githubusercontent.com/nevermined-io/fl-demo/master/fraud-detection-xain/notebooks/federated_fraud_demo.ipynb\"\n",
    "            }\n",
    "        ],\n",
    "        \"type\": \"algorithm\",\n",
    "        \"algorithm\": {\n",
    "            \"language\": \"python\",\n",
    "            \"format\": \"py\",\n",
    "            \"version\": \"0.1.0\",\n",
    "            \"entrypoint\": (\n",
    "                \"pip install jupyter pandas papermill scikit-learn xain-sdk && \"\n",
    "                \"papermill --stdout-file - federated_fraud_demo.ipynb $NEVERMINED_OUTPUTS_PATH/federated_fraud_demo_output.ipynb\"\n",
    "            ),\n",
    "            \"requirements\": {\n",
    "                \"container\": {\n",
    "                    \"image\": \"python\",\n",
    "                    \"tag\": \"3.8-slim-buster\",\n",
    "                    \"checksum\": \"sha256:53ad3a03b2fb240b6c494339821e6638cd44c989bcf26ec4d51a6a52f7518c1d\"\n",
    "                }\n",
    "            }           \n",
    "        }\n",
    "    }\n",
    "}\n",
    "\n",
    "ddo_algorithm = nevermined.assets.create(metadata_algorithm, consumer_account, providers=[PROVIDER_ADDRESS])\n",
    "print(f\"Algorithm DID: {ddo_algorithm.did}\")"
   ]
  },
  {
   "cell_type": "markdown",
   "metadata": {},
   "source": [
    "### Publish the workflows:\n",
    "\n",
    "- Two for the compute to the data assets\n",
    "- One for the coordinator service"
   ]
  },
  {
   "cell_type": "code",
   "execution_count": null,
   "metadata": {},
   "outputs": [],
   "source": [
    "# Compute asset 1\n",
    "metadata_workflow1 = {\n",
    "    \"main\": {\n",
    "        \"name\": \"Fraud Demo Workflow 1\",\n",
    "        \"dateCreated\": datetime.utcnow().isoformat(timespec=\"seconds\") + \"Z\",\n",
    "        \"author\": \"Nevermined Consumer\",\n",
    "        \"license\": \"\",\n",
    "        \"price\": \"0\",\n",
    "        \"type\": \"workflow\",\n",
    "        \"workflow\": {\n",
    "            \"stages\": [\n",
    "                {\n",
    "                    \"index\": 0,\n",
    "                    \"input\": [\n",
    "                        {\n",
    "                            \"index\": 0,\n",
    "                            \"id\": ASSET_COMPUTE_DID_1\n",
    "                        }\n",
    "                    ],\n",
    "                    \"transformation\": {\n",
    "                        \"id\": ddo_algorithm.did\n",
    "                    }\n",
    "                }\n",
    "            ]\n",
    "        }\n",
    "    }\n",
    "}\n",
    "\n",
    "ddo_workflow1 = nevermined.assets.create(metadata_workflow1, consumer_account, providers=[PROVIDER_ADDRESS])\n",
    "print(f\"Workflow DID: {ddo_workflow1.did}\")\n",
    "\n",
    "# Compute asset 2\n",
    "metadata_workflow2 = {\n",
    "    \"main\": {\n",
    "        \"name\": \"Fraud Demo Workflow 2\",\n",
    "        \"dateCreated\": datetime.utcnow().isoformat(timespec=\"seconds\") + \"Z\",\n",
    "        \"author\": \"Nevermined Consumer\",\n",
    "        \"license\": \"\",\n",
    "        \"price\": \"0\",\n",
    "        \"type\": \"workflow\",\n",
    "        \"workflow\": {\n",
    "            \"stages\": [\n",
    "                {\n",
    "                    \"index\": 0,\n",
    "                    \"input\": [\n",
    "                        {\n",
    "                            \"index\": 0,\n",
    "                            \"id\": ASSET_COMPUTE_DID_2\n",
    "                        }\n",
    "                    ],\n",
    "                    \"transformation\": {\n",
    "                        \"id\": ddo_algorithm.did\n",
    "                    }\n",
    "                }\n",
    "            ]\n",
    "        }\n",
    "    }\n",
    "}\n",
    "\n",
    "ddo_workflow2 = nevermined.assets.create(metadata_workflow2, consumer_account, providers=[PROVIDER_ADDRESS])\n",
    "print(f\"Workflow DID: {ddo_workflow2.did}\")\n",
    "\n",
    "# Coordinator service\n",
    "metadata_workflow_coordinator = {\n",
    "  \"main\": {\n",
    "    \"author\": \"Nevermined Consumer\",\n",
    "    \"checksum\": \"0x52b5c93b82dd9e7ecc3d9fdf4755f7f69a54484941897dc517b4adfe3bbc3377\",\n",
    "    \"dateCreated\": datetime.utcnow().isoformat(timespec=\"seconds\") + \"Z\",\n",
    "    \"datePublished\": datetime.utcnow().isoformat(timespec=\"seconds\") + \"Z\",\n",
    "    \"license\": \"\",\n",
    "    \"name\": \"My workflow\",\n",
    "    \"price\": \"0\",\n",
    "    \"type\": \"fl-coordinator\",\n",
    "    \"parameters\": {\n",
    "      \"minParticipants\": 2,\n",
    "      \"participantsRatio\": 1,\n",
    "      \"rounds\": 10\n",
    "    },\n",
    "    \"workflow\": {\n",
    "      \"stages\": [\n",
    "        {\n",
    "          \"input\": [],\n",
    "          \"index\": 0,\n",
    "          \"requirements\": {\n",
    "            \"serverInstances\": 1,\n",
    "            \"container\": {\n",
    "              \"image\": \"rmarques/xain-fl\",\n",
    "              \"tag\": \"latest\",\n",
    "              \"checksum\": \"sha256:cb57ecfa6ebbefd8ffc7f75c0f00e57a7fa739578a429b6f72a0df19315deadc\"\n",
    "            }\n",
    "          }\n",
    "        }\n",
    "      ]\n",
    "    }\n",
    "  }\n",
    "}\n",
    "\n",
    "ddo_workflow_coordinator = nevermined.assets.create(metadata_workflow_coordinator, consumer_account, providers=[PROVIDER_ADDRESS])\n",
    "print(f\"Workflow DID: {ddo_workflow_coordinator.did}\")"
   ]
  },
  {
   "cell_type": "markdown",
   "metadata": {},
   "source": [
    "### Order computations:\n",
    "\n",
    "- One for each data asset\n",
    "- One for the coordinator service\n",
    "\n",
    "In between we want for the blockchain to process the request."
   ]
  },
  {
   "cell_type": "code",
   "execution_count": null,
   "metadata": {},
   "outputs": [],
   "source": [
    "keeper = Keeper.get_instance()\n",
    "\n",
    "service_agreement_id1 = nevermined.assets.order(ASSET_COMPUTE_DID_1, ServiceTypesIndices.DEFAULT_COMPUTING_INDEX, consumer_account, consumer_account)\n",
    "print(f\"Service Agreement ID: {service_agreement_id1}\")\n",
    "\n",
    "event = keeper.lock_reward_condition.subscribe_condition_fulfilled(\n",
    "        service_agreement_id1, 60, None, (), wait=True\n",
    "    )\n",
    "assert event is not None, \"Reward condition is not found\"\n",
    "\n",
    "service_agreement_id2 = nevermined.assets.order(ASSET_COMPUTE_DID_2, ServiceTypesIndices.DEFAULT_COMPUTING_INDEX, consumer_account, consumer_account)\n",
    "print(f\"Service Agreement ID: {service_agreement_id2}\")\n",
    "\n",
    "event = keeper.lock_reward_condition.subscribe_condition_fulfilled(\n",
    "        service_agreement_id2, 60, None, (), wait=True\n",
    "    )\n",
    "assert event is not None, \"Reward condition is not found\"\n",
    "\n",
    "service_agreement_id_coordinator = nevermined.assets.order(ASSET_COORDINATOR_DID, ServiceTypesIndices.DEFAULT_COMPUTING_INDEX, consumer_account, consumer_account)\n",
    "print(f\"Service Agreement ID: {service_agreement_id_coordinator}\")\n",
    "\n",
    "event = keeper.lock_reward_condition.subscribe_condition_fulfilled(\n",
    "        service_agreement_id_coordinator, 60, None, (), wait=True\n",
    "    )\n",
    "assert event is not None, \"Reward condition is not found\"\n"
   ]
  },
  {
   "cell_type": "markdown",
   "metadata": {},
   "source": [
    "### Execute workflows\n",
    "\n",
    "This orders the Nevermined to start the execution of the workflows:\n",
    "- One for each data asset\n",
    "- One for the coordinator service"
   ]
  },
  {
   "cell_type": "code",
   "execution_count": null,
   "metadata": {},
   "outputs": [],
   "source": [
    "execution_id1 = nevermined.assets.execute(\n",
    "    service_agreement_id1,\n",
    "    ASSET_COMPUTE_DID_1,\n",
    "    ServiceTypesIndices.DEFAULT_COMPUTING_INDEX,\n",
    "    consumer_account,\n",
    "    ddo_workflow1.did\n",
    ")\n",
    "print(f\"Execution ID: {execution_id1}\")\n",
    "\n",
    "execution_id2 = nevermined.assets.execute(\n",
    "    service_agreement_id2,\n",
    "    ASSET_COMPUTE_DID_2,\n",
    "    ServiceTypesIndices.DEFAULT_COMPUTING_INDEX,\n",
    "    consumer_account,\n",
    "    ddo_workflow2.did\n",
    ")\n",
    "print(f\"Execution ID: {execution_id2}\")\n",
    "\n",
    "execution_id_coordinator = nevermined.assets.execute(\n",
    "    service_agreement_id_coordinator,\n",
    "    ASSET_COORDINATOR_DID,\n",
    "    ServiceTypesIndices.DEFAULT_COMPUTING_INDEX,\n",
    "    consumer_account,\n",
    "    ddo_workflow_coordinator.did\n",
    ")\n",
    "print(f\"Execution ID: {execution_id_coordinator}\")"
   ]
  },
  {
   "cell_type": "markdown",
   "metadata": {},
   "source": [
    "### Wait for compute jobs to finish"
   ]
  },
  {
   "cell_type": "code",
   "execution_count": null,
   "metadata": {},
   "outputs": [],
   "source": [
    "succeeded = set()\n",
    "failed = set()\n",
    "outputs = set()\n",
    "while len(succeeded) < 3:\n",
    "    for job_id in [execution_id1, execution_id2, execution_id_coordinator]:\n",
    "        result = nevermined.assets.compute_status(service_agreement_id_coordinator, job_id, consumer_account)\n",
    "        status = result[\"status\"]\n",
    "        print(f\"{job_id}: {status}\")\n",
    "\n",
    "        if status == \"Succeeded\":\n",
    "            succeeded.add(job_id)\n",
    "            outputs.add(result[\"did\"])\n",
    "        elif status == \"Failed\":\n",
    "            raise Exception(\"Some jobs failed\")\n",
    "    print()\n",
    "    time.sleep(10)\n",
    "\n",
    "for did in outputs:\n",
    "    print(f\"Output DID: {did}\")"
   ]
  },
  {
   "source": [
    "### Download the results"
   ],
   "cell_type": "markdown",
   "metadata": {}
  },
  {
   "cell_type": "code",
   "execution_count": null,
   "metadata": {},
   "outputs": [],
   "source": [
    "for did in outputs:\n",
    "    print(f\"Downloading: {did}\")\n",
    "    nevermined.assets.download(did, ServiceTypesIndices.DEFAULT_ACCESS_INDEX, consumer_account, \"./\")"
   ]
  }
 ],
 "metadata": {
  "kernelspec": {
   "display_name": "Python 3",
   "language": "python",
   "name": "python3"
  },
  "language_info": {
   "codemirror_mode": {
    "name": "ipython",
    "version": 3
   },
   "file_extension": ".py",
   "mimetype": "text/x-python",
   "name": "python",
   "nbconvert_exporter": "python",
   "pygments_lexer": "ipython3",
   "version": "3.8.7"
  }
 },
 "nbformat": 4,
 "nbformat_minor": 4
}