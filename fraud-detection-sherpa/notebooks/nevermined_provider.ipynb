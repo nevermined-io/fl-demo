{
 "metadata": {
  "language_info": {
   "codemirror_mode": {
    "name": "ipython",
    "version": 3
   },
   "file_extension": ".py",
   "mimetype": "text/x-python",
   "name": "python",
   "nbconvert_exporter": "python",
   "pygments_lexer": "ipython3",
   "version": "3.8.6-final"
  },
  "orig_nbformat": 2,
  "kernelspec": {
   "name": "python3",
   "display_name": "Python 3",
   "language": "python"
  }
 },
 "nbformat": 4,
 "nbformat_minor": 2,
 "cells": [
  {
   "source": [
    "Imports"
   ],
   "cell_type": "markdown",
   "metadata": {}
  },
  {
   "cell_type": "code",
   "execution_count": 19,
   "metadata": {},
   "outputs": [],
   "source": [
    "from datetime import datetime\n",
    "\n",
    "from nevermined_sdk_py import Config, Nevermined\n",
    "from contracts_lib_py.account import Account\n",
    "\n",
    "PROVIDER_ADDRESS = \"0x068ed00cf0441e4829d9784fcbe7b9e26d4bd8d0\"\n",
    "PROVIDER_PASSWORD = \"secret\"\n",
    "PROVIDER_KEYFILE = \"resources/accounts/provider.json\""
   ]
  },
  {
   "source": [
    "Setup Nevermined and Accounts"
   ],
   "cell_type": "markdown",
   "metadata": {}
  },
  {
   "cell_type": "code",
   "execution_count": 23,
   "metadata": {},
   "outputs": [],
   "source": [
    "nevermined = Nevermined(Config(\"../config.ini\"))\n",
    "\n",
    "provider_account = Account(PROVIDER_ADDRESS, PROVIDER_PASSWORD, PROVIDER_KEYFILE)"
   ]
  },
  {
   "source": [
    "Publish compute to the data"
   ],
   "cell_type": "markdown",
   "metadata": {}
  },
  {
   "cell_type": "code",
   "execution_count": null,
   "metadata": {},
   "outputs": [],
   "source": [
    "metadata = {\n",
    "    \"main\": {\n",
    "        \"name\": \"Credit Card Data\",\n",
    "        \"dateCreated\": datetime.utcnow().isoformat(timespec=\"seconds\") + \"Z\",\n",
    "        \"author\": \"Nevermined\",\n",
    "        \"license\": \"\",\n",
    "        \"price\": \"1\",\n",
    "        \"files\": [\n",
    "            {\n",
    "                \"index\": 0,\n",
    "                \"contentType\": \"text/text\",\n",
    "                \"checksum\": \"0x52b5c93b82dd9e7ecc3d9fdf4755f7f69a54484941897dc517b4adfe3bbc3377\",\n",
    "                \"checksumType\": \"MD5\",\n",
    "                \"contentLength\": \"12057507\",\n",
    "                \"url\": \"https://raw.githubusercontent.com/nevermined-io/fl-demo\"\n",
    "            }\n",
    "        ],\n",
    "        \"type\": \"dataset\"\n",
    "    }\n",
    "}"
   ]
  }
 ]
}