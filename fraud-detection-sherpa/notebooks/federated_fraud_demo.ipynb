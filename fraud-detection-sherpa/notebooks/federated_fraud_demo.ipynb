{
 "cells": [
  {
   "cell_type": "markdown",
   "metadata": {},
   "source": [
    "# Federated Fraud Demo with logistic regression\n"
   ]
  },
  {
   "cell_type": "markdown",
   "metadata": {},
   "source": [
    "# Clone Sherpa framework\n",
    "Go to https://github.com/sherpaai/Sherpa.ai-Federated-Learning-Framework/blob/master/install.md\n",
    "Follow insructions to install Sherpa framework\n",
    "\n",
    "Then copy this notebook into the notebook folder\n"
   ]
  },
  {
   "cell_type": "code",
   "execution_count": 1,
   "metadata": {},
   "outputs": [],
   "source": [
    "# Libraries\n",
    "import pandas as pd\n",
    "import numpy as np\n",
    "\n",
    "import shfl\n",
    "from shfl.data_base.data_base import LabeledDatabase\n",
    "from sklearn.datasets import make_classification\n",
    "\n",
    "from shfl.private.reproducibility import Reproducibility\n",
    "\n",
    "from sklearn.linear_model import LogisticRegression\n",
    "from shfl.model.linear_classifier_model import LinearClassifierModel\n",
    "\n",
    "import random"
   ]
  },
  {
   "cell_type": "code",
   "execution_count": 2,
   "metadata": {},
   "outputs": [
    {
     "output_type": "stream",
     "name": "stdout",
     "text": "/bin/bash: wget: command not found\n"
    }
   ],
   "source": [
    "# Download data from kaggle\n",
    "! wget https://www.kaggle.com/mlg-ulb/creditcardfraud/download"
   ]
  },
  {
   "cell_type": "code",
   "execution_count": 2,
   "metadata": {},
   "outputs": [
    {
     "output_type": "stream",
     "name": "stdout",
     "text": "features: \n [[ 0.00000000e+00 -1.35980713e+00 -7.27811733e-02 ...  1.33558377e-01\n  -2.10530535e-02  1.49620000e+02]\n [ 0.00000000e+00  1.19185711e+00  2.66150712e-01 ... -8.98309914e-03\n   1.47241692e-02  2.69000000e+00]\n [ 1.00000000e+00 -1.35835406e+00 -1.34016307e+00 ... -5.53527940e-02\n  -5.97518406e-02  3.78660000e+02]\n ...\n [ 1.72788000e+05  1.91956501e+00 -3.01253846e-01 ...  4.45477214e-03\n  -2.65608286e-02  6.78800000e+01]\n [ 1.72788000e+05 -2.40440050e-01  5.30482513e-01 ...  1.08820735e-01\n   1.04532821e-01  1.00000000e+01]\n [ 1.72792000e+05 -5.33412522e-01 -1.89733337e-01 ... -2.41530880e-03\n   1.36489143e-02  2.17000000e+02]]\n\n labels: \n [0. 0. 0. ... 0. 0. 0.]\n"
    }
   ],
   "source": [
    "# Load target dataset\n",
    "data_tmp = pd.read_csv('./creditcard.csv').values\n",
    "\n",
    "# How to separate features from labels\n",
    "print('features: \\n', data_tmp[:, :-1])\n",
    "print('\\n labels: \\n', data_tmp[:, -1])"
   ]
  },
  {
   "cell_type": "code",
   "execution_count": 3,
   "metadata": {},
   "outputs": [],
   "source": [
    "def prep_data(dataset):\n",
    "    ''' '''\n",
    "\n",
    "    data = dataset[:, :-1]\n",
    "    labels = dataset[:, -1]\n",
    "\n",
    "    database = LabeledDatabase(data, labels)\n",
    "\n",
    "    train_data, train_labels, test_data, test_labels = database.load_data()\n",
    "\n",
    "    n_features = train_data.shape[1]\n",
    "    n_classes = len(np.unique(train_labels))\n",
    "    n_samples = train_data.shape[0] + test_data.shape[0]\n",
    "\n",
    "    # check results\n",
    "    if False == True:\n",
    "        print(\"Shape of training and test data: \" + str(train_data.shape) + str(test_data.shape))\n",
    "        print(\"Shape of training and test labels: \" + str(train_labels.shape) + str(test_labels.shape))\n",
    "        print(train_data[0,:])\n",
    "\n",
    "    return n_features, n_classes, n_samples, train_data, train_labels, test_data, test_labels, database\n",
    "\n",
    "# Define model builder\n",
    "def model_builder():\n",
    "    ''' '''\n",
    "\n",
    "    sk_model = LogisticRegression(warm_start=True, solver='lbfgs', multi_class='auto')\n",
    "    model = LinearClassifierModel(n_features=n_features, classes=classes, model=sk_model)\n",
    "\n",
    "    return model\n",
    "\n",
    "# Train model on centralize data for comparison purpose\n",
    "def do_centralized_train(n_features, classes, train_data, train_labels, test_data, test_labels):\n",
    "    ''' '''\n",
    "\n",
    "    model_centralized = LinearClassifierModel(n_features=n_features, classes=classes)\n",
    "    model_centralized.train(train_data, train_labels)\n",
    "    y_score = model_centralized.predict(test_data)\n",
    "\n",
    "    t1 = np.array(y_score) == np.array(test_labels)\n",
    "    t3 = np.array(y_score) != np.array(test_labels)\n",
    "    t2 = np.array(y_score) == 1\n",
    "\n",
    "    num_fraud = len(test_labels[test_labels == 1])\n",
    "    num_detec = len(y_score[t1 & t2])\n",
    "    num_fake = len(y_score[t3 & t2])\n",
    "\n",
    "    print(len(test_labels), num_fraud, num_detec, num_fake)\n",
    "    # print('\\n\\nCohen kappa: ' + str(model_centralized.evaluate(test_data, test_labels)[1]))\n",
    "    # print('\\nCentralized test overrall accuracy: ' + str(len(test_score[np.array(test_score)==np.array(test_labels)]) / len(test_score)) )\n",
    "    # print('\\nBalanced Accuracy: ' + str(model_centralized.performance(test_data, test_labels)) + '\\n\\n')\n",
    "\n",
    "    return num_fraud, num_detec, num_fake\n",
    "\n",
    "# Train model on decentralized data\n",
    "def do_decentralized_train(database, model_builder, test_data, test_labels, n_rounds = 3, n_clients = 4):\n",
    "    ''' '''\n",
    "\n",
    "    iid_distribution = shfl.data_distribution.IidDataDistribution(database)\n",
    "    federated_data, test_data, test_labels = iid_distribution.get_federated_data(num_nodes=n_clients, percent=100)\n",
    "    aggregator = shfl.federated_aggregator.FedAvgAggregator()\n",
    "\n",
    "\n",
    "    # Run the federated experiment:\n",
    "    federated_government = shfl.federated_government.FederatedGovernment(model_builder, federated_data, aggregator)\n",
    "    federated_government.run_rounds(n=n_rounds, test_data=test_data, test_label=test_labels)\n",
    "\n",
    "    return "
   ]
  },
  {
   "cell_type": "code",
   "execution_count": 4,
   "metadata": {},
   "outputs": [],
   "source": [
    "dset = data_tmp\n",
    "\n",
    "# flag to reduce dataset\n",
    "decrease_dataset = False\n",
    "num_reduced = 40000\n",
    "\n",
    "if decrease_dataset:\n",
    "    dset = data_tmp[0:num_reduced]\n",
    "    n_sample_global = dset.shape[0]"
   ]
  },
  {
   "cell_type": "code",
   "execution_count": 5,
   "metadata": {},
   "outputs": [],
   "source": [
    "# Prep data\n",
    "n_features, n_classes, n_samples, train_data, train_labels, test_data, test_labels, database = prep_data(dset)\n"
   ]
  },
  {
   "cell_type": "code",
   "execution_count": 6,
   "metadata": {},
   "outputs": [
    {
     "output_type": "stream",
     "name": "stdout",
     "text": "56961 103 77 31\n"
    },
    {
     "output_type": "execute_result",
     "data": {
      "text/plain": "(103, 77, 31)"
     },
     "metadata": {},
     "execution_count": 6
    }
   ],
   "source": [
    "# Train model with ALL data on CENTRALIZED fashion\n",
    "do_centralized_train(n_features, np.unique(train_labels), train_data, train_labels, test_data, test_labels)\n"
   ]
  },
  {
   "cell_type": "code",
   "execution_count": 7,
   "metadata": {},
   "outputs": [
    {
     "output_type": "stream",
     "name": "stdout",
     "text": "Accuracy round 0\nTest performance client <shfl.private.federated_operation.FederatedDataNode object at 0x7fe8088c9c50>: (0.8054559015527355, 0.6050481902221312)\nTest performance client <shfl.private.federated_operation.FederatedDataNode object at 0x7fe8088c9d50>: (0.8589155166661145, 0.6975508239335391)\nTest performance client <shfl.private.federated_operation.FederatedDataNode object at 0x7fe8088c92d0>: (0.8977944373088194, 0.76234296390171)\nTest performance client <shfl.private.federated_operation.FederatedDataNode object at 0x7fe8088c9f50>: (0.8444227605682287, 0.7059491697110494)\nGlobal model test performance : (0.8784121369297795, 0.7531747092464312)\n\n\n\nAccuracy round 1\nTest performance client <shfl.private.federated_operation.FederatedDataNode object at 0x7fe8088c9c50>: (0.820238854280823, 0.709208133982148)\nTest performance client <shfl.private.federated_operation.FederatedDataNode object at 0x7fe8088c9d50>: (0.7523040707441158, 0.6148406298967847)\nTest performance client <shfl.private.federated_operation.FederatedDataNode object at 0x7fe8088c92d0>: (0.9026663939154159, 0.7752793917342852)\nTest performance client <shfl.private.federated_operation.FederatedDataNode object at 0x7fe8088c9f50>: (0.7669111467266264, 0.6582089233283748)\nGlobal model test performance : (0.8348107549142183, 0.733606967552065)\n\n\n\nAccuracy round 2\nTest performance client <shfl.private.federated_operation.FederatedDataNode object at 0x7fe8088c9c50>: (0.8493738617103348, 0.753515998778429)\nTest performance client <shfl.private.federated_operation.FederatedDataNode object at 0x7fe8088c9d50>: (0.8299475921449007, 0.7229512462541476)\nTest performance client <shfl.private.federated_operation.FederatedDataNode object at 0x7fe8088c92d0>: (0.9075999073829643, 0.8151998147659285)\nTest performance client <shfl.private.federated_operation.FederatedDataNode object at 0x7fe8088c9f50>: (0.8639193808318937, 0.7649026962105114)\nGlobal model test performance : (0.873645706370529, 0.785345940018293)\n\n\n\n"
    }
   ],
   "source": [
    "# Train model with ALL data on DECENTRALIZED fashion \n",
    "classes = np.unique(train_labels)\n",
    "do_decentralized_train(database, model_builder, test_data, test_labels, n_rounds = 3, n_clients = 4)\n"
   ]
  },
  {
   "cell_type": "code",
   "execution_count": 8,
   "metadata": {},
   "outputs": [
    {
     "output_type": "stream",
     "name": "stdout",
     "text": "\nROUND # 0 \n\n\n\nEntity #0 with 71202 transactions from a total of 284807\n\n\n0.235799253888928 0.3028808903289427\n14240 43 20 9\n\n\nEntity #1 with 71202 transactions from a total of 284807\n\n\n0.12480005624791267 0.14768971095013714\n14240 21 17 1\n\n\nEntity #2 with 71202 transactions from a total of 284807\n\n\n0.17762614094018747 0.19701660568533633\n14240 28 18 4\n\n\nEntity #3 with 71201 transactions from a total of 284807\n\n\n0.13184263263368842 0.13360523169959918\n14240 19 0 0\n\nROUND # 1 \n\n\n\nEntity #0 with 71202 transactions from a total of 284807\n\n\n0.24461925628706685 0.2675679481763132\n14240 38 19 13\n\n\nEntity #1 with 71202 transactions from a total of 284807\n\n\n0.11952051182901537 0.16882386043894204\n14240 24 0 0\n\n\nEntity #2 with 71202 transactions from a total of 284807\n\n\n0.1811498619391829 0.18291824961305755\n14240 26 20 2\n\n\nEntity #3 with 71201 transactions from a total of 284807\n\n\n0.14240506329113925 0.0913755535249877\n14240 13 9 2\n\nROUND # 2 \n\n\n\nEntity #0 with 71202 transactions from a total of 284807\n\n\n0.2516763758601876 0.23933549204561452\n14240 34 15 9\n\n\nEntity #1 with 71202 transactions from a total of 284807\n\n\n0.13360053440213762 0.1124859392575928\n14240 16 0 0\n\n\nEntity #2 with 71202 transactions from a total of 284807\n\n\n0.17234102419808667 0.21817158139207546\n14240 31 24 5\n\n\nEntity #3 with 71201 transactions from a total of 284807\n\n\n0.13360288300958073 0.12656447756996203\n14240 18 0 0\n"
    }
   ],
   "source": [
    "# Train N (n_splits) data split unilateral models\n",
    "\n",
    "n_splits = 4\n",
    "n_rounds = 3\n",
    "n_sample_global = data_tmp.shape[0]\n",
    "\n",
    "dset = data_tmp\n",
    "\n",
    "# flag to reduce dataset\n",
    "decrease_dataset = False\n",
    "num_reduced = 40000\n",
    "\n",
    "if decrease_dataset:\n",
    "    dset = data_tmp[0:num_reduced]\n",
    "    n_sample_global = dset.shape[0]\n",
    "\n",
    "x = random.sample(range(n_sample_global), n_sample_global)\n",
    "\n",
    "ll = round(len(x) / n_splits)\n",
    "perf = []\n",
    "\n",
    "for j in range(n_rounds):\n",
    "    print('\\nROUND #', j, '\\n')\n",
    "\n",
    "    for i in range(n_splits):\n",
    "        init = ll * i\n",
    "        endit = ll + init\n",
    "        tmp = dset[init:endit]\n",
    "        \n",
    "        print(str('\\n\\nEntity #') + str(i) + str(' with ') + str(len(tmp)) + str(' transactions from a total of ') + str(n_sample_global) + str('\\n\\n'))\n",
    "\n",
    "        # Prep data\n",
    "        n_features, n_classes, n_samples, train_data, train_labels, test_data, test_labels, database = prep_data(tmp)\n",
    "\n",
    "        # Balance check\n",
    "        num_train_positive = len(train_labels[train_labels == 1])\n",
    "        num_train_negative = len(train_labels[train_labels == 0])\n",
    "\n",
    "        num_test_positive = len(test_labels[test_labels == 1])\n",
    "        num_test_negative = len(test_labels[test_labels == 0])\n",
    "\n",
    "        print(100*num_train_positive/num_train_negative, 100*num_test_positive/num_test_negative)\n",
    "\n",
    "        # Train model on centralized data for comparison:\n",
    "        \n",
    "        eva_tmp = do_centralized_train(n_features, np.unique(train_labels), train_data, train_labels, test_data, test_labels)\n",
    "\n",
    "        # Store results\n",
    "        perf.append([j, eva_tmp, round(100 * num_train_positive/num_train_negative, 2), round(100 * num_test_positive/num_test_negative, 2)])\n"
   ]
  },
  {
   "cell_type": "code",
   "execution_count": 9,
   "metadata": {},
   "outputs": [
    {
     "output_type": "execute_result",
     "data": {
      "text/plain": "[[0, (43, 20, 9), 0.24, 0.3],\n [0, (21, 17, 1), 0.12, 0.15],\n [0, (28, 18, 4), 0.18, 0.2],\n [0, (19, 0, 0), 0.13, 0.13],\n [1, (38, 19, 13), 0.24, 0.27],\n [1, (24, 0, 0), 0.12, 0.17],\n [1, (26, 20, 2), 0.18, 0.18],\n [1, (13, 9, 2), 0.14, 0.09],\n [2, (34, 15, 9), 0.25, 0.24],\n [2, (16, 0, 0), 0.13, 0.11],\n [2, (31, 24, 5), 0.17, 0.22],\n [2, (18, 0, 0), 0.13, 0.13]]"
     },
     "metadata": {},
     "execution_count": 9
    }
   ],
   "source": [
    "# Summary for unilateral training\n",
    "perf"
   ]
  },
  {
   "cell_type": "code",
   "execution_count": null,
   "metadata": {},
   "outputs": [],
   "source": []
  }
 ],
 "metadata": {
  "kernelspec": {
   "display_name": "Python 3.7.6 64-bit ('base': conda)",
   "language": "python",
   "name": "python_defaultSpec_1605810716164"
  },
  "language_info": {
   "codemirror_mode": {
    "name": "ipython",
    "version": 3
   },
   "file_extension": ".py",
   "mimetype": "text/x-python",
   "name": "python",
   "nbconvert_exporter": "python",
   "pygments_lexer": "ipython3",
   "version": "3.7.3"
  }
 },
 "nbformat": 4,
 "nbformat_minor": 4
}