{
 "cells": [
  {
   "cell_type": "markdown",
   "metadata": {},
   "source": [
    "# Federated Fraud Demo with logistic regression\n"
   ]
  },
  {
   "cell_type": "markdown",
   "metadata": {},
   "source": [
    "# Clone Sherpa framework\n",
    "Go to https://github.com/sherpaai/Sherpa.ai-Federated-Learning-Framework/blob/master/install.md\n",
    "Follow insructions to install Sherpa framework\n",
    "\n",
    "Then copy this notebook into the notebook folder\n"
   ]
  },
  {
   "cell_type": "code",
   "execution_count": 1,
   "metadata": {},
   "outputs": [],
   "source": [
    "# Libraries\n",
    "import pandas as pd\n",
    "import numpy as np\n",
    "\n",
    "import shfl\n",
    "from shfl.data_base.data_base import LabeledDatabase\n",
    "from sklearn.datasets import make_classification\n",
    "\n",
    "from shfl.private.reproducibility import Reproducibility\n",
    "\n",
    "from sklearn.linear_model import LogisticRegression\n",
    "from shfl.model.linear_classifier_model import LinearClassifierModel\n",
    "\n",
    "import random"
   ]
  },
  {
   "cell_type": "code",
   "execution_count": 3,
   "metadata": {},
   "outputs": [
    {
     "output_type": "error",
     "ename": "FileNotFoundError",
     "evalue": "[Errno 2] File ./creditcard.csv does not exist: './creditcard.csv'",
     "traceback": [
      "\u001b[0;31m---------------------------------------------------------------------------\u001b[0m",
      "\u001b[0;31mFileNotFoundError\u001b[0m                         Traceback (most recent call last)",
      "\u001b[0;32m<ipython-input-3-5a4a9f7466f1>\u001b[0m in \u001b[0;36m<module>\u001b[0;34m\u001b[0m\n\u001b[1;32m      1\u001b[0m \u001b[0;31m# Load target dataset\u001b[0m\u001b[0;34m\u001b[0m\u001b[0;34m\u001b[0m\u001b[0;34m\u001b[0m\u001b[0m\n\u001b[0;32m----> 2\u001b[0;31m \u001b[0mdata_tmp\u001b[0m \u001b[0;34m=\u001b[0m \u001b[0mpd\u001b[0m\u001b[0;34m.\u001b[0m\u001b[0mread_csv\u001b[0m\u001b[0;34m(\u001b[0m\u001b[0;34m'./creditcard.csv'\u001b[0m\u001b[0;34m)\u001b[0m\u001b[0;34m.\u001b[0m\u001b[0mvalues\u001b[0m\u001b[0;34m\u001b[0m\u001b[0;34m\u001b[0m\u001b[0m\n\u001b[0m\u001b[1;32m      3\u001b[0m \u001b[0;34m\u001b[0m\u001b[0m\n\u001b[1;32m      4\u001b[0m \u001b[0;31m# How to separate features from labels\u001b[0m\u001b[0;34m\u001b[0m\u001b[0;34m\u001b[0m\u001b[0;34m\u001b[0m\u001b[0m\n\u001b[1;32m      5\u001b[0m \u001b[0mprint\u001b[0m\u001b[0;34m(\u001b[0m\u001b[0;34m'features: \\n'\u001b[0m\u001b[0;34m,\u001b[0m \u001b[0mdata_tmp\u001b[0m\u001b[0;34m[\u001b[0m\u001b[0;34m:\u001b[0m\u001b[0;34m,\u001b[0m \u001b[0;34m:\u001b[0m\u001b[0;34m-\u001b[0m\u001b[0;36m1\u001b[0m\u001b[0;34m]\u001b[0m\u001b[0;34m)\u001b[0m\u001b[0;34m\u001b[0m\u001b[0;34m\u001b[0m\u001b[0m\n",
      "\u001b[0;32m~/.virtualenvs/nevermined-fl/lib64/python3.8/site-packages/pandas/io/parsers.py\u001b[0m in \u001b[0;36mparser_f\u001b[0;34m(filepath_or_buffer, sep, delimiter, header, names, index_col, usecols, squeeze, prefix, mangle_dupe_cols, dtype, engine, converters, true_values, false_values, skipinitialspace, skiprows, skipfooter, nrows, na_values, keep_default_na, na_filter, verbose, skip_blank_lines, parse_dates, infer_datetime_format, keep_date_col, date_parser, dayfirst, cache_dates, iterator, chunksize, compression, thousands, decimal, lineterminator, quotechar, quoting, doublequote, escapechar, comment, encoding, dialect, error_bad_lines, warn_bad_lines, delim_whitespace, low_memory, memory_map, float_precision)\u001b[0m\n\u001b[1;32m    674\u001b[0m         )\n\u001b[1;32m    675\u001b[0m \u001b[0;34m\u001b[0m\u001b[0m\n\u001b[0;32m--> 676\u001b[0;31m         \u001b[0;32mreturn\u001b[0m \u001b[0m_read\u001b[0m\u001b[0;34m(\u001b[0m\u001b[0mfilepath_or_buffer\u001b[0m\u001b[0;34m,\u001b[0m \u001b[0mkwds\u001b[0m\u001b[0;34m)\u001b[0m\u001b[0;34m\u001b[0m\u001b[0;34m\u001b[0m\u001b[0m\n\u001b[0m\u001b[1;32m    677\u001b[0m \u001b[0;34m\u001b[0m\u001b[0m\n\u001b[1;32m    678\u001b[0m     \u001b[0mparser_f\u001b[0m\u001b[0;34m.\u001b[0m\u001b[0m__name__\u001b[0m \u001b[0;34m=\u001b[0m \u001b[0mname\u001b[0m\u001b[0;34m\u001b[0m\u001b[0;34m\u001b[0m\u001b[0m\n",
      "\u001b[0;32m~/.virtualenvs/nevermined-fl/lib64/python3.8/site-packages/pandas/io/parsers.py\u001b[0m in \u001b[0;36m_read\u001b[0;34m(filepath_or_buffer, kwds)\u001b[0m\n\u001b[1;32m    446\u001b[0m \u001b[0;34m\u001b[0m\u001b[0m\n\u001b[1;32m    447\u001b[0m     \u001b[0;31m# Create the parser.\u001b[0m\u001b[0;34m\u001b[0m\u001b[0;34m\u001b[0m\u001b[0;34m\u001b[0m\u001b[0m\n\u001b[0;32m--> 448\u001b[0;31m     \u001b[0mparser\u001b[0m \u001b[0;34m=\u001b[0m \u001b[0mTextFileReader\u001b[0m\u001b[0;34m(\u001b[0m\u001b[0mfp_or_buf\u001b[0m\u001b[0;34m,\u001b[0m \u001b[0;34m**\u001b[0m\u001b[0mkwds\u001b[0m\u001b[0;34m)\u001b[0m\u001b[0;34m\u001b[0m\u001b[0;34m\u001b[0m\u001b[0m\n\u001b[0m\u001b[1;32m    449\u001b[0m \u001b[0;34m\u001b[0m\u001b[0m\n\u001b[1;32m    450\u001b[0m     \u001b[0;32mif\u001b[0m \u001b[0mchunksize\u001b[0m \u001b[0;32mor\u001b[0m \u001b[0miterator\u001b[0m\u001b[0;34m:\u001b[0m\u001b[0;34m\u001b[0m\u001b[0;34m\u001b[0m\u001b[0m\n",
      "\u001b[0;32m~/.virtualenvs/nevermined-fl/lib64/python3.8/site-packages/pandas/io/parsers.py\u001b[0m in \u001b[0;36m__init__\u001b[0;34m(self, f, engine, **kwds)\u001b[0m\n\u001b[1;32m    878\u001b[0m             \u001b[0mself\u001b[0m\u001b[0;34m.\u001b[0m\u001b[0moptions\u001b[0m\u001b[0;34m[\u001b[0m\u001b[0;34m\"has_index_names\"\u001b[0m\u001b[0;34m]\u001b[0m \u001b[0;34m=\u001b[0m \u001b[0mkwds\u001b[0m\u001b[0;34m[\u001b[0m\u001b[0;34m\"has_index_names\"\u001b[0m\u001b[0;34m]\u001b[0m\u001b[0;34m\u001b[0m\u001b[0;34m\u001b[0m\u001b[0m\n\u001b[1;32m    879\u001b[0m \u001b[0;34m\u001b[0m\u001b[0m\n\u001b[0;32m--> 880\u001b[0;31m         \u001b[0mself\u001b[0m\u001b[0;34m.\u001b[0m\u001b[0m_make_engine\u001b[0m\u001b[0;34m(\u001b[0m\u001b[0mself\u001b[0m\u001b[0;34m.\u001b[0m\u001b[0mengine\u001b[0m\u001b[0;34m)\u001b[0m\u001b[0;34m\u001b[0m\u001b[0;34m\u001b[0m\u001b[0m\n\u001b[0m\u001b[1;32m    881\u001b[0m \u001b[0;34m\u001b[0m\u001b[0m\n\u001b[1;32m    882\u001b[0m     \u001b[0;32mdef\u001b[0m \u001b[0mclose\u001b[0m\u001b[0;34m(\u001b[0m\u001b[0mself\u001b[0m\u001b[0;34m)\u001b[0m\u001b[0;34m:\u001b[0m\u001b[0;34m\u001b[0m\u001b[0;34m\u001b[0m\u001b[0m\n",
      "\u001b[0;32m~/.virtualenvs/nevermined-fl/lib64/python3.8/site-packages/pandas/io/parsers.py\u001b[0m in \u001b[0;36m_make_engine\u001b[0;34m(self, engine)\u001b[0m\n\u001b[1;32m   1112\u001b[0m     \u001b[0;32mdef\u001b[0m \u001b[0m_make_engine\u001b[0m\u001b[0;34m(\u001b[0m\u001b[0mself\u001b[0m\u001b[0;34m,\u001b[0m \u001b[0mengine\u001b[0m\u001b[0;34m=\u001b[0m\u001b[0;34m\"c\"\u001b[0m\u001b[0;34m)\u001b[0m\u001b[0;34m:\u001b[0m\u001b[0;34m\u001b[0m\u001b[0;34m\u001b[0m\u001b[0m\n\u001b[1;32m   1113\u001b[0m         \u001b[0;32mif\u001b[0m \u001b[0mengine\u001b[0m \u001b[0;34m==\u001b[0m \u001b[0;34m\"c\"\u001b[0m\u001b[0;34m:\u001b[0m\u001b[0;34m\u001b[0m\u001b[0;34m\u001b[0m\u001b[0m\n\u001b[0;32m-> 1114\u001b[0;31m             \u001b[0mself\u001b[0m\u001b[0;34m.\u001b[0m\u001b[0m_engine\u001b[0m \u001b[0;34m=\u001b[0m \u001b[0mCParserWrapper\u001b[0m\u001b[0;34m(\u001b[0m\u001b[0mself\u001b[0m\u001b[0;34m.\u001b[0m\u001b[0mf\u001b[0m\u001b[0;34m,\u001b[0m \u001b[0;34m**\u001b[0m\u001b[0mself\u001b[0m\u001b[0;34m.\u001b[0m\u001b[0moptions\u001b[0m\u001b[0;34m)\u001b[0m\u001b[0;34m\u001b[0m\u001b[0;34m\u001b[0m\u001b[0m\n\u001b[0m\u001b[1;32m   1115\u001b[0m         \u001b[0;32melse\u001b[0m\u001b[0;34m:\u001b[0m\u001b[0;34m\u001b[0m\u001b[0;34m\u001b[0m\u001b[0m\n\u001b[1;32m   1116\u001b[0m             \u001b[0;32mif\u001b[0m \u001b[0mengine\u001b[0m \u001b[0;34m==\u001b[0m \u001b[0;34m\"python\"\u001b[0m\u001b[0;34m:\u001b[0m\u001b[0;34m\u001b[0m\u001b[0;34m\u001b[0m\u001b[0m\n",
      "\u001b[0;32m~/.virtualenvs/nevermined-fl/lib64/python3.8/site-packages/pandas/io/parsers.py\u001b[0m in \u001b[0;36m__init__\u001b[0;34m(self, src, **kwds)\u001b[0m\n\u001b[1;32m   1889\u001b[0m         \u001b[0mkwds\u001b[0m\u001b[0;34m[\u001b[0m\u001b[0;34m\"usecols\"\u001b[0m\u001b[0;34m]\u001b[0m \u001b[0;34m=\u001b[0m \u001b[0mself\u001b[0m\u001b[0;34m.\u001b[0m\u001b[0musecols\u001b[0m\u001b[0;34m\u001b[0m\u001b[0;34m\u001b[0m\u001b[0m\n\u001b[1;32m   1890\u001b[0m \u001b[0;34m\u001b[0m\u001b[0m\n\u001b[0;32m-> 1891\u001b[0;31m         \u001b[0mself\u001b[0m\u001b[0;34m.\u001b[0m\u001b[0m_reader\u001b[0m \u001b[0;34m=\u001b[0m \u001b[0mparsers\u001b[0m\u001b[0;34m.\u001b[0m\u001b[0mTextReader\u001b[0m\u001b[0;34m(\u001b[0m\u001b[0msrc\u001b[0m\u001b[0;34m,\u001b[0m \u001b[0;34m**\u001b[0m\u001b[0mkwds\u001b[0m\u001b[0;34m)\u001b[0m\u001b[0;34m\u001b[0m\u001b[0;34m\u001b[0m\u001b[0m\n\u001b[0m\u001b[1;32m   1892\u001b[0m         \u001b[0mself\u001b[0m\u001b[0;34m.\u001b[0m\u001b[0munnamed_cols\u001b[0m \u001b[0;34m=\u001b[0m \u001b[0mself\u001b[0m\u001b[0;34m.\u001b[0m\u001b[0m_reader\u001b[0m\u001b[0;34m.\u001b[0m\u001b[0munnamed_cols\u001b[0m\u001b[0;34m\u001b[0m\u001b[0;34m\u001b[0m\u001b[0m\n\u001b[1;32m   1893\u001b[0m \u001b[0;34m\u001b[0m\u001b[0m\n",
      "\u001b[0;32mpandas/_libs/parsers.pyx\u001b[0m in \u001b[0;36mpandas._libs.parsers.TextReader.__cinit__\u001b[0;34m()\u001b[0m\n",
      "\u001b[0;32mpandas/_libs/parsers.pyx\u001b[0m in \u001b[0;36mpandas._libs.parsers.TextReader._setup_parser_source\u001b[0;34m()\u001b[0m\n",
      "\u001b[0;31mFileNotFoundError\u001b[0m: [Errno 2] File ./creditcard.csv does not exist: './creditcard.csv'"
     ]
    }
   ],
   "source": [
    "# Load target dataset\n",
    "data_tmp = pd.read_csv('./creditcard.csv').values\n",
    "\n",
    "# How to separate features from labels\n",
    "print('features: \\n', data_tmp[:, :-1])\n",
    "print('\\n labels: \\n', data_tmp[:, -1])"
   ]
  },
  {
   "cell_type": "code",
   "execution_count": 3,
   "metadata": {},
   "outputs": [],
   "source": [
    "def prep_data(dataset):\n",
    "    ''' '''\n",
    "\n",
    "    data = dataset[:, :-1]\n",
    "    labels = dataset[:, -1]\n",
    "\n",
    "    database = LabeledDatabase(data, labels)\n",
    "\n",
    "    train_data, train_labels, test_data, test_labels = database.load_data()\n",
    "\n",
    "    n_features = train_data.shape[1]\n",
    "    n_classes = len(np.unique(train_labels))\n",
    "    n_samples = train_data.shape[0] + test_data.shape[0]\n",
    "\n",
    "    # check results\n",
    "    if False == True:\n",
    "        print(\"Shape of training and test data: \" + str(train_data.shape) + str(test_data.shape))\n",
    "        print(\"Shape of training and test labels: \" + str(train_labels.shape) + str(test_labels.shape))\n",
    "        print(train_data[0,:])\n",
    "\n",
    "    return n_features, n_classes, n_samples, train_data, train_labels, test_data, test_labels, database\n",
    "\n",
    "# Define model builder\n",
    "def model_builder():\n",
    "    ''' '''\n",
    "\n",
    "    sk_model = LogisticRegression(warm_start=True, solver='lbfgs', multi_class='auto')\n",
    "    model = LinearClassifierModel(n_features=n_features, classes=classes, model=sk_model)\n",
    "\n",
    "    return model\n",
    "\n",
    "# Train model on centralize data for comparison purpose\n",
    "def do_centralized_train(n_features, classes, train_data, train_labels, test_data, test_labels):\n",
    "    ''' '''\n",
    "\n",
    "    model_centralized = LinearClassifierModel(n_features=n_features, classes=classes)\n",
    "    model_centralized.train(train_data, train_labels)\n",
    "    y_score = model_centralized.predict(test_data)\n",
    "\n",
    "    t1 = np.array(y_score) == np.array(test_labels)\n",
    "    t3 = np.array(y_score) != np.array(test_labels)\n",
    "    t2 = np.array(y_score) == 1\n",
    "\n",
    "    num_fraud = len(test_labels[test_labels == 1])\n",
    "    num_detec = len(y_score[t1 & t2])\n",
    "    num_fake = len(y_score[t3 & t2])\n",
    "\n",
    "    print(len(test_labels), num_fraud, num_detec, num_fake)\n",
    "    # print('\\n\\nCohen kappa: ' + str(model_centralized.evaluate(test_data, test_labels)[1]))\n",
    "    # print('\\nCentralized test overrall accuracy: ' + str(len(test_score[np.array(test_score)==np.array(test_labels)]) / len(test_score)) )\n",
    "    # print('\\nBalanced Accuracy: ' + str(model_centralized.performance(test_data, test_labels)) + '\\n\\n')\n",
    "\n",
    "    return num_fraud, num_detec, num_fake\n",
    "\n",
    "# Train model on decentralized data\n",
    "def do_decentralized_train(database, model_builder, test_data, test_labels, n_rounds = 3, n_clients = 4):\n",
    "    ''' '''\n",
    "\n",
    "    iid_distribution = shfl.data_distribution.IidDataDistribution(database)\n",
    "    federated_data, test_data, test_labels = iid_distribution.get_federated_data(num_nodes=n_clients, percent=100)\n",
    "    aggregator = shfl.federated_aggregator.FedAvgAggregator()\n",
    "\n",
    "\n",
    "    # Run the federated experiment:\n",
    "    federated_government = shfl.federated_government.FederatedGovernment(model_builder, federated_data, aggregator)\n",
    "    federated_government.run_rounds(n=n_rounds, test_data=test_data, test_label=test_labels)\n",
    "\n",
    "    return "
   ]
  },
  {
   "cell_type": "code",
   "execution_count": 4,
   "metadata": {},
   "outputs": [],
   "source": [
    "dset = data_tmp\n",
    "\n",
    "# flag to reduce dataset\n",
    "decrease_dataset = False\n",
    "num_reduced = 40000\n",
    "\n",
    "if decrease_dataset:\n",
    "    dset = data_tmp[0:num_reduced]\n",
    "    n_sample_global = dset.shape[0]"
   ]
  },
  {
   "cell_type": "code",
   "execution_count": 5,
   "metadata": {},
   "outputs": [],
   "source": [
    "# Prep data\n",
    "n_features, n_classes, n_samples, train_data, train_labels, test_data, test_labels, database = prep_data(dset)\n"
   ]
  },
  {
   "cell_type": "code",
   "execution_count": 6,
   "metadata": {},
   "outputs": [
    {
     "output_type": "stream",
     "name": "stdout",
     "text": "56961 103 77 31\n"
    },
    {
     "output_type": "execute_result",
     "data": {
      "text/plain": "(103, 77, 31)"
     },
     "metadata": {},
     "execution_count": 6
    }
   ],
   "source": [
    "# Train model with ALL data on CENTRALIZED fashion\n",
    "do_centralized_train(n_features, np.unique(train_labels), train_data, train_labels, test_data, test_labels)\n"
   ]
  },
  {
   "cell_type": "code",
   "execution_count": 7,
   "metadata": {},
   "outputs": [
    {
     "output_type": "stream",
     "name": "stdout",
     "text": "Accuracy round 0\nTest performance client <shfl.private.federated_operation.FederatedDataNode object at 0x7fe8088c9c50>: (0.8054559015527355, 0.6050481902221312)\nTest performance client <shfl.private.federated_operation.FederatedDataNode object at 0x7fe8088c9d50>: (0.8589155166661145, 0.6975508239335391)\nTest performance client <shfl.private.federated_operation.FederatedDataNode object at 0x7fe8088c92d0>: (0.8977944373088194, 0.76234296390171)\nTest performance client <shfl.private.federated_operation.FederatedDataNode object at 0x7fe8088c9f50>: (0.8444227605682287, 0.7059491697110494)\nGlobal model test performance : (0.8784121369297795, 0.7531747092464312)\n\n\n\nAccuracy round 1\nTest performance client <shfl.private.federated_operation.FederatedDataNode object at 0x7fe8088c9c50>: (0.820238854280823, 0.709208133982148)\nTest performance client <shfl.private.federated_operation.FederatedDataNode object at 0x7fe8088c9d50>: (0.7523040707441158, 0.6148406298967847)\nTest performance client <shfl.private.federated_operation.FederatedDataNode object at 0x7fe8088c92d0>: (0.9026663939154159, 0.7752793917342852)\nTest performance client <shfl.private.federated_operation.FederatedDataNode object at 0x7fe8088c9f50>: (0.7669111467266264, 0.6582089233283748)\nGlobal model test performance : (0.8348107549142183, 0.733606967552065)\n\n\n\nAccuracy round 2\nTest performance client <shfl.private.federated_operation.FederatedDataNode object at 0x7fe8088c9c50>: (0.8493738617103348, 0.753515998778429)\nTest performance client <shfl.private.federated_operation.FederatedDataNode object at 0x7fe8088c9d50>: (0.8299475921449007, 0.7229512462541476)\nTest performance client <shfl.private.federated_operation.FederatedDataNode object at 0x7fe8088c92d0>: (0.9075999073829643, 0.8151998147659285)\nTest performance client <shfl.private.federated_operation.FederatedDataNode object at 0x7fe8088c9f50>: (0.8639193808318937, 0.7649026962105114)\nGlobal model test performance : (0.873645706370529, 0.785345940018293)\n\n\n\n"
    }
   ],
   "source": [
    "# Train model with ALL data on DECENTRALIZED fashion \n",
    "classes = np.unique(train_labels)\n",
    "do_decentralized_train(database, model_builder, test_data, test_labels, n_rounds = 3, n_clients = 4)\n"
   ]
  },
  {
   "cell_type": "code",
   "execution_count": 8,
   "metadata": {},
   "outputs": [
    {
     "output_type": "stream",
     "name": "stdout",
     "text": "\nROUND # 0 \n\n\n\nEntity #0 with 71202 transactions from a total of 284807\n\n\n0.235799253888928 0.3028808903289427\n14240 43 20 9\n\n\nEntity #1 with 71202 transactions from a total of 284807\n\n\n0.12480005624791267 0.14768971095013714\n14240 21 17 1\n\n\nEntity #2 with 71202 transactions from a total of 284807\n\n\n0.17762614094018747 0.19701660568533633\n14240 28 18 4\n\n\nEntity #3 with 71201 transactions from a total of 284807\n\n\n0.13184263263368842 0.13360523169959918\n14240 19 0 0\n\nROUND # 1 \n\n\n\nEntity #0 with 71202 transactions from a total of 284807\n\n\n0.24461925628706685 0.2675679481763132\n14240 38 19 13\n\n\nEntity #1 with 71202 transactions from a total of 284807\n\n\n0.11952051182901537 0.16882386043894204\n14240 24 0 0\n\n\nEntity #2 with 71202 transactions from a total of 284807\n\n\n0.1811498619391829 0.18291824961305755\n14240 26 20 2\n\n\nEntity #3 with 71201 transactions from a total of 284807\n\n\n0.14240506329113925 0.0913755535249877\n14240 13 9 2\n\nROUND # 2 \n\n\n\nEntity #0 with 71202 transactions from a total of 284807\n\n\n0.2516763758601876 0.23933549204561452\n14240 34 15 9\n\n\nEntity #1 with 71202 transactions from a total of 284807\n\n\n0.13360053440213762 0.1124859392575928\n14240 16 0 0\n\n\nEntity #2 with 71202 transactions from a total of 284807\n\n\n0.17234102419808667 0.21817158139207546\n14240 31 24 5\n\n\nEntity #3 with 71201 transactions from a total of 284807\n\n\n0.13360288300958073 0.12656447756996203\n14240 18 0 0\n"
    }
   ],
   "source": [
    "# Train N (n_splits) data split unilateral models\n",
    "\n",
    "n_splits = 4\n",
    "n_rounds = 3\n",
    "n_sample_global = data_tmp.shape[0]\n",
    "\n",
    "dset = data_tmp\n",
    "\n",
    "# flag to reduce dataset\n",
    "decrease_dataset = False\n",
    "num_reduced = 40000\n",
    "\n",
    "if decrease_dataset:\n",
    "    dset = data_tmp[0:num_reduced]\n",
    "    n_sample_global = dset.shape[0]\n",
    "\n",
    "x = random.sample(range(n_sample_global), n_sample_global)\n",
    "\n",
    "ll = round(len(x) / n_splits)\n",
    "perf = []\n",
    "\n",
    "for j in range(n_rounds):\n",
    "    print('\\nROUND #', j, '\\n')\n",
    "\n",
    "    for i in range(n_splits):\n",
    "        init = ll * i\n",
    "        endit = ll + init\n",
    "        tmp = dset[init:endit]\n",
    "        \n",
    "        print(str('\\n\\nEntity #') + str(i) + str(' with ') + str(len(tmp)) + str(' transactions from a total of ') + str(n_sample_global) + str('\\n\\n'))\n",
    "\n",
    "        # Prep data\n",
    "        n_features, n_classes, n_samples, train_data, train_labels, test_data, test_labels, database = prep_data(tmp)\n",
    "\n",
    "        # Balance check\n",
    "        num_train_positive = len(train_labels[train_labels == 1])\n",
    "        num_train_negative = len(train_labels[train_labels == 0])\n",
    "\n",
    "        num_test_positive = len(test_labels[test_labels == 1])\n",
    "        num_test_negative = len(test_labels[test_labels == 0])\n",
    "\n",
    "        print(100*num_train_positive/num_train_negative, 100*num_test_positive/num_test_negative)\n",
    "\n",
    "        # Train model on centralized data for comparison:\n",
    "        \n",
    "        eva_tmp = do_centralized_train(n_features, np.unique(train_labels), train_data, train_labels, test_data, test_labels)\n",
    "\n",
    "        # Store results\n",
    "        perf.append([j, eva_tmp, round(100 * num_train_positive/num_train_negative, 2), round(100 * num_test_positive/num_test_negative, 2)])\n"
   ]
  },
  {
   "cell_type": "code",
   "execution_count": 9,
   "metadata": {},
   "outputs": [
    {
     "output_type": "execute_result",
     "data": {
      "text/plain": "[[0, (43, 20, 9), 0.24, 0.3],\n [0, (21, 17, 1), 0.12, 0.15],\n [0, (28, 18, 4), 0.18, 0.2],\n [0, (19, 0, 0), 0.13, 0.13],\n [1, (38, 19, 13), 0.24, 0.27],\n [1, (24, 0, 0), 0.12, 0.17],\n [1, (26, 20, 2), 0.18, 0.18],\n [1, (13, 9, 2), 0.14, 0.09],\n [2, (34, 15, 9), 0.25, 0.24],\n [2, (16, 0, 0), 0.13, 0.11],\n [2, (31, 24, 5), 0.17, 0.22],\n [2, (18, 0, 0), 0.13, 0.13]]"
     },
     "metadata": {},
     "execution_count": 9
    }
   ],
   "source": [
    "# Summary for unilateral training\n",
    "perf"
   ]
  },
  {
   "cell_type": "code",
   "execution_count": null,
   "metadata": {},
   "outputs": [],
   "source": []
  }
 ],
 "metadata": {
  "kernelspec": {
   "name": "python3",
   "display_name": "Python 3.8.6 64-bit ('nevermined-fl')",
   "metadata": {
    "interpreter": {
     "hash": "53491c77d29821c89358a6f21a2dffab67b1b2c126dfbd28e555c575f61c75d7"
    }
   }
  },
  "language_info": {
   "codemirror_mode": {
    "name": "ipython",
    "version": 3
   },
   "file_extension": ".py",
   "mimetype": "text/x-python",
   "name": "python",
   "nbconvert_exporter": "python",
   "pygments_lexer": "ipython3",
   "version": "3.8.6-final"
  }
 },
 "nbformat": 4,
 "nbformat_minor": 4
}