{
 "cells": [
  {
   "cell_type": "markdown",
   "metadata": {},
   "source": [
    "Imports"
   ]
  },
  {
   "cell_type": "code",
   "execution_count": null,
   "metadata": {
    "execution": {
     "iopub.execute_input": "2020-12-16T17:07:42.757751Z",
     "iopub.status.busy": "2020-12-16T17:07:42.756569Z",
     "iopub.status.idle": "2020-12-16T17:07:43.248399Z",
     "shell.execute_reply": "2020-12-16T17:07:43.247879Z"
    },
    "tags": [
     "parameters"
    ]
   },
   "outputs": [],
   "source": [
    "from datetime import datetime\n",
    "import time\n",
    "\n",
    "from contracts_lib_py.account import Account\n",
    "from common_utils_py.agreements.service_types import ServiceTypesIndices\n",
    "\n",
    "\n",
    "from nevermined_sdk_py import Config, Nevermined\n",
    "from nevermined_sdk_py.nevermined.keeper import NeverminedKeeper as Keeper\n",
    "\n",
    "CONSUMER_ADDRESS = \"0x00Bd138aBD70e2F00903268F3Db08f2D25677C9e\"\n",
    "CONSUMER_PASSWORD = \"node0\"\n",
    "CONSUMER_KEYFILE = \"../resources/accounts/consumer.json\"\n",
    "CONFIG_FILE = \"../config.ini\"\n",
    "\n",
    "PROVIDER_ADDRESS = \"0x068Ed00cF0441e4829D9784fCBe7b9e26D4BD8d0\"\n",
    "ASSET_DID = \"did:nv:519f378cabc1860e8baa8c90c529405eae4fa7884916a274515ef66ef9e49a02\"\n",
    "print(ASSET_DID)"
   ]
  },
  {
   "cell_type": "markdown",
   "metadata": {},
   "source": [
    "Setup Nevermined and accounts"
   ]
  },
  {
   "cell_type": "code",
   "execution_count": null,
   "metadata": {
    "execution": {
     "iopub.execute_input": "2020-12-16T17:07:43.252281Z",
     "iopub.status.busy": "2020-12-16T17:07:43.251784Z",
     "iopub.status.idle": "2020-12-16T17:07:49.340140Z",
     "shell.execute_reply": "2020-12-16T17:07:49.341040Z"
    }
   },
   "outputs": [],
   "source": [
    "nevermined = Nevermined(Config(CONFIG_FILE))\n",
    "consumer_account = Account(CONSUMER_ADDRESS, CONSUMER_PASSWORD, CONSUMER_KEYFILE)\n",
    "\n",
    "nevermined.accounts.request_tokens(consumer_account, 10)\n"
   ]
  },
  {
   "cell_type": "markdown",
   "metadata": {},
   "source": [
    "Publish algorithm"
   ]
  },
  {
   "cell_type": "code",
   "execution_count": null,
   "metadata": {
    "execution": {
     "iopub.execute_input": "2020-12-16T17:07:49.350586Z",
     "iopub.status.busy": "2020-12-16T17:07:49.349449Z",
     "iopub.status.idle": "2020-12-16T17:07:52.080797Z",
     "shell.execute_reply": "2020-12-16T17:07:52.081657Z"
    }
   },
   "outputs": [],
   "source": [
    "metadata_algorithm = {\n",
    "    \"main\": {\n",
    "        \"name\": \"Fraud Demo Algorithm\",\n",
    "        \"dateCreated\": datetime.utcnow().isoformat(timespec=\"seconds\") + \"Z\",\n",
    "        \"author\": \"Nevermined Consumer\",\n",
    "        \"license\": \"\",\n",
    "        \"price\": \"0\",\n",
    "        \"files\": [\n",
    "            {\n",
    "                \"index\": 0,\n",
    "                \"contentType\": \"text/text\",\n",
    "                \"checksum\": \"0x52b5c93b82dd9e7ecc3d9fdf4755f7f69a54484941897dc517b4adfe3bbc3377\",\n",
    "                \"checksumType\": \"MD5\",\n",
    "                \"contentLength\": \"12057507\",\n",
    "                \"url\": \"https://raw.githubusercontent.com/nevermined-io/fl-demo/feature/xain-fraud-detection/fraud-detection-sherpa/notebooks/federated_fraud_demo.ipynb\"\n",
    "            }\n",
    "        ],\n",
    "        \"type\": \"algorithm\",\n",
    "        \"algorithm\": {\n",
    "            \"language\": \"python\",\n",
    "            \"format\": \"py\",\n",
    "            \"version\": \"0.1.0\",\n",
    "            \"entrypoint\": (\n",
    "                \"pip install jupyter shfl pandas papermill && \"\n",
    "                \"papermill --stdout-file - federated_fraud_demo.ipynb $NEVERMINED_OUTPUTS_PATH/federated_fraud_demo_output.ipynb\"\n",
    "            ),\n",
    "            \"requirements\": {\n",
    "                \"container\": {\n",
    "                    \"image\": \"python\",\n",
    "                    \"tag\": \"3.8-slim-buster\",\n",
    "                    \"checksum\": \"sha256:53ad3a03b2fb240b6c494339821e6638cd44c989bcf26ec4d51a6a52f7518c1d\"\n",
    "                }\n",
    "            }           \n",
    "        }\n",
    "    }\n",
    "}\n",
    "\n",
    "ddo_algorithm = nevermined.assets.create(metadata_algorithm, consumer_account, providers=[PROVIDER_ADDRESS])\n",
    "print(f\"Algorithm DID: {ddo_algorithm.did}\")"
   ]
  },
  {
   "cell_type": "markdown",
   "metadata": {},
   "source": [
    "Publish the workflow"
   ]
  },
  {
   "cell_type": "code",
   "execution_count": null,
   "metadata": {
    "execution": {
     "iopub.execute_input": "2020-12-16T17:07:52.090484Z",
     "iopub.status.busy": "2020-12-16T17:07:52.089919Z",
     "iopub.status.idle": "2020-12-16T17:07:55.151083Z",
     "shell.execute_reply": "2020-12-16T17:07:55.149578Z"
    }
   },
   "outputs": [],
   "source": [
    "metadata_workflow = {\n",
    "    \"main\": {\n",
    "        \"name\": \"Fraud Demo Workflow\",\n",
    "        \"dateCreated\": datetime.utcnow().isoformat(timespec=\"seconds\") + \"Z\",\n",
    "        \"author\": \"Nevermined Consumer\",\n",
    "        \"license\": \"\",\n",
    "        \"price\": \"0\",\n",
    "        \"type\": \"workflow\",\n",
    "        \"workflow\": {\n",
    "            \"stages\": [\n",
    "                {\n",
    "                    \"index\": 0,\n",
    "                    \"input\": [\n",
    "                        {\n",
    "                            \"index\": 0,\n",
    "                            \"id\": ASSET_DID\n",
    "                        }\n",
    "                    ],\n",
    "                    \"transformation\": {\n",
    "                        \"id\": ddo_algorithm.did\n",
    "                    }\n",
    "                }\n",
    "            ]\n",
    "        }\n",
    "    }\n",
    "}\n",
    "\n",
    "ddo_workflow = nevermined.assets.create(metadata_workflow, consumer_account, providers=[PROVIDER_ADDRESS])\n",
    "print(f\"Workflow DID: {ddo_workflow.did}\")"
   ]
  },
  {
   "cell_type": "markdown",
   "metadata": {},
   "source": [
    "Order computation"
   ]
  },
  {
   "cell_type": "code",
   "execution_count": null,
   "metadata": {
    "execution": {
     "iopub.execute_input": "2020-12-16T17:07:55.162966Z",
     "iopub.status.busy": "2020-12-16T17:07:55.161210Z",
     "iopub.status.idle": "2020-12-16T17:07:57.176948Z",
     "shell.execute_reply": "2020-12-16T17:07:57.179692Z"
    }
   },
   "outputs": [],
   "source": [
    "service_agreement_id = nevermined.assets.order(ASSET_DID, ServiceTypesIndices.DEFAULT_COMPUTING_INDEX, consumer_account, consumer_account)\n",
    "print(f\"Service Agreement ID: {service_agreement_id}\")\n"
   ]
  },
  {
   "source": [
    "Wait for payment to be processed by the blockchain"
   ],
   "cell_type": "markdown",
   "metadata": {}
  },
  {
   "cell_type": "code",
   "execution_count": null,
   "metadata": {},
   "outputs": [],
   "source": [
    "keeper = Keeper.get_instance()\n",
    "event = keeper.lock_reward_condition.subscribe_condition_fulfilled(\n",
    "        service_agreement_id, 60, None, (), wait=True\n",
    "    )\n",
    "assert event is not None, \"Reward condition is not found\""
   ]
  },
  {
   "source": [
    "Execute Workflow"
   ],
   "cell_type": "markdown",
   "metadata": {}
  },
  {
   "cell_type": "code",
   "execution_count": null,
   "metadata": {
    "execution": {
     "iopub.execute_input": "2020-12-16T17:07:57.188537Z",
     "iopub.status.busy": "2020-12-16T17:07:57.184011Z",
     "iopub.status.idle": "2020-12-16T17:07:57.476751Z",
     "shell.execute_reply": "2020-12-16T17:07:57.478136Z"
    }
   },
   "outputs": [],
   "source": [
    "execution_id = nevermined.assets.execute(\n",
    "    service_agreement_id,\n",
    "    ASSET_DID,\n",
    "    ServiceTypesIndices.DEFAULT_COMPUTING_INDEX,\n",
    "    consumer_account,\n",
    "    ddo_workflow.did\n",
    ")\n",
    "\n",
    "print(f\"Execution ID: {execution_id}\")"
   ]
  },
  {
   "source": [
    "Wait for compute job to finish"
   ],
   "cell_type": "markdown",
   "metadata": {}
  },
  {
   "cell_type": "code",
   "execution_count": null,
   "metadata": {},
   "outputs": [],
   "source": [
    "status = None\n",
    "while status not in [\"Succeeded\", \"Failed\"]:\n",
    "    result = nevermined.assets.compute_status(service_agreement_id, execution_id, consumer_account)\n",
    "    status = result[\"status\"]\n",
    "    print(f\"{execution_id}: {status}\")\n",
    "    time.sleep(10)\n",
    "\n",
    "output_did = result[\"did\"]\n",
    "print(f\"Output DID: {output_did}\")"
   ]
  },
  {
   "cell_type": "code",
   "execution_count": null,
   "metadata": {},
   "outputs": [],
   "source": [
    "nevermined.assets.download(output_did, ServiceTypesIndices.DEFAULT_ACCESS_INDEX, consumer_account, \"./\")"
   ]
  }
 ],
 "metadata": {
  "kernelspec": {
   "display_name": "Python 3",
   "language": "python",
   "name": "python3"
  },
  "language_info": {
   "codemirror_mode": {
    "name": "ipython",
    "version": 3
   },
   "file_extension": ".py",
   "mimetype": "text/x-python",
   "name": "python",
   "nbconvert_exporter": "python",
   "pygments_lexer": "ipython3",
   "version": "3.8.6-final"
  }
 },
 "nbformat": 4,
 "nbformat_minor": 4
}