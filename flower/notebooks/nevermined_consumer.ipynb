{
 "cells": [
  {
   "cell_type": "markdown",
   "metadata": {},
   "source": [
    "### Imports"
   ]
  },
  {
   "cell_type": "code",
   "execution_count": 1,
   "metadata": {
    "tags": [
     "parameters"
    ]
   },
   "outputs": [
    {
     "ename": "ModuleNotFoundError",
     "evalue": "No module named 'workshop'",
     "output_type": "error",
     "traceback": [
      "\u001b[0;31m---------------------------------------------------------------------------\u001b[0m",
      "\u001b[0;31mModuleNotFoundError\u001b[0m                       Traceback (most recent call last)",
      "\u001b[0;32m<ipython-input-1-ddff63b38bb8>\u001b[0m in \u001b[0;36m<module>\u001b[0;34m\u001b[0m\n\u001b[1;32m      9\u001b[0m \u001b[0;32mfrom\u001b[0m \u001b[0mnevermined_sdk_py\u001b[0m\u001b[0;34m.\u001b[0m\u001b[0mnevermined\u001b[0m\u001b[0;34m.\u001b[0m\u001b[0mkeeper\u001b[0m \u001b[0;32mimport\u001b[0m \u001b[0mNeverminedKeeper\u001b[0m \u001b[0;32mas\u001b[0m \u001b[0mKeeper\u001b[0m\u001b[0;34m\u001b[0m\u001b[0;34m\u001b[0m\u001b[0m\n\u001b[1;32m     10\u001b[0m \u001b[0;34m\u001b[0m\u001b[0m\n\u001b[0;32m---> 11\u001b[0;31m \u001b[0;32mfrom\u001b[0m \u001b[0mworkshop\u001b[0m \u001b[0;32mimport\u001b[0m \u001b[0mutils\u001b[0m\u001b[0;34m\u001b[0m\u001b[0;34m\u001b[0m\u001b[0m\n\u001b[0m\u001b[1;32m     12\u001b[0m \u001b[0;34m\u001b[0m\u001b[0m\n\u001b[1;32m     13\u001b[0m \u001b[0mCONSUMER_ADDRESS\u001b[0m \u001b[0;34m=\u001b[0m \u001b[0;34m\"0x00Bd138aBD70e2F00903268F3Db08f2D25677C9e\"\u001b[0m\u001b[0;34m\u001b[0m\u001b[0;34m\u001b[0m\u001b[0m\n",
      "\u001b[0;31mModuleNotFoundError\u001b[0m: No module named 'workshop'"
     ]
    }
   ],
   "source": [
    "from datetime import datetime\n",
    "import time\n",
    "\n",
    "from contracts_lib_py.account import Account\n",
    "from common_utils_py.agreements.service_types import ServiceTypesIndices\n",
    "\n",
    "\n",
    "from nevermined_sdk_py import Config, Nevermined\n",
    "from nevermined_sdk_py.nevermined.keeper import NeverminedKeeper as Keeper\n",
    "\n",
    "import utils\n",
    "\n",
    "CONSUMER_ADDRESS = \"0x00Bd138aBD70e2F00903268F3Db08f2D25677C9e\"\n",
    "CONSUMER_PASSWORD = \"node0\"\n",
    "CONSUMER_KEYFILE = \"../resources/accounts/consumer.json\"\n",
    "CONFIG_FILE = \"../config.ini\"\n",
    "\n",
    "COORDINATOR_URL = \"http://172.17.0.2:8081\"\n",
    "\n",
    "PROVIDER_ADDRESS = \"0x068Ed00cF0441e4829D9784fCBe7b9e26D4BD8d0\"\n",
    "ASSET_COMPUTE_DID_1 = \"did:nv:ef129ded18f8bd94096156981726bab4e2f8afe7510617d33beb14e9cbafe17f\"\n",
    "ASSET_COMPUTE_DID_2 = \"did:nv:a7f831260c3fd8cc3b4cdac657d50a61860f380eb3829082f6b6719dcff770db\"\n",
    "ASSET_COORDINATOR_DID = \"did:nv:cad3d86be04a00bf7bfd5ff0aa4009dd66f904a84f971c5d3a1b8f852fcabeed\""
   ]
  },
  {
   "cell_type": "markdown",
   "metadata": {},
   "source": [
    "### Setup Nevermined and accounts"
   ]
  },
  {
   "cell_type": "code",
   "execution_count": 2,
   "metadata": {},
   "outputs": [
    {
     "data": {
      "text/plain": [
       "True"
      ]
     },
     "execution_count": 2,
     "metadata": {},
     "output_type": "execute_result"
    }
   ],
   "source": [
    "nevermined = Nevermined(Config(CONFIG_FILE))\n",
    "consumer_account = Account(CONSUMER_ADDRESS, CONSUMER_PASSWORD, CONSUMER_KEYFILE)\n",
    "\n",
    "nevermined.accounts.request_tokens(consumer_account, 10)\n"
   ]
  },
  {
   "cell_type": "markdown",
   "metadata": {},
   "source": [
    "### Publish algorithm"
   ]
  },
  {
   "cell_type": "code",
   "execution_count": 3,
   "metadata": {},
   "outputs": [
    {
     "name": "stdout",
     "output_type": "stream",
     "text": [
      "{\n",
      "  \"main\": {\n",
      "    \"name\": \"Fraud Demo Algorithm\",\n",
      "    \"dateCreated\": \"2021-03-11T12:48:22Z\",\n",
      "    \"author\": \"Nevermined Consumer\",\n",
      "    \"license\": \"\",\n",
      "    \"price\": \"0\",\n",
      "    \"files\": [\n",
      "      {\n",
      "        \"index\": 0,\n",
      "        \"contentType\": \"text/text\",\n",
      "        \"checksum\": \"0x52b5c93b82dd9e7ecc3d9fdf4755f7f69a54484941897dc517b4adfe3bbc3377\",\n",
      "        \"checksumType\": \"MD5\",\n",
      "        \"contentLength\": \"12057507\",\n",
      "        \"url\": \"https://github.com/nevermined-io/hellodecentralization/raw/main/notebooks/federated_fraud_demo.ipynb\"\n",
      "      }\n",
      "    ],\n",
      "    \"type\": \"algorithm\",\n",
      "    \"algorithm\": {\n",
      "      \"language\": \"python\",\n",
      "      \"format\": \"py\",\n",
      "      \"version\": \"0.1.0\",\n",
      "      \"entrypoint\": \"pip install jupyter pandas papermill scikit-learn xain-sdk && papermill --stdout-file - federated_fraud_demo.ipynb $NEVERMINED_OUTPUTS_PATH/federated_fraud_demo_output.ipynb\",\n",
      "      \"requirements\": {\n",
      "        \"container\": {\n",
      "          \"image\": \"python\",\n",
      "          \"tag\": \"3.8-slim-buster\",\n",
      "          \"checksum\": \"sha256:53ad3a03b2fb240b6c494339821e6638cd44c989bcf26ec4d51a6a52f7518c1d\"\n",
      "        }\n",
      "      }\n",
      "    }\n",
      "  }\n",
      "}\n",
      "Algorithm DID: did:nv:2483407d765fff264545fa5466f9745c546a3adb833218a9f5525abb7d36648c\n"
     ]
    }
   ],
   "source": [
    "metadata_algorithm = utils.metadata_algorithm_template()\n",
    "\n",
    "metadata_algorithm[\"main\"][\"dateCreated\"] = utils.date_now()\n",
    "metadata_algorithm[\"main\"][\"files\"][0][\"url\"] = \"https://github.com/adap/flower/raw/main/examples/quickstart_tensorflow/client.py\"\n",
    "\n",
    "metadata_algorithm[\"main\"][\"algorithm\"][\"entrypoint\"] = (\n",
    "    \"pip install tensorflow-cpu flwr==0.15 && \"\n",
    "    \"python client.py 172.17.0.2:8081\"\n",
    ")\n",
    "\n",
    "metadata_algorithm[\"main\"][\"algorithm\"][\"requirements\"][\"container\"][\"image\"] = \"python\"\n",
    "metadata_algorithm[\"main\"][\"algorithm\"][\"requirements\"][\"container\"][\"tag\"] = \"3.8-slim-buster\"\n",
    "\n",
    "utils.print_json(metadata_algorithm)\n",
    "\n",
    "ddo_algorithm = nevermined.assets.create(metadata_algorithm, consumer_account, providers=[PROVIDER_ADDRESS])\n",
    "print(f\"Algorithm DID: {ddo_algorithm.did}\")"
   ]
  },
  {
   "cell_type": "markdown",
   "metadata": {},
   "source": [
    "### Publish the workflows:\n",
    "\n",
    "- Two for the compute to the data assets\n",
    "- One for the coordinator service"
   ]
  },
  {
   "cell_type": "code",
   "execution_count": 4,
   "metadata": {},
   "outputs": [
    {
     "name": "stdout",
     "output_type": "stream",
     "text": [
      "{\n",
      "  \"main\": {\n",
      "    \"name\": \"Fraud Demo Workflow\",\n",
      "    \"dateCreated\": \"2021-03-11T12:48:25Z\",\n",
      "    \"author\": \"Nevermined Consumer\",\n",
      "    \"license\": \"\",\n",
      "    \"price\": \"0\",\n",
      "    \"type\": \"workflow\",\n",
      "    \"workflow\": {\n",
      "      \"stages\": [\n",
      "        {\n",
      "          \"index\": 0,\n",
      "          \"input\": [\n",
      "            {\n",
      "              \"index\": 0,\n",
      "              \"id\": \"did:nv:ef129ded18f8bd94096156981726bab4e2f8afe7510617d33beb14e9cbafe17f\"\n",
      "            }\n",
      "          ],\n",
      "          \"transformation\": {\n",
      "            \"id\": \"did:nv:2483407d765fff264545fa5466f9745c546a3adb833218a9f5525abb7d36648c\"\n",
      "          }\n",
      "        }\n",
      "      ]\n",
      "    }\n",
      "  }\n",
      "}\n",
      "Workflow DID: did:nv:11139d39717e656cd2c901058273799bc74f81660fb38fb4a421bd1951795b13\n",
      "{\n",
      "  \"main\": {\n",
      "    \"name\": \"Fraud Demo Workflow\",\n",
      "    \"dateCreated\": \"2021-03-11T12:48:28Z\",\n",
      "    \"author\": \"Nevermined Consumer\",\n",
      "    \"license\": \"\",\n",
      "    \"price\": \"0\",\n",
      "    \"type\": \"workflow\",\n",
      "    \"workflow\": {\n",
      "      \"stages\": [\n",
      "        {\n",
      "          \"index\": 0,\n",
      "          \"input\": [\n",
      "            {\n",
      "              \"index\": 0,\n",
      "              \"id\": \"did:nv:a7f831260c3fd8cc3b4cdac657d50a61860f380eb3829082f6b6719dcff770db\"\n",
      "            }\n",
      "          ],\n",
      "          \"transformation\": {\n",
      "            \"id\": \"did:nv:2483407d765fff264545fa5466f9745c546a3adb833218a9f5525abb7d36648c\"\n",
      "          }\n",
      "        }\n",
      "      ]\n",
      "    }\n",
      "  }\n",
      "}\n",
      "Workflow DID: did:nv:d8e703e4420e9bc2fc41eac1adfecada119c238956340a66ae09c8cd34101278\n",
      "{\n",
      "  \"main\": {\n",
      "    \"author\": \"Nevermined Consumer\",\n",
      "    \"checksum\": \"0x52b5c93b82dd9e7ecc3d9fdf4755f7f69a54484941897dc517b4adfe3bbc3377\",\n",
      "    \"dateCreated\": \"2021-03-11T12:48:31Z\",\n",
      "    \"datePublished\": \"2021-03-11T12:48:31Z\",\n",
      "    \"license\": \"\",\n",
      "    \"name\": \"My workflow\",\n",
      "    \"price\": \"0\",\n",
      "    \"type\": \"fl-coordinator\",\n",
      "    \"parameters\": {\n",
      "      \"minParticipants\": 2,\n",
      "      \"participantsRatio\": 1,\n",
      "      \"rounds\": 10\n",
      "    },\n",
      "    \"workflow\": {\n",
      "      \"stages\": [\n",
      "        {\n",
      "          \"input\": [],\n",
      "          \"index\": 0,\n",
      "          \"requirements\": {\n",
      "            \"serverInstances\": 1,\n",
      "            \"container\": {\n",
      "              \"image\": \"rmarques/xain-fl\",\n",
      "              \"tag\": \"latest\",\n",
      "              \"checksum\": \"sha256:cb57ecfa6ebbefd8ffc7f75c0f00e57a7fa739578a429b6f72a0df19315deadc\"\n",
      "            }\n",
      "          }\n",
      "        }\n",
      "      ]\n",
      "    }\n",
      "  }\n",
      "}\n",
      "Workflow DID: did:nv:7cfbe86b2398b98e29733768018db365e4d40d38d72b378ffd4a13a8de02c657\n"
     ]
    }
   ],
   "source": [
    "# Compute asset 1\n",
    "metadata_workflow1 = utils.metadata_workflow_template()\n",
    "\n",
    "metadata_workflow1[\"main\"][\"dateCreated\"] = utils.date_now()\n",
    "metadata_workflow1[\"main\"][\"workflow\"][\"stages\"][0][\"input\"][0][\"id\"] = ASSET_COMPUTE_DID_1\n",
    "metadata_workflow1[\"main\"][\"workflow\"][\"stages\"][0][\"transformation\"][\"id\"] = ddo_algorithm.did\n",
    "\n",
    "utils.print_json(metadata_workflow1)\n",
    "\n",
    "\n",
    "ddo_workflow1 = nevermined.assets.create(metadata_workflow1, consumer_account, providers=[PROVIDER_ADDRESS])\n",
    "print(f\"Workflow DID: {ddo_workflow1.did}\")\n",
    "\n",
    "# Compute asset 2\n",
    "metadata_workflow2 = utils.metadata_workflow_template()\n",
    "metadata_workflow2[\"main\"][\"dateCreated\"] = utils.date_now()\n",
    "metadata_workflow2[\"main\"][\"workflow\"][\"stages\"][0][\"input\"][0][\"id\"] = ASSET_COMPUTE_DID_2\n",
    "metadata_workflow2[\"main\"][\"workflow\"][\"stages\"][0][\"transformation\"][\"id\"] = ddo_algorithm.did\n",
    "\n",
    "utils.print_json(metadata_workflow2)\n",
    "\n",
    "ddo_workflow2 = nevermined.assets.create(metadata_workflow2, consumer_account, providers=[PROVIDER_ADDRESS])\n",
    "print(f\"Workflow DID: {ddo_workflow2.did}\")\n",
    "\n",
    "# Coordinator service\n",
    "metadata_workflow_coordinator = utils.metadata_workflow_coordinator()\n",
    "metadata_workflow_coordinator[\"main\"][\"dateCreated\"] = utils.date_now()\n",
    "metadata_workflow_coordinator[\"main\"][\"datePublished\"] = utils.date_now()\n",
    "\n",
    "utils.print_json(metadata_workflow_coordinator)\n",
    "\n",
    "\n",
    "ddo_workflow_coordinator = nevermined.assets.create(metadata_workflow_coordinator, consumer_account, providers=[PROVIDER_ADDRESS])\n",
    "print(f\"Workflow DID: {ddo_workflow_coordinator.did}\")"
   ]
  },
  {
   "cell_type": "markdown",
   "metadata": {},
   "source": [
    "### Order computations:\n",
    "\n",
    "- One for each data asset\n",
    "- One for the coordinator service\n",
    "\n",
    "In between we want for the blockchain to process the request."
   ]
  },
  {
   "cell_type": "code",
   "execution_count": 5,
   "metadata": {},
   "outputs": [
    {
     "name": "stdout",
     "output_type": "stream",
     "text": [
      "Service Agreement ID: 0x9ebe02aa4925429c9288393569080a419c9fd205ab7c4e14b87157d15a26c2cd\n",
      "Service Agreement ID: 0x559989b2c1c94b03b70e691fa410a1aba3d6242e68fd4d4e9e4a52f8e50fd788\n",
      "Service Agreement ID: 0x201a04b95b7a4d9d889e93e723a53bc9d6b36f05cba24eeca2b6f11f7e7f22be\n"
     ]
    }
   ],
   "source": [
    "keeper = Keeper.get_instance()\n",
    "\n",
    "service_agreement_id1 = nevermined.assets.order(ASSET_COMPUTE_DID_1, ServiceTypesIndices.DEFAULT_COMPUTING_INDEX, consumer_account, consumer_account)\n",
    "print(f\"Service Agreement ID: {service_agreement_id1}\")\n",
    "utils.wait_for_event(keeper, service_agreement_id1)\n",
    "\n",
    "service_agreement_id2 = nevermined.assets.order(ASSET_COMPUTE_DID_2, ServiceTypesIndices.DEFAULT_COMPUTING_INDEX, consumer_account, consumer_account)\n",
    "print(f\"Service Agreement ID: {service_agreement_id2}\")\n",
    "utils.wait_for_event(keeper, service_agreement_id2)\n",
    "\n",
    "service_agreement_id_coordinator = nevermined.assets.order(ASSET_COORDINATOR_DID, ServiceTypesIndices.DEFAULT_COMPUTING_INDEX, consumer_account, consumer_account)\n",
    "print(f\"Service Agreement ID: {service_agreement_id_coordinator}\")\n",
    "utils.wait_for_event(keeper, service_agreement_id_coordinator)\n"
   ]
  },
  {
   "cell_type": "markdown",
   "metadata": {},
   "source": [
    "### Execute workflows\n",
    "\n",
    "This orders the Nevermined to start the execution of the workflows:\n",
    "- One for each data asset\n",
    "- One for the coordinator service"
   ]
  },
  {
   "cell_type": "code",
   "execution_count": 6,
   "metadata": {},
   "outputs": [
    {
     "name": "stdout",
     "output_type": "stream",
     "text": [
      "Execution ID: nevermined-compute-bzs6m\n",
      "Execution ID: nevermined-compute-685h9\n",
      "Execution ID: nevermined-compute-56xkj\n"
     ]
    }
   ],
   "source": [
    "execution_id1 = nevermined.assets.execute(\n",
    "    service_agreement_id1,\n",
    "    ASSET_COMPUTE_DID_1,\n",
    "    ServiceTypesIndices.DEFAULT_COMPUTING_INDEX,\n",
    "    consumer_account,\n",
    "    ddo_workflow1.did\n",
    ")\n",
    "print(f\"Execution ID: {execution_id1}\")\n",
    "\n",
    "execution_id2 = nevermined.assets.execute(\n",
    "    service_agreement_id2,\n",
    "    ASSET_COMPUTE_DID_2,\n",
    "    ServiceTypesIndices.DEFAULT_COMPUTING_INDEX,\n",
    "    consumer_account,\n",
    "    ddo_workflow2.did\n",
    ")\n",
    "print(f\"Execution ID: {execution_id2}\")\n",
    "\n",
    "execution_id_coordinator = nevermined.assets.execute(\n",
    "    service_agreement_id_coordinator,\n",
    "    ASSET_COORDINATOR_DID,\n",
    "    ServiceTypesIndices.DEFAULT_COMPUTING_INDEX,\n",
    "    consumer_account,\n",
    "    ddo_workflow_coordinator.did\n",
    ")\n",
    "print(f\"Execution ID: {execution_id_coordinator}\")"
   ]
  },
  {
   "cell_type": "markdown",
   "metadata": {},
   "source": [
    "### Wait for compute jobs to finish"
   ]
  },
  {
   "cell_type": "code",
   "execution_count": 7,
   "metadata": {},
   "outputs": [
    {
     "name": "stdout",
     "output_type": "stream",
     "text": [
      "nevermined-compute-bzs6m: Running\n",
      "nevermined-compute-685h9: Running\n",
      "nevermined-compute-56xkj: Running\n",
      "\n",
      "nevermined-compute-bzs6m: Running\n",
      "nevermined-compute-685h9: Running\n",
      "nevermined-compute-56xkj: Running\n",
      "\n",
      "nevermined-compute-bzs6m: Running\n",
      "nevermined-compute-685h9: Running\n",
      "nevermined-compute-56xkj: Running\n",
      "\n",
      "nevermined-compute-bzs6m: Running\n",
      "nevermined-compute-685h9: Running\n",
      "nevermined-compute-56xkj: Running\n",
      "\n",
      "nevermined-compute-bzs6m: Running\n",
      "nevermined-compute-685h9: Running\n",
      "nevermined-compute-56xkj: Running\n",
      "\n",
      "nevermined-compute-bzs6m: Running\n",
      "nevermined-compute-685h9: Running\n",
      "nevermined-compute-56xkj: Running\n",
      "\n",
      "nevermined-compute-bzs6m: Running\n",
      "nevermined-compute-685h9: Running\n",
      "nevermined-compute-56xkj: Running\n",
      "\n",
      "nevermined-compute-bzs6m: Running\n",
      "nevermined-compute-685h9: Running\n",
      "nevermined-compute-56xkj: Running\n",
      "\n",
      "nevermined-compute-bzs6m: Running\n",
      "nevermined-compute-685h9: Running\n",
      "nevermined-compute-56xkj: Running\n",
      "\n",
      "nevermined-compute-bzs6m: Running\n",
      "nevermined-compute-685h9: Running\n",
      "nevermined-compute-56xkj: Running\n",
      "\n",
      "nevermined-compute-bzs6m: Running\n",
      "nevermined-compute-685h9: Running\n",
      "nevermined-compute-56xkj: Running\n",
      "\n",
      "nevermined-compute-bzs6m: Running\n",
      "nevermined-compute-685h9: Running\n",
      "nevermined-compute-56xkj: Running\n",
      "\n",
      "nevermined-compute-bzs6m: Running\n",
      "nevermined-compute-685h9: Running\n",
      "nevermined-compute-56xkj: Running\n",
      "\n",
      "nevermined-compute-bzs6m: Running\n",
      "nevermined-compute-685h9: Running\n",
      "nevermined-compute-56xkj: Running\n",
      "\n",
      "nevermined-compute-bzs6m: Running\n",
      "nevermined-compute-685h9: Running\n",
      "nevermined-compute-56xkj: Running\n",
      "\n",
      "nevermined-compute-bzs6m: Running\n",
      "nevermined-compute-685h9: Running\n",
      "nevermined-compute-56xkj: Running\n",
      "\n",
      "nevermined-compute-bzs6m: Running\n",
      "nevermined-compute-685h9: Running\n",
      "nevermined-compute-56xkj: Running\n",
      "\n",
      "nevermined-compute-bzs6m: Running\n",
      "nevermined-compute-685h9: Running\n",
      "nevermined-compute-56xkj: Running\n",
      "\n",
      "nevermined-compute-bzs6m: Running\n",
      "nevermined-compute-685h9: Running\n",
      "nevermined-compute-56xkj: Running\n",
      "\n",
      "nevermined-compute-bzs6m: Running\n",
      "nevermined-compute-685h9: Running\n",
      "nevermined-compute-56xkj: Running\n",
      "\n",
      "nevermined-compute-bzs6m: Running\n",
      "nevermined-compute-685h9: Running\n",
      "nevermined-compute-56xkj: Running\n",
      "\n",
      "nevermined-compute-bzs6m: Running\n",
      "nevermined-compute-685h9: Running\n",
      "nevermined-compute-56xkj: Running\n",
      "\n",
      "nevermined-compute-bzs6m: Running\n",
      "nevermined-compute-685h9: Running\n",
      "nevermined-compute-56xkj: Running\n",
      "\n",
      "nevermined-compute-bzs6m: Running\n",
      "nevermined-compute-685h9: Running\n",
      "nevermined-compute-56xkj: Running\n",
      "\n",
      "nevermined-compute-bzs6m: Running\n",
      "nevermined-compute-685h9: Running\n",
      "nevermined-compute-56xkj: Running\n",
      "\n",
      "nevermined-compute-bzs6m: Running\n",
      "nevermined-compute-685h9: Running\n",
      "nevermined-compute-56xkj: Running\n",
      "\n",
      "nevermined-compute-bzs6m: Running\n",
      "nevermined-compute-685h9: Running\n",
      "nevermined-compute-56xkj: Running\n",
      "\n",
      "nevermined-compute-bzs6m: Running\n",
      "nevermined-compute-685h9: Running\n",
      "nevermined-compute-56xkj: Running\n",
      "\n",
      "nevermined-compute-bzs6m: Running\n",
      "nevermined-compute-685h9: Running\n",
      "nevermined-compute-56xkj: Running\n",
      "\n",
      "nevermined-compute-bzs6m: Running\n",
      "nevermined-compute-685h9: Running\n",
      "nevermined-compute-56xkj: Running\n",
      "\n",
      "nevermined-compute-bzs6m: Running\n",
      "nevermined-compute-685h9: Succeeded\n",
      "nevermined-compute-56xkj: Running\n",
      "\n",
      "nevermined-compute-bzs6m: Running\n",
      "nevermined-compute-685h9: Succeeded\n",
      "nevermined-compute-56xkj: Running\n",
      "\n",
      "nevermined-compute-bzs6m: Running\n",
      "nevermined-compute-685h9: Succeeded\n",
      "nevermined-compute-56xkj: Running\n",
      "\n",
      "nevermined-compute-bzs6m: Succeeded\n",
      "nevermined-compute-685h9: Succeeded\n",
      "nevermined-compute-56xkj: Running\n",
      "\n",
      "nevermined-compute-bzs6m: Succeeded\n",
      "nevermined-compute-685h9: Succeeded\n",
      "nevermined-compute-56xkj: Running\n",
      "\n",
      "nevermined-compute-bzs6m: Succeeded\n",
      "nevermined-compute-685h9: Succeeded\n",
      "nevermined-compute-56xkj: Running\n",
      "\n",
      "nevermined-compute-bzs6m: Succeeded\n",
      "nevermined-compute-685h9: Succeeded\n",
      "nevermined-compute-56xkj: Running\n",
      "\n",
      "nevermined-compute-bzs6m: Succeeded\n",
      "nevermined-compute-685h9: Succeeded\n",
      "nevermined-compute-56xkj: Succeeded\n",
      "\n",
      "Output DID: did:nv:abaf4bb3467248b65c8cf3bc703f1978061256445210f4720d4543c7a155dfda\n",
      "Output DID: did:nv:ac2864fb7f68b079c21ee9b1904c319398289ad6c671dd989597fe48060f5d92\n",
      "Output DID: did:nv:350410e9426e01029ed3e9a2b06b8c525f734e91d83242fa02169c808ed1141b\n"
     ]
    }
   ],
   "source": [
    "succeeded = set()\n",
    "failed = set()\n",
    "outputs = set()\n",
    "while len(succeeded) < 3:\n",
    "    for job_id in [execution_id1, execution_id2, execution_id_coordinator]:\n",
    "        result = nevermined.assets.compute_status(service_agreement_id1, job_id, consumer_account)\n",
    "        status = result[\"status\"]\n",
    "        print(f\"{job_id}: {status}\")\n",
    "\n",
    "        if status == \"Succeeded\":\n",
    "            succeeded.add(job_id)\n",
    "            outputs.add(result[\"did\"])\n",
    "        elif status == \"Failed\":\n",
    "            raise Exception(\"Some jobs failed\")\n",
    "    print()\n",
    "    time.sleep(10)\n",
    "\n",
    "for did in outputs:\n",
    "    print(f\"Output DID: {did}\")"
   ]
  },
  {
   "cell_type": "markdown",
   "metadata": {},
   "source": [
    "### Download the results"
   ]
  },
  {
   "cell_type": "code",
   "execution_count": 8,
   "metadata": {},
   "outputs": [
    {
     "name": "stdout",
     "output_type": "stream",
     "text": [
      "Downloading: did:nv:abaf4bb3467248b65c8cf3bc703f1978061256445210f4720d4543c7a155dfda\n",
      "Downloading: did:nv:ac2864fb7f68b079c21ee9b1904c319398289ad6c671dd989597fe48060f5d92\n",
      "Downloading: did:nv:350410e9426e01029ed3e9a2b06b8c525f734e91d83242fa02169c808ed1141b\n"
     ]
    }
   ],
   "source": [
    "for did in outputs:\n",
    "    print(f\"Downloading: {did}\")\n",
    "    nevermined.assets.download(did, ServiceTypesIndices.DEFAULT_ACCESS_INDEX, consumer_account, \"./\")"
   ]
  },
  {
   "cell_type": "code",
   "execution_count": 9,
   "metadata": {},
   "outputs": [
    {
     "data": {
      "text/plain": [
       "{'did': 'did:nv:350410e9426e01029ed3e9a2b06b8c525f734e91d83242fa02169c808ed1141b',\n",
       " 'finishedAt': '2021-03-11T12:55:43+00:00Z',\n",
       " 'pods': [{'finishedAt': '2021-03-11T12:54:11+00:00Z',\n",
       "   'podName': 'aggregator',\n",
       "   'startedAt': '2021-03-11T12:49:37+00:00Z',\n",
       "   'status': 'Succeeded'},\n",
       "  {'finishedAt': '2021-03-11T12:54:16+00:00Z',\n",
       "   'podName': 'coordinator',\n",
       "   'startedAt': '2021-03-11T12:49:37+00:00Z',\n",
       "   'status': 'Succeeded'},\n",
       "  {'finishedAt': '2021-03-11T12:49:32+00:00Z',\n",
       "   'podName': 'configurator',\n",
       "   'startedAt': '2021-03-11T12:49:27+00:00Z',\n",
       "   'status': 'Succeeded'},\n",
       "  {'finishedAt': '2021-03-11T12:55:33+00:00Z',\n",
       "   'podName': 'publishing',\n",
       "   'startedAt': '2021-03-11T12:54:21+00:00Z',\n",
       "   'status': 'Succeeded'}],\n",
       " 'startedAt': '2021-03-11T12:49:27+00:00Z',\n",
       " 'status': 'Succeeded'}"
      ]
     },
     "execution_count": 9,
     "metadata": {},
     "output_type": "execute_result"
    }
   ],
   "source": [
    "nevermined.assets.compute_status(service_agreement_id1, job_id, consumer_account)"
   ]
  },
  {
   "cell_type": "code",
   "execution_count": null,
   "metadata": {},
   "outputs": [],
   "source": []
  }
 ],
 "metadata": {
  "kernelspec": {
   "display_name": "Python 3",
   "language": "python",
   "name": "python3"
  },
  "language_info": {
   "codemirror_mode": {
    "name": "ipython",
    "version": 3
   },
   "file_extension": ".py",
   "mimetype": "text/x-python",
   "name": "python",
   "nbconvert_exporter": "python",
   "pygments_lexer": "ipython3",
   "version": "3.8.7"
  }
 },
 "nbformat": 4,
 "nbformat_minor": 4
}
