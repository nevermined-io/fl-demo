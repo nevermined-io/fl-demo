{
 "cells": [
  {
   "cell_type": "markdown",
   "id": "instant-cameroon",
   "metadata": {
    "papermill": {
     "duration": 0.02046,
     "end_time": "2021-03-11T12:51:43.635272",
     "exception": false,
     "start_time": "2021-03-11T12:51:43.614812",
     "status": "completed"
    },
    "tags": []
   },
   "source": [
    "# Federated Fraud Demo with logistic regression\n"
   ]
  },
  {
   "cell_type": "code",
   "execution_count": 1,
   "id": "anonymous-johnson",
   "metadata": {
    "execution": {
     "iopub.execute_input": "2021-03-11T12:51:43.694755Z",
     "iopub.status.busy": "2021-03-11T12:51:43.693446Z",
     "iopub.status.idle": "2021-03-11T12:51:46.712151Z",
     "shell.execute_reply": "2021-03-11T12:51:46.715282Z"
    },
    "papermill": {
     "duration": 3.065453,
     "end_time": "2021-03-11T12:51:46.715800",
     "exception": false,
     "start_time": "2021-03-11T12:51:43.650347",
     "status": "completed"
    },
    "tags": []
   },
   "outputs": [],
   "source": [
    "# Libraries\n",
    "import pandas as pd\n",
    "import numpy as np\n",
    "\n",
    "from sklearn.linear_model import LogisticRegression\n",
    "from sklearn.model_selection import train_test_split\n",
    "from sklearn.metrics import accuracy_score, confusion_matrix\n",
    "from xain_sdk import ParticipantABC, run_participant, configure_logging\n",
    "\n",
    "\n",
    "import pathlib\n",
    "import os\n",
    "from io import BytesIO\n",
    "\n",
    "INPUTS_PATH = os.environ.get(\"NEVERMINED_INPUTS_PATH\")\n",
    "COORDINATOR_URL = \"http://172.17.0.2:8081\"\n",
    "np.random.seed(123)"
   ]
  },
  {
   "cell_type": "code",
   "execution_count": 2,
   "id": "electric-signal",
   "metadata": {
    "execution": {
     "iopub.execute_input": "2021-03-11T12:51:46.767006Z",
     "iopub.status.busy": "2021-03-11T12:51:46.764310Z",
     "iopub.status.idle": "2021-03-11T12:51:50.016612Z",
     "shell.execute_reply": "2021-03-11T12:51:50.018302Z"
    },
    "papermill": {
     "duration": 3.284783,
     "end_time": "2021-03-11T12:51:50.019576",
     "exception": false,
     "start_time": "2021-03-11T12:51:46.734793",
     "status": "completed"
    },
    "tags": []
   },
   "outputs": [],
   "source": [
    "# get input file path\n",
    "input_file_path = next(pathlib.Path(INPUTS_PATH).rglob(\"*/creditcard*.csv\")).as_posix()\n",
    "\n",
    "# Load target dataset\n",
    "df = pd.read_csv(input_file_path)\n",
    "\n",
    "feature_names = df.iloc[:, 1:30].columns\n",
    "target = df.iloc[:1, 30:].columns\n",
    "\n",
    "data_features = df[feature_names]\n",
    "data_target = df[target]\n",
    "\n",
    "x_train, x_test, y_train, y_test = train_test_split(data_features, data_target, \n",
    "                                                    train_size = 0.70, test_size = 0.30,\n",
    "                                                    random_state = 1)"
   ]
  },
  {
   "cell_type": "code",
   "execution_count": 3,
   "id": "acting-premium",
   "metadata": {
    "execution": {
     "iopub.execute_input": "2021-03-11T12:51:50.062675Z",
     "iopub.status.busy": "2021-03-11T12:51:50.061133Z",
     "iopub.status.idle": "2021-03-11T12:51:50.092636Z",
     "shell.execute_reply": "2021-03-11T12:51:50.093655Z"
    },
    "papermill": {
     "duration": 0.058321,
     "end_time": "2021-03-11T12:51:50.093937",
     "exception": false,
     "start_time": "2021-03-11T12:51:50.035616",
     "status": "completed"
    },
    "tags": []
   },
   "outputs": [],
   "source": [
    "\n",
    "class Participant(ParticipantABC):\n",
    "\n",
    "    def __init__(self, x_train, x_test, y_train, y_test):\n",
    "        super(Participant, self).__init__()\n",
    "        self.x_train = x_train\n",
    "        self.x_test = x_test\n",
    "        self.y_train = y_train\n",
    "        self.y_test = y_test\n",
    "        self.round = 1\n",
    "        self.model = LogisticRegression(max_iter=1000)\n",
    "\n",
    "    def get_weights(self):\n",
    "        return self.model.coef_\n",
    "\n",
    "    def set_weights(self, weights):\n",
    "        self.model.coef_ = weights.reshape(1, 29)\n",
    "\n",
    "    def train_round(self, training_input):\n",
    "        # set global model weights\n",
    "        if training_input is not None:\n",
    "            self.set_weights(training_input)\n",
    "\n",
    "        # select a subset of the data to train\n",
    "        x_train = self.x_train.sample(frac=0.1)\n",
    "        y_train = self.y_train.loc[x_train.index, :]\n",
    "\n",
    "        # train\n",
    "        self.model.fit(x_train, y_train)\n",
    "\n",
    "        # check accuracy\n",
    "        pred = self.model.predict(self.x_test)\n",
    "        print(f\"[{self.round}] Accuracy: {accuracy_score(self.y_test, pred)}\")\n",
    "        self.round += 1\n",
    "\n",
    "        return (self.get_weights(), len(x_train))\n",
    "\n",
    "    def serialize_training_result(self, training_result):\n",
    "        (weights, number_of_samples) = training_result\n",
    "\n",
    "        # reshape weights\n",
    "        weights = weights.reshape(29,)\n",
    "\n",
    "        writer = BytesIO()\n",
    "        writer.write(number_of_samples.to_bytes(4, byteorder=\"big\"))\n",
    "        np.save(writer, weights, allow_pickle=False)\n",
    "        return writer.getbuffer()[:]\n",
    "\n",
    "    def deserialize_training_input(self, data):\n",
    "        if not data:\n",
    "            return None\n",
    "\n",
    "        reader = BytesIO(data)\n",
    "        return np.load(reader, allow_pickle=False)"
   ]
  },
  {
   "cell_type": "code",
   "execution_count": 4,
   "id": "fourth-persian",
   "metadata": {
    "execution": {
     "iopub.execute_input": "2021-03-11T12:51:50.139853Z",
     "iopub.status.busy": "2021-03-11T12:51:50.138585Z",
     "iopub.status.idle": "2021-03-11T12:54:01.379933Z",
     "shell.execute_reply": "2021-03-11T12:54:01.381102Z"
    },
    "papermill": {
     "duration": 131.265077,
     "end_time": "2021-03-11T12:54:01.381505",
     "exception": false,
     "start_time": "2021-03-11T12:51:50.116428",
     "status": "completed"
    },
    "tags": []
   },
   "outputs": [
    {
     "name": "stderr",
     "output_type": "stream",
     "text": [
      "/usr/local/lib/python3.8/site-packages/sklearn/utils/validation.py:63: DataConversionWarning: A column-vector y was passed when a 1d array was expected. Please change the shape of y to (n_samples, ), for example using ravel().\n",
      "  return f(*args, **kwargs)\n"
     ]
    },
    {
     "name": "stdout",
     "output_type": "stream",
     "text": [
      "[1] Accuracy: 0.9987126070876832\n"
     ]
    },
    {
     "name": "stderr",
     "output_type": "stream",
     "text": [
      "/usr/local/lib/python3.8/site-packages/sklearn/utils/validation.py:63: DataConversionWarning: A column-vector y was passed when a 1d array was expected. Please change the shape of y to (n_samples, ), for example using ravel().\n",
      "  return f(*args, **kwargs)\n"
     ]
    },
    {
     "name": "stdout",
     "output_type": "stream",
     "text": [
      "[2] Accuracy: 0.9994616356912129\n"
     ]
    },
    {
     "name": "stderr",
     "output_type": "stream",
     "text": [
      "/usr/local/lib/python3.8/site-packages/sklearn/utils/validation.py:63: DataConversionWarning: A column-vector y was passed when a 1d array was expected. Please change the shape of y to (n_samples, ), for example using ravel().\n",
      "  return f(*args, **kwargs)\n"
     ]
    },
    {
     "name": "stdout",
     "output_type": "stream",
     "text": [
      "[3] Accuracy: 0.9991807499648893\n"
     ]
    },
    {
     "name": "stderr",
     "output_type": "stream",
     "text": [
      "/usr/local/lib/python3.8/site-packages/sklearn/utils/validation.py:63: DataConversionWarning: A column-vector y was passed when a 1d array was expected. Please change the shape of y to (n_samples, ), for example using ravel().\n",
      "  return f(*args, **kwargs)\n"
     ]
    },
    {
     "name": "stdout",
     "output_type": "stream",
     "text": [
      "[4] Accuracy: 0.9992977856841908\n"
     ]
    },
    {
     "name": "stderr",
     "output_type": "stream",
     "text": [
      "/usr/local/lib/python3.8/site-packages/sklearn/utils/validation.py:63: DataConversionWarning: A column-vector y was passed when a 1d array was expected. Please change the shape of y to (n_samples, ), for example using ravel().\n",
      "  return f(*args, **kwargs)\n"
     ]
    },
    {
     "name": "stdout",
     "output_type": "stream",
     "text": [
      "[5] Accuracy: 0.9992743785403305\n"
     ]
    },
    {
     "name": "stderr",
     "output_type": "stream",
     "text": [
      "/usr/local/lib/python3.8/site-packages/sklearn/utils/validation.py:63: DataConversionWarning: A column-vector y was passed when a 1d array was expected. Please change the shape of y to (n_samples, ), for example using ravel().\n",
      "  return f(*args, **kwargs)\n"
     ]
    },
    {
     "name": "stdout",
     "output_type": "stream",
     "text": [
      "[6] Accuracy: 0.9993445999719114\n"
     ]
    },
    {
     "name": "stderr",
     "output_type": "stream",
     "text": [
      "/usr/local/lib/python3.8/site-packages/sklearn/utils/validation.py:63: DataConversionWarning: A column-vector y was passed when a 1d array was expected. Please change the shape of y to (n_samples, ), for example using ravel().\n",
      "  return f(*args, **kwargs)\n"
     ]
    },
    {
     "name": "stdout",
     "output_type": "stream",
     "text": [
      "[7] Accuracy: 0.9993445999719114\n"
     ]
    },
    {
     "name": "stderr",
     "output_type": "stream",
     "text": [
      "/usr/local/lib/python3.8/site-packages/sklearn/utils/validation.py:63: DataConversionWarning: A column-vector y was passed when a 1d array was expected. Please change the shape of y to (n_samples, ), for example using ravel().\n",
      "  return f(*args, **kwargs)\n"
     ]
    },
    {
     "name": "stdout",
     "output_type": "stream",
     "text": [
      "[8] Accuracy: 0.9994616356912129\n"
     ]
    },
    {
     "name": "stderr",
     "output_type": "stream",
     "text": [
      "/usr/local/lib/python3.8/site-packages/sklearn/utils/validation.py:63: DataConversionWarning: A column-vector y was passed when a 1d array was expected. Please change the shape of y to (n_samples, ), for example using ravel().\n",
      "  return f(*args, **kwargs)\n"
     ]
    },
    {
     "name": "stdout",
     "output_type": "stream",
     "text": [
      "[9] Accuracy: 0.999157342821029\n"
     ]
    },
    {
     "name": "stderr",
     "output_type": "stream",
     "text": [
      "/usr/local/lib/python3.8/site-packages/sklearn/utils/validation.py:63: DataConversionWarning: A column-vector y was passed when a 1d array was expected. Please change the shape of y to (n_samples, ), for example using ravel().\n",
      "  return f(*args, **kwargs)\n"
     ]
    },
    {
     "name": "stdout",
     "output_type": "stream",
     "text": [
      "[10] Accuracy: 0.9993680071157718\n"
     ]
    }
   ],
   "source": [
    "configure_logging(log_http_requests=True)\n",
    "\n",
    "participant = Participant(x_train, x_test, y_train, y_test)\n",
    "run_participant(participant, COORDINATOR_URL)"
   ]
  }
 ],
 "metadata": {
  "kernelspec": {
   "display_name": "Python 3",
   "language": "python",
   "name": "python3"
  },
  "language_info": {
   "codemirror_mode": {
    "name": "ipython",
    "version": 3
   },
   "file_extension": ".py",
   "mimetype": "text/x-python",
   "name": "python",
   "nbconvert_exporter": "python",
   "pygments_lexer": "ipython3",
   "version": "3.9.1"
  },
  "papermill": {
   "default_parameters": {},
   "duration": 141.535541,
   "end_time": "2021-03-11T12:54:02.220291",
   "environment_variables": {},
   "exception": null,
   "input_path": "federated_fraud_demo.ipynb",
   "output_path": "/data/outputs/federated_fraud_demo_output.ipynb",
   "parameters": {},
   "start_time": "2021-03-11T12:51:40.684750",
   "version": "2.3.3"
  }
 },
 "nbformat": 4,
 "nbformat_minor": 5
}
