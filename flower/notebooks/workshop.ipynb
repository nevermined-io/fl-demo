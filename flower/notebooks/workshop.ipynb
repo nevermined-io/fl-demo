{
 "cells": [
  {
   "cell_type": "code",
   "execution_count": 1,
   "metadata": {},
   "outputs": [],
   "source": [
    "from contracts_lib_py.account import Account\n",
    "from nevermined_sdk_py import Config, Nevermined\n",
    "from nevermined_sdk_py.nevermined.keeper import NeverminedKeeper as Keeper\n",
    "from common_utils_py.agreements.service_types import ServiceTypesIndices\n",
    "\n",
    "from workshop import utils\n",
    "\n",
    "PROVIDER_ADDRESS = \"0x068Ed00cF0441e4829D9784fCBe7b9e26D4BD8d0\"\n",
    "PROVIDER_PASSWORD = \"secret\"\n",
    "PROVIDER_KEYFILE = \"../resources/accounts/provider.json\"\n",
    "CONFIG_FILE = \"../config.ini\"\n",
    "\n",
    "URL_DATASET_1 = \"https://github.com/nevermined-io/hellodecentralization/raw/main/resources/data/creditcard_part1.csv\"\n",
    "URL_DATASET_2 = \"https://github.com/nevermined-io/hellodecentralization/raw/main/resources/data/creditcard_part2.csv\"\n",
    "\n",
    "CONSUMER_ADDRESS = \"0x00Bd138aBD70e2F00903268F3Db08f2D25677C9e\"\n",
    "CONSUMER_PASSWORD = \"node0\"\n",
    "CONSUMER_KEYFILE = \"../resources/accounts/consumer.json\""
   ]
  },
  {
   "cell_type": "code",
   "execution_count": 2,
   "metadata": {},
   "outputs": [],
   "source": [
    "nevermined = Nevermined(Config(CONFIG_FILE))\n",
    "\n",
    "provider_account = Account(PROVIDER_ADDRESS, PROVIDER_PASSWORD, PROVIDER_KEYFILE)"
   ]
  },
  {
   "cell_type": "code",
   "execution_count": 3,
   "metadata": {},
   "outputs": [
    {
     "name": "stdout",
     "output_type": "stream",
     "text": [
      "{\n",
      "  \"main\": {\n",
      "    \"name\": \"Credit Card Data Part 1\",\n",
      "    \"dateCreated\": null,\n",
      "    \"author\": \"Nevermined Provider\",\n",
      "    \"license\": \"\",\n",
      "    \"price\": null,\n",
      "    \"files\": [\n",
      "      {\n",
      "        \"index\": 0,\n",
      "        \"contentType\": \"text/text\",\n",
      "        \"checksum\": \"0x52b5c93b82dd9e7ecc3d9fdf4755f7f69a54484941897dc517b4adfe3bbc3377\",\n",
      "        \"checksumType\": \"MD5\",\n",
      "        \"contentLength\": \"12057507\",\n",
      "        \"url\": null\n",
      "      }\n",
      "    ],\n",
      "    \"type\": \"dataset\"\n",
      "  }\n",
      "}\n"
     ]
    }
   ],
   "source": [
    "metadata_compute1 = utils.metadata_dataset_template()\n",
    "utils.print_json(metadata_compute1)"
   ]
  },
  {
   "cell_type": "code",
   "execution_count": 4,
   "metadata": {},
   "outputs": [
    {
     "name": "stdout",
     "output_type": "stream",
     "text": [
      "{\n",
      "  \"main\": {\n",
      "    \"name\": \"Credit Card Data Part 1\",\n",
      "    \"dateCreated\": \"2021-02-19T14:09:52Z\",\n",
      "    \"author\": \"Nevermined Provider\",\n",
      "    \"license\": \"\",\n",
      "    \"price\": \"1\",\n",
      "    \"files\": [\n",
      "      {\n",
      "        \"index\": 0,\n",
      "        \"contentType\": \"text/text\",\n",
      "        \"checksum\": \"0x52b5c93b82dd9e7ecc3d9fdf4755f7f69a54484941897dc517b4adfe3bbc3377\",\n",
      "        \"checksumType\": \"MD5\",\n",
      "        \"contentLength\": \"12057507\",\n",
      "        \"url\": \"https://github.com/nevermined-io/hellodecentralization/raw/main/resources/data/creditcard_part1.csv\"\n",
      "      }\n",
      "    ],\n",
      "    \"type\": \"dataset\"\n",
      "  }\n",
      "}\n"
     ]
    }
   ],
   "source": [
    "metadata_compute1[\"main\"][\"dateCreated\"] = utils.date_now()\n",
    "metadata_compute1[\"main\"][\"price\"] = str(1)\n",
    "metadata_compute1[\"main\"][\"files\"][0][\"url\"] = URL_DATASET_1\n",
    "\n",
    "utils.print_json(metadata_compute1)"
   ]
  },
  {
   "cell_type": "code",
   "execution_count": 5,
   "metadata": {},
   "outputs": [
    {
     "name": "stdout",
     "output_type": "stream",
     "text": [
      "did:nv:441dce3b5d2876d72d607c39990db3977fde06203358e9d59f0068c79bb8b6a5\n"
     ]
    }
   ],
   "source": [
    "ddo_compute1 = nevermined.assets.create_compute(metadata_compute1, provider_account)\n",
    "print(ddo_compute1.did)"
   ]
  },
  {
   "cell_type": "code",
   "execution_count": 6,
   "metadata": {},
   "outputs": [
    {
     "name": "stdout",
     "output_type": "stream",
     "text": [
      "{\n",
      "  \"main\": {\n",
      "    \"name\": \"Credit Card Data Part 1\",\n",
      "    \"dateCreated\": \"2021-02-19T14:09:54Z\",\n",
      "    \"author\": \"Nevermined Provider\",\n",
      "    \"license\": \"\",\n",
      "    \"price\": \"1\",\n",
      "    \"files\": [\n",
      "      {\n",
      "        \"index\": 0,\n",
      "        \"contentType\": \"text/text\",\n",
      "        \"checksum\": \"0x52b5c93b82dd9e7ecc3d9fdf4755f7f69a54484941897dc517b4adfe3bbc3377\",\n",
      "        \"checksumType\": \"MD5\",\n",
      "        \"contentLength\": \"12057507\",\n",
      "        \"url\": \"https://github.com/nevermined-io/hellodecentralization/raw/main/resources/data/creditcard_part2.csv\"\n",
      "      }\n",
      "    ],\n",
      "    \"type\": \"dataset\"\n",
      "  }\n",
      "}\n"
     ]
    }
   ],
   "source": [
    "metadata_compute2 = utils.metadata_dataset_template()\n",
    "\n",
    "metadata_compute2[\"main\"][\"dateCreated\"] = utils.date_now()\n",
    "metadata_compute2[\"main\"][\"price\"] = str(1)\n",
    "metadata_compute2[\"main\"][\"files\"][0][\"url\"] = URL_DATASET_2\n",
    "utils.print_json(metadata_compute2)\n"
   ]
  },
  {
   "cell_type": "code",
   "execution_count": 7,
   "metadata": {},
   "outputs": [
    {
     "name": "stdout",
     "output_type": "stream",
     "text": [
      "did:nv:dbb096fe286135d85ac94f2bf2bc86a7c163fac845406ce5206de2b1d66ee9df\n"
     ]
    }
   ],
   "source": [
    "ddo_compute2 = nevermined.assets.create_compute(metadata_compute2, provider_account)\n",
    "print(ddo_compute2.did)"
   ]
  },
  {
   "cell_type": "code",
   "execution_count": 8,
   "metadata": {},
   "outputs": [
    {
     "name": "stdout",
     "output_type": "stream",
     "text": [
      "{\n",
      "  \"main\": {\n",
      "    \"name\": \"Coordinator\",\n",
      "    \"dateCreated\": null,\n",
      "    \"author\": \"Nevermined Coordinator Provider\",\n",
      "    \"license\": \"\",\n",
      "    \"price\": null,\n",
      "    \"files\": [],\n",
      "    \"type\": \"compute\"\n",
      "  }\n",
      "}\n"
     ]
    }
   ],
   "source": [
    "metadata_compute_coordinator = utils.metadata_compute_template()\n",
    "utils.print_json(metadata_compute_coordinator)"
   ]
  },
  {
   "cell_type": "code",
   "execution_count": 9,
   "metadata": {},
   "outputs": [
    {
     "name": "stdout",
     "output_type": "stream",
     "text": [
      "did:nv:202f02dfd66527a600cfd5cca7c10f8e496a332ed386268eb50b30407fd4b8ad\n"
     ]
    }
   ],
   "source": [
    "metadata_compute_coordinator[\"main\"][\"dateCreated\"] = utils.date_now()\n",
    "metadata_compute_coordinator[\"main\"][\"price\"] = str(1)\n",
    "\n",
    "ddo_compute_coordinator = nevermined.assets.create_compute(metadata_compute_coordinator, provider_account)\n",
    "print(ddo_compute_coordinator.did)"
   ]
  },
  {
   "cell_type": "code",
   "execution_count": 10,
   "metadata": {},
   "outputs": [
    {
     "data": {
      "text/plain": [
       "True"
      ]
     },
     "execution_count": 10,
     "metadata": {},
     "output_type": "execute_result"
    }
   ],
   "source": [
    "consumer_account = Account(CONSUMER_ADDRESS, CONSUMER_PASSWORD, CONSUMER_KEYFILE)\n",
    "\n",
    "nevermined.accounts.request_tokens(consumer_account, 10)"
   ]
  },
  {
   "cell_type": "code",
   "execution_count": 11,
   "metadata": {},
   "outputs": [
    {
     "name": "stdout",
     "output_type": "stream",
     "text": [
      "{\n",
      "  \"main\": {\n",
      "    \"name\": \"Fraud Demo Algorithm\",\n",
      "    \"dateCreated\": null,\n",
      "    \"author\": \"Nevermined Consumer\",\n",
      "    \"license\": \"\",\n",
      "    \"price\": \"0\",\n",
      "    \"files\": [\n",
      "      {\n",
      "        \"index\": 0,\n",
      "        \"contentType\": \"text/text\",\n",
      "        \"checksum\": \"0x52b5c93b82dd9e7ecc3d9fdf4755f7f69a54484941897dc517b4adfe3bbc3377\",\n",
      "        \"checksumType\": \"MD5\",\n",
      "        \"contentLength\": \"12057507\",\n",
      "        \"url\": null\n",
      "      }\n",
      "    ],\n",
      "    \"type\": \"algorithm\",\n",
      "    \"algorithm\": {\n",
      "      \"language\": \"python\",\n",
      "      \"format\": \"py\",\n",
      "      \"version\": \"0.1.0\",\n",
      "      \"entrypoint\": null,\n",
      "      \"requirements\": {\n",
      "        \"container\": {\n",
      "          \"image\": null,\n",
      "          \"tag\": null,\n",
      "          \"checksum\": \"sha256:53ad3a03b2fb240b6c494339821e6638cd44c989bcf26ec4d51a6a52f7518c1d\"\n",
      "        }\n",
      "      }\n",
      "    }\n",
      "  }\n",
      "}\n"
     ]
    }
   ],
   "source": [
    "metadata_algorithm = utils.metadata_algorithm_template()\n",
    "utils.print_json(metadata_algorithm)"
   ]
  },
  {
   "cell_type": "code",
   "execution_count": 12,
   "metadata": {},
   "outputs": [
    {
     "name": "stdout",
     "output_type": "stream",
     "text": [
      "{\n",
      "  \"main\": {\n",
      "    \"name\": \"Fraud Demo Algorithm\",\n",
      "    \"dateCreated\": \"2021-02-19T14:10:07Z\",\n",
      "    \"author\": \"Nevermined Consumer\",\n",
      "    \"license\": \"\",\n",
      "    \"price\": \"0\",\n",
      "    \"files\": [\n",
      "      {\n",
      "        \"index\": 0,\n",
      "        \"contentType\": \"text/text\",\n",
      "        \"checksum\": \"0x52b5c93b82dd9e7ecc3d9fdf4755f7f69a54484941897dc517b4adfe3bbc3377\",\n",
      "        \"checksumType\": \"MD5\",\n",
      "        \"contentLength\": \"12057507\",\n",
      "        \"url\": \"https://github.com/nevermined-io/hellodecentralization/raw/main/notebooks/federated_fraud_demo.ipynb\"\n",
      "      }\n",
      "    ],\n",
      "    \"type\": \"algorithm\",\n",
      "    \"algorithm\": {\n",
      "      \"language\": \"python\",\n",
      "      \"format\": \"py\",\n",
      "      \"version\": \"0.1.0\",\n",
      "      \"entrypoint\": \"pip install jupyter pandas papermill scikit-learn xain-sdk &&papermill --stdout-file - federated_fraud_demo.ipynb $NEVERMINED_OUTPUTS_PATH/federated_fraud_demo_output.ipynb\",\n",
      "      \"requirements\": {\n",
      "        \"container\": {\n",
      "          \"image\": \"python\",\n",
      "          \"tag\": \"3.8-slim-buster\",\n",
      "          \"checksum\": \"sha256:53ad3a03b2fb240b6c494339821e6638cd44c989bcf26ec4d51a6a52f7518c1d\"\n",
      "        }\n",
      "      }\n",
      "    }\n",
      "  }\n",
      "}\n"
     ]
    }
   ],
   "source": [
    "metadata_algorithm[\"main\"][\"dateCreated\"] = utils.date_now()\n",
    "metadata_algorithm[\"main\"][\"files\"][0][\"url\"] = \"https://github.com/nevermined-io/hellodecentralization/raw/main/notebooks/federated_fraud_demo.ipynb\"\n",
    "metadata_algorithm[\"main\"][\"algorithm\"][\"entrypoint\"] = (\n",
    "    \"pip install jupyter pandas papermill scikit-learn xain-sdk &&\"\n",
    "    \"papermill --stdout-file - federated_fraud_demo.ipynb $NEVERMINED_OUTPUTS_PATH/federated_fraud_demo_output.ipynb\"\n",
    ")\n",
    "\n",
    "metadata_algorithm[\"main\"][\"algorithm\"][\"requirements\"][\"container\"][\"image\"] = \"python\"\n",
    "metadata_algorithm[\"main\"][\"algorithm\"][\"requirements\"][\"container\"][\"tag\"] = \"3.8-slim-buster\"\n",
    "utils.print_json(metadata_algorithm)\n",
    "\n"
   ]
  },
  {
   "cell_type": "code",
   "execution_count": 13,
   "metadata": {},
   "outputs": [
    {
     "name": "stdout",
     "output_type": "stream",
     "text": [
      "did:nv:1cd0a8e1155daa01f95ad02a8dd17050dd1279bcdfb6e161c75a4078f8889e86\n"
     ]
    }
   ],
   "source": [
    "ddo_algorithm = nevermined.assets.create(metadata_algorithm, consumer_account, providers=[PROVIDER_ADDRESS])\n",
    "print(ddo_algorithm.did)"
   ]
  },
  {
   "cell_type": "code",
   "execution_count": 14,
   "metadata": {},
   "outputs": [
    {
     "name": "stdout",
     "output_type": "stream",
     "text": [
      "{\n",
      "  \"main\": {\n",
      "    \"name\": \"Fraud Demo Workflow\",\n",
      "    \"dateCreated\": null,\n",
      "    \"author\": \"Nevermined Consumer\",\n",
      "    \"license\": \"\",\n",
      "    \"price\": \"0\",\n",
      "    \"type\": \"workflow\",\n",
      "    \"workflow\": {\n",
      "      \"stages\": [\n",
      "        {\n",
      "          \"index\": 0,\n",
      "          \"input\": [\n",
      "            {\n",
      "              \"index\": 0,\n",
      "              \"id\": null\n",
      "            }\n",
      "          ],\n",
      "          \"transformation\": {\n",
      "            \"id\": null\n",
      "          }\n",
      "        }\n",
      "      ]\n",
      "    }\n",
      "  }\n",
      "}\n"
     ]
    }
   ],
   "source": [
    "metadata_workflow1 = utils.metadata_workflow_template()\n",
    "utils.print_json(metadata_workflow1)"
   ]
  },
  {
   "cell_type": "code",
   "execution_count": 15,
   "metadata": {},
   "outputs": [
    {
     "name": "stdout",
     "output_type": "stream",
     "text": [
      "{\n",
      "  \"main\": {\n",
      "    \"name\": \"Fraud Demo Workflow\",\n",
      "    \"dateCreated\": \"2021-02-19T14:10:10Z\",\n",
      "    \"author\": \"Nevermined Consumer\",\n",
      "    \"license\": \"\",\n",
      "    \"price\": \"0\",\n",
      "    \"type\": \"workflow\",\n",
      "    \"workflow\": {\n",
      "      \"stages\": [\n",
      "        {\n",
      "          \"index\": 0,\n",
      "          \"input\": [\n",
      "            {\n",
      "              \"index\": 0,\n",
      "              \"id\": \"did:nv:441dce3b5d2876d72d607c39990db3977fde06203358e9d59f0068c79bb8b6a5\"\n",
      "            }\n",
      "          ],\n",
      "          \"transformation\": {\n",
      "            \"id\": \"did:nv:1cd0a8e1155daa01f95ad02a8dd17050dd1279bcdfb6e161c75a4078f8889e86\"\n",
      "          }\n",
      "        }\n",
      "      ]\n",
      "    }\n",
      "  }\n",
      "}\n"
     ]
    }
   ],
   "source": [
    "metadata_workflow1[\"main\"][\"dateCreated\"] = utils.date_now()\n",
    "metadata_workflow1[\"main\"][\"workflow\"][\"stages\"][0][\"input\"][0][\"id\"] = ddo_compute1.did\n",
    "metadata_workflow1[\"main\"][\"workflow\"][\"stages\"][0][\"transformation\"][\"id\"] = ddo_algorithm.did\n",
    "\n",
    "utils.print_json(metadata_workflow1)"
   ]
  },
  {
   "cell_type": "code",
   "execution_count": 16,
   "metadata": {},
   "outputs": [
    {
     "name": "stdout",
     "output_type": "stream",
     "text": [
      "did:nv:c3832597630d3e8d61a6dcfb476ee48a2c1b1dc0d3ff3818eff69f851d406b6a\n"
     ]
    }
   ],
   "source": [
    "ddo_workflow1 = nevermined.assets.create(metadata_workflow1, consumer_account, providers=[PROVIDER_ADDRESS])\n",
    "print(ddo_workflow1.did)"
   ]
  },
  {
   "cell_type": "code",
   "execution_count": 17,
   "metadata": {},
   "outputs": [
    {
     "name": "stdout",
     "output_type": "stream",
     "text": [
      "did:nv:d7a8bbc3610296eea86a8b360ec2529510a4e73ff2ad90f10c55a42a051289e5\n"
     ]
    }
   ],
   "source": [
    "metadata_workflow2 = utils.metadata_workflow_template()\n",
    "\n",
    "metadata_workflow2[\"main\"][\"dateCreated\"] = utils.date_now()\n",
    "metadata_workflow2[\"main\"][\"workflow\"][\"stages\"][0][\"input\"][0][\"id\"] = ddo_compute2.did\n",
    "metadata_workflow2[\"main\"][\"workflow\"][\"stages\"][0][\"transformation\"][\"id\"] = ddo_algorithm.did\n",
    "\n",
    "ddo_workflow2 = nevermined.assets.create(metadata_workflow2, consumer_account, providers=[PROVIDER_ADDRESS])\n",
    "print(ddo_workflow2.did)"
   ]
  },
  {
   "cell_type": "code",
   "execution_count": 18,
   "metadata": {},
   "outputs": [
    {
     "name": "stdout",
     "output_type": "stream",
     "text": [
      "{\n",
      "  \"main\": {\n",
      "    \"author\": \"Nevermined Consumer\",\n",
      "    \"checksum\": \"0x52b5c93b82dd9e7ecc3d9fdf4755f7f69a54484941897dc517b4adfe3bbc3377\",\n",
      "    \"dateCreated\": null,\n",
      "    \"datePublished\": null,\n",
      "    \"license\": \"\",\n",
      "    \"name\": \"My workflow\",\n",
      "    \"price\": \"0\",\n",
      "    \"type\": \"fl-coordinator\",\n",
      "    \"parameters\": {\n",
      "      \"minParticipants\": 2,\n",
      "      \"participantsRatio\": 1,\n",
      "      \"rounds\": 10\n",
      "    },\n",
      "    \"workflow\": {\n",
      "      \"stages\": [\n",
      "        {\n",
      "          \"input\": [],\n",
      "          \"index\": 0,\n",
      "          \"requirements\": {\n",
      "            \"serverInstances\": 1,\n",
      "            \"container\": {\n",
      "              \"image\": \"rmarques/xain-fl\",\n",
      "              \"tag\": \"latest\",\n",
      "              \"checksum\": \"sha256:cb57ecfa6ebbefd8ffc7f75c0f00e57a7fa739578a429b6f72a0df19315deadc\"\n",
      "            }\n",
      "          }\n",
      "        }\n",
      "      ]\n",
      "    }\n",
      "  }\n",
      "}\n"
     ]
    }
   ],
   "source": [
    "metadata_workflow_coordinator = utils.metadata_workflow_coordinator()\n",
    "utils.print_json(metadata_workflow_coordinator)\n"
   ]
  },
  {
   "cell_type": "code",
   "execution_count": 19,
   "metadata": {},
   "outputs": [
    {
     "name": "stdout",
     "output_type": "stream",
     "text": [
      "did:nv:4801c41abfcfb23f83da59094f7c1cfe6400353ea84f850d733ad2f888714ae5\n"
     ]
    }
   ],
   "source": [
    "metadata_workflow_coordinator[\"main\"][\"dateCreated\"] = utils.date_now()\n",
    "metadata_workflow_coordinator[\"main\"][\"datePublished\"] = utils.date_now()\n",
    "\n",
    "ddo_workflow_coordinator = nevermined.assets.create(metadata_workflow_coordinator, consumer_account, providers=[PROVIDER_ADDRESS])\n",
    "print(ddo_workflow_coordinator.did)"
   ]
  },
  {
   "cell_type": "code",
   "execution_count": 20,
   "metadata": {},
   "outputs": [],
   "source": [
    "service_agreement_id1 = nevermined.assets.order(ddo_compute1.did, ServiceTypesIndices.DEFAULT_COMPUTING_INDEX, consumer_account, consumer_account)"
   ]
  },
  {
   "cell_type": "code",
   "execution_count": 21,
   "metadata": {},
   "outputs": [
    {
     "name": "stdout",
     "output_type": "stream",
     "text": [
      "0x0dfa37ceac95465487257aa75cc968449494114603c24ed8b0fc03067aab23d4\n"
     ]
    }
   ],
   "source": [
    "print(service_agreement_id1)"
   ]
  },
  {
   "cell_type": "code",
   "execution_count": 22,
   "metadata": {},
   "outputs": [
    {
     "name": "stdout",
     "output_type": "stream",
     "text": [
      "0xed4fe88e003e4196b3a8aa186ba3654b791a741ca8d348eea5e263d9d49d143b\n"
     ]
    }
   ],
   "source": [
    "service_agreement_id2 = nevermined.assets.order(ddo_compute2.did, ServiceTypesIndices.DEFAULT_COMPUTING_INDEX, consumer_account, consumer_account\n",
    ")\n",
    "\n",
    "print(service_agreement_id2)"
   ]
  },
  {
   "cell_type": "code",
   "execution_count": 23,
   "metadata": {},
   "outputs": [
    {
     "name": "stdout",
     "output_type": "stream",
     "text": [
      "0x0b9fc5bf45164acd8877f1a1d777b556d517d12f61c1419d953b44bc44885f4e\n"
     ]
    }
   ],
   "source": [
    "service_agreement_id_coordinator = nevermined.assets.order(ddo_compute_coordinator.did, ServiceTypesIndices.DEFAULT_COMPUTING_INDEX, consumer_account, consumer_account)\n",
    "print(service_agreement_id_coordinator)"
   ]
  },
  {
   "cell_type": "code",
   "execution_count": 24,
   "metadata": {},
   "outputs": [
    {
     "name": "stdout",
     "output_type": "stream",
     "text": [
      "nevermined-compute-tn8ns\n"
     ]
    }
   ],
   "source": [
    "execution_id_coordinator = nevermined.assets.execute(\n",
    "    service_agreement_id_coordinator,\n",
    "    ddo_compute_coordinator.did,\n",
    "    ServiceTypesIndices.DEFAULT_COMPUTING_INDEX,\n",
    "    consumer_account,\n",
    "    ddo_workflow_coordinator.did\n",
    ")\n",
    "print(execution_id_coordinator)"
   ]
  },
  {
   "cell_type": "code",
   "execution_count": 25,
   "metadata": {},
   "outputs": [
    {
     "ename": "TypeError",
     "evalue": "execute() missing 5 required positional arguments: 'agreement_id', 'did', 'index', 'consumer_account', and 'workflow_did'",
     "output_type": "error",
     "traceback": [
      "\u001b[0;31m---------------------------------------------------------------------------\u001b[0m",
      "\u001b[0;31mTypeError\u001b[0m                                 Traceback (most recent call last)",
      "\u001b[0;32m<ipython-input-25-703a0871abc6>\u001b[0m in \u001b[0;36m<module>\u001b[0;34m\u001b[0m\n\u001b[0;32m----> 1\u001b[0;31m \u001b[0mexecution_id1\u001b[0m \u001b[0;34m=\u001b[0m \u001b[0mnevermined\u001b[0m\u001b[0;34m.\u001b[0m\u001b[0massets\u001b[0m\u001b[0;34m.\u001b[0m\u001b[0mexecute\u001b[0m\u001b[0;34m(\u001b[0m\u001b[0;34m)\u001b[0m\u001b[0;34m\u001b[0m\u001b[0;34m\u001b[0m\u001b[0m\n\u001b[0m",
      "\u001b[0;31mTypeError\u001b[0m: execute() missing 5 required positional arguments: 'agreement_id', 'did', 'index', 'consumer_account', and 'workflow_did'"
     ]
    }
   ],
   "source": [
    "execution_id1 = nevermined.assets.execute(\n",
    "    service_agreement_id1,\n",
    "    ddo_compute1.did,\n",
    "    ServiceTypesIndices.DEFAULT_COMPUTING_INDEX,\n",
    "    consumer_account,\n",
    "    ddo_workflow1.did\n",
    ")\n",
    "print(execution_id1)"
   ]
  },
  {
   "cell_type": "code",
   "execution_count": null,
   "metadata": {},
   "outputs": [],
   "source": []
  }
 ],
 "metadata": {
  "kernelspec": {
   "display_name": "Python 3",
   "language": "python",
   "name": "python3"
  },
  "language_info": {
   "codemirror_mode": {
    "name": "ipython",
    "version": 3
   },
   "file_extension": ".py",
   "mimetype": "text/x-python",
   "name": "python",
   "nbconvert_exporter": "python",
   "pygments_lexer": "ipython3",
   "version": "3.9.1"
  }
 },
 "nbformat": 4,
 "nbformat_minor": 4
}
