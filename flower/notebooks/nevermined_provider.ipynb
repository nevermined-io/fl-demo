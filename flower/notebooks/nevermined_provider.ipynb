{
 "cells": [
  {
   "cell_type": "markdown",
   "metadata": {},
   "source": [
    "### Imports"
   ]
  },
  {
   "cell_type": "code",
   "execution_count": 1,
   "metadata": {
    "tags": [
     "parameters"
    ]
   },
   "outputs": [],
   "source": [
    "from contracts_lib_py.account import Account\n",
    "from nevermined_sdk_py import Config, Nevermined\n",
    "\n",
    "import utils\n",
    "\n",
    "PROVIDER_ADDRESS = \"0x068Ed00cF0441e4829D9784fCBe7b9e26D4BD8d0\"\n",
    "PROVIDER_PASSWORD = \"secret\"\n",
    "PROVIDER_KEYFILE = \"../resources/accounts/provider.json\"\n",
    "CONFIG_FILE = \"../config.ini\"\n",
    "\n",
    "URL_DATASET_1 = \"https://github.com/nevermined-io/hellodecentralization/raw/main/resources/data/creditcard_part1.csv\"\n",
    "URL_DATASET_2 = \"https://github.com/nevermined-io/hellodecentralization/raw/main/resources/data/creditcard_part2.csv\""
   ]
  },
  {
   "cell_type": "markdown",
   "metadata": {},
   "source": [
    "### Setup Nevermined and Accounts"
   ]
  },
  {
   "cell_type": "code",
   "execution_count": 2,
   "metadata": {},
   "outputs": [],
   "source": [
    "nevermined = Nevermined(Config(CONFIG_FILE))\n",
    "\n",
    "provider_account = Account(PROVIDER_ADDRESS, PROVIDER_PASSWORD, PROVIDER_KEYFILE)"
   ]
  },
  {
   "cell_type": "markdown",
   "metadata": {},
   "source": [
    "### Publish compute to the data for both data assets"
   ]
  },
  {
   "cell_type": "code",
   "execution_count": 3,
   "metadata": {
    "tags": [
     "compute1_did"
    ]
   },
   "outputs": [
    {
     "name": "stdout",
     "output_type": "stream",
     "text": [
      "{\n",
      "  \"main\": {\n",
      "    \"name\": \"Credit Card Data Part 1\",\n",
      "    \"dateCreated\": \"2021-03-15T12:39:55Z\",\n",
      "    \"author\": \"Nevermined Provider\",\n",
      "    \"license\": \"\",\n",
      "    \"price\": \"1\",\n",
      "    \"files\": [\n",
      "      {\n",
      "        \"index\": 0,\n",
      "        \"contentType\": \"text/text\",\n",
      "        \"checksum\": \"0x52b5c93b82dd9e7ecc3d9fdf4755f7f69a54484941897dc517b4adfe3bbc3377\",\n",
      "        \"checksumType\": \"MD5\",\n",
      "        \"contentLength\": \"12057507\",\n",
      "        \"url\": \"https://github.com/nevermined-io/hellodecentralization/raw/main/resources/data/creditcard_part1.csv\"\n",
      "      }\n",
      "    ],\n",
      "    \"type\": \"dataset\"\n",
      "  }\n",
      "}\n"
     ]
    }
   ],
   "source": [
    "# Asset 1\n",
    "metadata_compute1 = utils.metadata_dataset_template()\n",
    "metadata_compute1[\"main\"][\"dateCreated\"] = utils.date_now()\n",
    "metadata_compute1[\"main\"][\"price\"] = str(1)\n",
    "metadata_compute1[\"main\"][\"files\"][0][\"url\"] = URL_DATASET_1\n",
    "utils.print_json(metadata_compute1)"
   ]
  },
  {
   "cell_type": "code",
   "execution_count": 4,
   "metadata": {
    "tags": [
     "compute1_did"
    ]
   },
   "outputs": [
    {
     "name": "stdout",
     "output_type": "stream",
     "text": [
      "Compute DID: did:nv:8b4e3316a87ac4b9288280477c440f790292ece1fc90b172888730514b250218\n"
     ]
    }
   ],
   "source": [
    "ddo_compute1 = nevermined.assets.create_compute(metadata_compute1, provider_account)\n",
    "print(f\"Compute DID: {ddo_compute1.did}\")"
   ]
  },
  {
   "cell_type": "code",
   "execution_count": 5,
   "metadata": {
    "tags": [
     "compute_did",
     "compute2_did"
    ]
   },
   "outputs": [
    {
     "name": "stdout",
     "output_type": "stream",
     "text": [
      "{\n",
      "  \"main\": {\n",
      "    \"name\": \"Credit Card Data Part 1\",\n",
      "    \"dateCreated\": \"2021-03-15T12:39:58Z\",\n",
      "    \"author\": \"Nevermined Provider\",\n",
      "    \"license\": \"\",\n",
      "    \"price\": \"1\",\n",
      "    \"files\": [\n",
      "      {\n",
      "        \"index\": 0,\n",
      "        \"contentType\": \"text/text\",\n",
      "        \"checksum\": \"0x52b5c93b82dd9e7ecc3d9fdf4755f7f69a54484941897dc517b4adfe3bbc3377\",\n",
      "        \"checksumType\": \"MD5\",\n",
      "        \"contentLength\": \"12057507\",\n",
      "        \"url\": \"https://github.com/nevermined-io/hellodecentralization/raw/main/resources/data/creditcard_part2.csv\"\n",
      "      }\n",
      "    ],\n",
      "    \"type\": \"dataset\"\n",
      "  }\n",
      "}\n"
     ]
    }
   ],
   "source": [
    "# Asset 2\n",
    "metadata_compute2 = utils.metadata_dataset_template()\n",
    "metadata_compute2[\"main\"][\"dateCreated\"] = utils.date_now()\n",
    "metadata_compute2[\"main\"][\"price\"] = str(1)\n",
    "metadata_compute2[\"main\"][\"files\"][0][\"url\"] = URL_DATASET_2\n",
    "utils.print_json(metadata_compute2)"
   ]
  },
  {
   "cell_type": "code",
   "execution_count": 6,
   "metadata": {
    "tags": [
     "compute_did",
     "compute2_did"
    ]
   },
   "outputs": [
    {
     "name": "stdout",
     "output_type": "stream",
     "text": [
      "Compute DID: did:nv:53eb725fae3d3ac19338a59587489990c523c237fdc5cb4f2e7f6f99bcb9aecb\n"
     ]
    }
   ],
   "source": [
    "ddo_compute2 = nevermined.assets.create_compute(metadata_compute2, provider_account)\n",
    "print(f\"Compute DID: {ddo_compute2.did}\")"
   ]
  },
  {
   "cell_type": "markdown",
   "metadata": {},
   "source": [
    "### Publish the coordinator service\n",
    "\n",
    "This service does not provide any data. It only provides compute by hosting the coordinator."
   ]
  },
  {
   "cell_type": "code",
   "execution_count": 8,
   "metadata": {
    "tags": [
     "compute3_did"
    ]
   },
   "outputs": [
    {
     "name": "stdout",
     "output_type": "stream",
     "text": [
      "Compute DID: did:nv:ed4315f6c9159afc70a6dbe8d6c474f846dc6b325bf556d59f648ac27645d78d\n"
     ]
    }
   ],
   "source": [
    "ddo_compute_coordinator = nevermined.assets.create_compute(metadata_compute_coordinator, provider_account)\n",
    "print(f\"Compute DID: {ddo_compute_coordinator.did}\")"
   ]
  },
  {
   "cell_type": "code",
   "execution_count": 10,
   "metadata": {},
   "outputs": [
    {
     "name": "stdout",
     "output_type": "stream",
     "text": [
      "{\n",
      "  \"main\": {\n",
      "    \"name\": \"Fraud Demo Algorithm\",\n",
      "    \"dateCreated\": \"2021-03-15T13:02:04Z\",\n",
      "    \"author\": \"Nevermined Consumer\",\n",
      "    \"license\": \"\",\n",
      "    \"price\": \"0\",\n",
      "    \"files\": [\n",
      "      {\n",
      "        \"index\": 0,\n",
      "        \"contentType\": \"text/text\",\n",
      "        \"checksum\": \"0x52b5c93b82dd9e7ecc3d9fdf4755f7f69a54484941897dc517b4adfe3bbc3377\",\n",
      "        \"checksumType\": \"MD5\",\n",
      "        \"contentLength\": \"12057507\",\n",
      "        \"url\": \"https://github.com/adap/flower/raw/main/examples/quickstart_tensorflow/server.py\"\n",
      "      }\n",
      "    ],\n",
      "    \"type\": \"algorithm\",\n",
      "    \"algorithm\": {\n",
      "      \"language\": \"python\",\n",
      "      \"format\": \"py\",\n",
      "      \"version\": \"0.1.0\",\n",
      "      \"entrypoint\": \"pip install tensorflow-cpu flwr==0.15 && python server.py\",\n",
      "      \"requirements\": {\n",
      "        \"container\": {\n",
      "          \"image\": \"python\",\n",
      "          \"tag\": \"3.8-slim-buster\",\n",
      "          \"checksum\": \"sha256:53ad3a03b2fb240b6c494339821e6638cd44c989bcf26ec4d51a6a52f7518c1d\"\n",
      "        }\n",
      "      }\n",
      "    }\n",
      "  }\n",
      "}\n",
      "Algorithm DID: did:nv:80dee7612bed0abc5cc83f1c9d7a479c27eb02aa5a838a91940244d93d266121\n"
     ]
    }
   ],
   "source": [
    "metadata_algorithm = utils.metadata_algorithm_template()\n",
    "\n",
    "metadata_algorithm[\"main\"][\"dateCreated\"] = utils.date_now()\n",
    "metadata_algorithm[\"main\"][\"files\"][0][\"url\"] = \"https://github.com/adap/flower/raw/main/examples/quickstart_tensorflow/server.py\"\n",
    "\n",
    "metadata_algorithm[\"main\"][\"algorithm\"][\"entrypoint\"] = (\n",
    "    \"pip install tensorflow-cpu flwr==0.15 && \"\n",
    "    \"python server.py\"\n",
    ")\n",
    "\n",
    "metadata_algorithm[\"main\"][\"algorithm\"][\"requirements\"][\"container\"][\"image\"] = \"python\"\n",
    "metadata_algorithm[\"main\"][\"algorithm\"][\"requirements\"][\"container\"][\"tag\"] = \"3.8-slim-buster\"\n",
    "\n",
    "utils.print_json(metadata_algorithm)\n",
    "\n",
    "ddo_algorithm = nevermined.assets.create(metadata_algorithm, provider_account, providers=[PROVIDER_ADDRESS])\n",
    "print(f\"Algorithm DID: {ddo_algorithm.did}\")"
   ]
  },
  {
   "cell_type": "code",
   "execution_count": null,
   "metadata": {},
   "outputs": [],
   "source": []
  }
 ],
 "metadata": {
  "kernelspec": {
   "display_name": "Python 3",
   "language": "python",
   "name": "python3"
  },
  "language_info": {
   "codemirror_mode": {
    "name": "ipython",
    "version": 3
   },
   "file_extension": ".py",
   "mimetype": "text/x-python",
   "name": "python",
   "nbconvert_exporter": "python",
   "pygments_lexer": "ipython3",
   "version": "3.8.7"
  }
 },
 "nbformat": 4,
 "nbformat_minor": 4
}
