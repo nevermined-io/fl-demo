{
 "cells": [
  {
   "cell_type": "markdown",
   "metadata": {},
   "source": [
    "### Imports"
   ]
  },
  {
   "cell_type": "code",
   "execution_count": null,
   "metadata": {
    "tags": [
     "parameters"
    ]
   },
   "outputs": [],
   "source": [
    "from contracts_lib_py.account import Account\n",
    "from nevermined_sdk_py import Config, Nevermined\n",
    "\n",
    "import utils\n",
    "\n",
    "PROVIDER_ADDRESS = \"0x068Ed00cF0441e4829D9784fCBe7b9e26D4BD8d0\"\n",
    "PROVIDER_PASSWORD = \"secret\"\n",
    "PROVIDER_KEYFILE = \"../resources/accounts/provider.json\"\n",
    "CONFIG_FILE = \"../config.ini\"\n",
    "\n",
    "URL_DATASET_1 = [\n",
    "    \"https://github.com/nevermined-io/fl-demo/raw/feature/flower/flower/resources/data/x_test_0.npy\",\n",
    "    \"https://github.com/nevermined-io/fl-demo/raw/feature/flower/flower/resources/data/y_test_0.npy\",\n",
    "    \"https://github.com/nevermined-io/fl-demo/raw/feature/flower/flower/resources/data/x_train_0.npy\",\n",
    "    \"https://github.com/nevermined-io/fl-demo/raw/feature/flower/flower/resources/data/y_train_0.npy\",\n",
    "]\n",
    "\n",
    "URL_DATASET_2 = [\n",
    "    \"https://github.com/nevermined-io/fl-demo/raw/feature/flower/flower/resources/data/x_test_1.npy\",\n",
    "    \"https://github.com/nevermined-io/fl-demo/raw/feature/flower/flower/resources/data/y_test_1.npy\",\n",
    "    \"https://github.com/nevermined-io/fl-demo/raw/feature/flower/flower/resources/data/x_train_1.npy\",\n",
    "    \"https://github.com/nevermined-io/fl-demo/raw/feature/flower/flower/resources/data/y_train_1.npy\",\n",
    "]"
   ]
  },
  {
   "cell_type": "markdown",
   "metadata": {},
   "source": [
    "### Setup Nevermined and Accounts"
   ]
  },
  {
   "cell_type": "code",
   "execution_count": null,
   "metadata": {},
   "outputs": [],
   "source": [
    "nevermined = Nevermined(Config(CONFIG_FILE))\n",
    "\n",
    "provider_account = Account(PROVIDER_ADDRESS, PROVIDER_PASSWORD, PROVIDER_KEYFILE)"
   ]
  },
  {
   "cell_type": "markdown",
   "metadata": {},
   "source": [
    "### Publish compute to the data for both data assets"
   ]
  },
  {
   "cell_type": "code",
   "execution_count": null,
   "metadata": {
    "tags": [
     "compute1_did"
    ]
   },
   "outputs": [],
   "source": [
    "# Dataset 1\n",
    "metadata_compute1 = {\n",
    "  \"main\": {\n",
    "    \"name\": \"CIFAR-10 Part 1\",\n",
    "    \"dateCreated\": utils.date_now(),\n",
    "    \"author\": \"Nevermined Provider\",\n",
    "    \"license\": \"\",\n",
    "    \"price\": \"1\",\n",
    "    \"files\": [],\n",
    "    \"type\": \"dataset\"\n",
    "  }\n",
    "}\n",
    "\n",
    "for i, url in enumerate(URL_DATASET_1):\n",
    "    file_ = {\n",
    "        \"index\": i,\n",
    "        \"contentType\": \"application/octet-stream\",\n",
    "        \"checksum\": \"0x52b5c93b82dd9e7ecc3d9fdf4755f7f69a54484941897dc517b4adfe3bbc3377\",\n",
    "        \"checksumType\": \"MD5\",\n",
    "        \"contentLength\": \"12057507\",\n",
    "        \"url\": url\n",
    "    }\n",
    "    metadata_compute1[\"main\"][\"files\"].append(file_)\n",
    "\n",
    "utils.print_json(metadata_compute1)"
   ]
  },
  {
   "cell_type": "code",
   "execution_count": null,
   "metadata": {
    "tags": [
     "compute1_did"
    ]
   },
   "outputs": [],
   "source": [
    "ddo_compute1 = nevermined.assets.create_compute(metadata_compute1, provider_account)\n",
    "print(f\"Compute DID: {ddo_compute1.did}\")"
   ]
  },
  {
   "cell_type": "code",
   "execution_count": null,
   "metadata": {
    "tags": [
     "compute_did",
     "compute2_did"
    ]
   },
   "outputs": [],
   "source": [
    "# Dataset 1\n",
    "metadata_compute2 = {\n",
    "  \"main\": {\n",
    "    \"name\": \"CIFAR-10 Part 2\",\n",
    "    \"dateCreated\": utils.date_now(),\n",
    "    \"author\": \"Nevermined Provider\",\n",
    "    \"license\": \"\",\n",
    "    \"price\": \"1\",\n",
    "    \"files\": [],\n",
    "    \"type\": \"dataset\"\n",
    "  }\n",
    "}\n",
    "\n",
    "for i, url in enumerate(URL_DATASET_2):\n",
    "    file_ = {\n",
    "        \"index\": i,\n",
    "        \"contentType\": \"application/octet-stream\",\n",
    "        \"checksum\": \"0x52b5c93b82dd9e7ecc3d9fdf4755f7f69a54484941897dc517b4adfe3bbc3377\",\n",
    "        \"checksumType\": \"MD5\",\n",
    "        \"contentLength\": \"12057507\",\n",
    "        \"url\": url\n",
    "    }\n",
    "    metadata_compute2[\"main\"][\"files\"].append(file_)\n",
    "\n",
    "utils.print_json(metadata_compute2)"
   ]
  },
  {
   "cell_type": "code",
   "execution_count": null,
   "metadata": {
    "tags": [
     "compute_did",
     "compute2_did"
    ]
   },
   "outputs": [],
   "source": [
    "ddo_compute2 = nevermined.assets.create_compute(metadata_compute2, provider_account)\n",
    "print(f\"Compute DID: {ddo_compute2.did}\")"
   ]
  },
  {
   "cell_type": "markdown",
   "metadata": {},
   "source": [
    "### Publish the coordinator service\n",
    "\n",
    "This service does not provide any data. It only provides compute by hosting the coordinator."
   ]
  },
  {
   "cell_type": "code",
   "execution_count": null,
   "metadata": {},
   "outputs": [],
   "source": [
    "metadata_flwr_service = {\n",
    "  \"main\": {\n",
    "    \"name\": \"Flower Service\",\n",
    "    \"dateCreated\": utils.date_now(),\n",
    "    \"author\": \"Adap\",\n",
    "    \"license\": \"\",\n",
    "    \"price\": \"1\",\n",
    "    \"files\": [],\n",
    "    \"type\": \"compute\"\n",
    "  }\n",
    "}"
   ]
  },
  {
   "cell_type": "code",
   "execution_count": null,
   "metadata": {
    "tags": [
     "compute3_did"
    ]
   },
   "outputs": [],
   "source": [
    "ddo_compute_flwr = nevermined.assets.create_compute(metadata_flwr_service, provider_account)\n",
    "print(f\"Compute DID: {ddo_compute_flwr.did}\")"
   ]
  },
  {
   "cell_type": "code",
   "execution_count": null,
   "metadata": {},
   "outputs": [],
   "source": []
  }
 ],
 "metadata": {
  "kernelspec": {
   "name": "python3",
   "display_name": "Python 3.8.7 64-bit ('nevermined-fl')",
   "metadata": {
    "interpreter": {
     "hash": "53491c77d29821c89358a6f21a2dffab67b1b2c126dfbd28e555c575f61c75d7"
    }
   }
  },
  "language_info": {
   "codemirror_mode": {
    "name": "ipython",
    "version": 3
   },
   "file_extension": ".py",
   "mimetype": "text/x-python",
   "name": "python",
   "nbconvert_exporter": "python",
   "pygments_lexer": "ipython3",
   "version": "3.8.7-final"
  }
 },
 "nbformat": 4,
 "nbformat_minor": 4
}