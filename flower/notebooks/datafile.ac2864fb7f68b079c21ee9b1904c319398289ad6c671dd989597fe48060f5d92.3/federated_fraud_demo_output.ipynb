{
 "cells": [
  {
   "cell_type": "markdown",
   "id": "healthy-active",
   "metadata": {
    "papermill": {
     "duration": 0.015571,
     "end_time": "2021-03-11T12:51:34.292646",
     "exception": false,
     "start_time": "2021-03-11T12:51:34.277075",
     "status": "completed"
    },
    "tags": []
   },
   "source": [
    "# Federated Fraud Demo with logistic regression\n"
   ]
  },
  {
   "cell_type": "code",
   "execution_count": 1,
   "id": "automatic-narrative",
   "metadata": {
    "execution": {
     "iopub.execute_input": "2021-03-11T12:51:34.323466Z",
     "iopub.status.busy": "2021-03-11T12:51:34.321879Z",
     "iopub.status.idle": "2021-03-11T12:51:36.802151Z",
     "shell.execute_reply": "2021-03-11T12:51:36.805053Z"
    },
    "papermill": {
     "duration": 2.504485,
     "end_time": "2021-03-11T12:51:36.805474",
     "exception": false,
     "start_time": "2021-03-11T12:51:34.300989",
     "status": "completed"
    },
    "tags": []
   },
   "outputs": [],
   "source": [
    "# Libraries\n",
    "import pandas as pd\n",
    "import numpy as np\n",
    "\n",
    "from sklearn.linear_model import LogisticRegression\n",
    "from sklearn.model_selection import train_test_split\n",
    "from sklearn.metrics import accuracy_score, confusion_matrix\n",
    "from xain_sdk import ParticipantABC, run_participant, configure_logging\n",
    "\n",
    "\n",
    "import pathlib\n",
    "import os\n",
    "from io import BytesIO\n",
    "\n",
    "INPUTS_PATH = os.environ.get(\"NEVERMINED_INPUTS_PATH\")\n",
    "COORDINATOR_URL = \"http://172.17.0.2:8081\"\n",
    "np.random.seed(123)"
   ]
  },
  {
   "cell_type": "code",
   "execution_count": 2,
   "id": "expanded-valuation",
   "metadata": {
    "execution": {
     "iopub.execute_input": "2021-03-11T12:51:36.840103Z",
     "iopub.status.busy": "2021-03-11T12:51:36.838876Z",
     "iopub.status.idle": "2021-03-11T12:51:40.582812Z",
     "shell.execute_reply": "2021-03-11T12:51:40.584273Z"
    },
    "papermill": {
     "duration": 3.764985,
     "end_time": "2021-03-11T12:51:40.584635",
     "exception": false,
     "start_time": "2021-03-11T12:51:36.819650",
     "status": "completed"
    },
    "tags": []
   },
   "outputs": [],
   "source": [
    "# get input file path\n",
    "input_file_path = next(pathlib.Path(INPUTS_PATH).rglob(\"*/creditcard*.csv\")).as_posix()\n",
    "\n",
    "# Load target dataset\n",
    "df = pd.read_csv(input_file_path)\n",
    "\n",
    "feature_names = df.iloc[:, 1:30].columns\n",
    "target = df.iloc[:1, 30:].columns\n",
    "\n",
    "data_features = df[feature_names]\n",
    "data_target = df[target]\n",
    "\n",
    "x_train, x_test, y_train, y_test = train_test_split(data_features, data_target, \n",
    "                                                    train_size = 0.70, test_size = 0.30,\n",
    "                                                    random_state = 1)"
   ]
  },
  {
   "cell_type": "code",
   "execution_count": 3,
   "id": "retired-preservation",
   "metadata": {
    "execution": {
     "iopub.execute_input": "2021-03-11T12:51:40.639943Z",
     "iopub.status.busy": "2021-03-11T12:51:40.638827Z",
     "iopub.status.idle": "2021-03-11T12:51:40.661466Z",
     "shell.execute_reply": "2021-03-11T12:51:40.659819Z"
    },
    "papermill": {
     "duration": 0.048934,
     "end_time": "2021-03-11T12:51:40.661762",
     "exception": false,
     "start_time": "2021-03-11T12:51:40.612828",
     "status": "completed"
    },
    "tags": []
   },
   "outputs": [],
   "source": [
    "\n",
    "class Participant(ParticipantABC):\n",
    "\n",
    "    def __init__(self, x_train, x_test, y_train, y_test):\n",
    "        super(Participant, self).__init__()\n",
    "        self.x_train = x_train\n",
    "        self.x_test = x_test\n",
    "        self.y_train = y_train\n",
    "        self.y_test = y_test\n",
    "        self.round = 1\n",
    "        self.model = LogisticRegression(max_iter=1000)\n",
    "\n",
    "    def get_weights(self):\n",
    "        return self.model.coef_\n",
    "\n",
    "    def set_weights(self, weights):\n",
    "        self.model.coef_ = weights.reshape(1, 29)\n",
    "\n",
    "    def train_round(self, training_input):\n",
    "        # set global model weights\n",
    "        if training_input is not None:\n",
    "            self.set_weights(training_input)\n",
    "\n",
    "        # select a subset of the data to train\n",
    "        x_train = self.x_train.sample(frac=0.1)\n",
    "        y_train = self.y_train.loc[x_train.index, :]\n",
    "\n",
    "        # train\n",
    "        self.model.fit(x_train, y_train)\n",
    "\n",
    "        # check accuracy\n",
    "        pred = self.model.predict(self.x_test)\n",
    "        print(f\"[{self.round}] Accuracy: {accuracy_score(self.y_test, pred)}\")\n",
    "        self.round += 1\n",
    "\n",
    "        return (self.get_weights(), len(x_train))\n",
    "\n",
    "    def serialize_training_result(self, training_result):\n",
    "        (weights, number_of_samples) = training_result\n",
    "\n",
    "        # reshape weights\n",
    "        weights = weights.reshape(29,)\n",
    "\n",
    "        writer = BytesIO()\n",
    "        writer.write(number_of_samples.to_bytes(4, byteorder=\"big\"))\n",
    "        np.save(writer, weights, allow_pickle=False)\n",
    "        return writer.getbuffer()[:]\n",
    "\n",
    "    def deserialize_training_input(self, data):\n",
    "        if not data:\n",
    "            return None\n",
    "\n",
    "        reader = BytesIO(data)\n",
    "        return np.load(reader, allow_pickle=False)"
   ]
  },
  {
   "cell_type": "code",
   "execution_count": 4,
   "id": "handled-macintosh",
   "metadata": {
    "execution": {
     "iopub.execute_input": "2021-03-11T12:51:40.725434Z",
     "iopub.status.busy": "2021-03-11T12:51:40.724790Z",
     "iopub.status.idle": "2021-03-11T12:54:01.301351Z",
     "shell.execute_reply": "2021-03-11T12:54:01.303029Z"
    },
    "papermill": {
     "duration": 140.632151,
     "end_time": "2021-03-11T12:54:01.303345",
     "exception": false,
     "start_time": "2021-03-11T12:51:40.671194",
     "status": "completed"
    },
    "tags": []
   },
   "outputs": [
    {
     "name": "stderr",
     "output_type": "stream",
     "text": [
      "/usr/local/lib/python3.8/site-packages/sklearn/utils/validation.py:63: DataConversionWarning: A column-vector y was passed when a 1d array was expected. Please change the shape of y to (n_samples, ), for example using ravel().\n",
      "  return f(*args, **kwargs)\n"
     ]
    },
    {
     "name": "stdout",
     "output_type": "stream",
     "text": [
      "[1] Accuracy: 0.9988296154116243\n"
     ]
    },
    {
     "name": "stderr",
     "output_type": "stream",
     "text": [
      "/usr/local/lib/python3.8/site-packages/sklearn/utils/validation.py:63: DataConversionWarning: A column-vector y was passed when a 1d array was expected. Please change the shape of y to (n_samples, ), for example using ravel().\n",
      "  return f(*args, **kwargs)\n"
     ]
    },
    {
     "name": "stdout",
     "output_type": "stream",
     "text": [
      "[2] Accuracy: 0.9989934692539969\n"
     ]
    },
    {
     "name": "stderr",
     "output_type": "stream",
     "text": [
      "/usr/local/lib/python3.8/site-packages/sklearn/utils/validation.py:63: DataConversionWarning: A column-vector y was passed when a 1d array was expected. Please change the shape of y to (n_samples, ), for example using ravel().\n",
      "  return f(*args, **kwargs)\n"
     ]
    },
    {
     "name": "stdout",
     "output_type": "stream",
     "text": [
      "[3] Accuracy: 0.9987593923363217\n"
     ]
    },
    {
     "name": "stderr",
     "output_type": "stream",
     "text": [
      "/usr/local/lib/python3.8/site-packages/sklearn/utils/validation.py:63: DataConversionWarning: A column-vector y was passed when a 1d array was expected. Please change the shape of y to (n_samples, ), for example using ravel().\n",
      "  return f(*args, **kwargs)\n"
     ]
    },
    {
     "name": "stdout",
     "output_type": "stream",
     "text": [
      "[4] Accuracy: 0.9985019077268791\n"
     ]
    },
    {
     "name": "stderr",
     "output_type": "stream",
     "text": [
      "/usr/local/lib/python3.8/site-packages/sklearn/utils/validation.py:63: DataConversionWarning: A column-vector y was passed when a 1d array was expected. Please change the shape of y to (n_samples, ), for example using ravel().\n",
      "  return f(*args, **kwargs)\n"
     ]
    },
    {
     "name": "stdout",
     "output_type": "stream",
     "text": [
      "[5] Accuracy: 0.9988764307951593\n"
     ]
    },
    {
     "name": "stderr",
     "output_type": "stream",
     "text": [
      "/usr/local/lib/python3.8/site-packages/sklearn/utils/validation.py:63: DataConversionWarning: A column-vector y was passed when a 1d array was expected. Please change the shape of y to (n_samples, ), for example using ravel().\n",
      "  return f(*args, **kwargs)\n"
     ]
    },
    {
     "name": "stdout",
     "output_type": "stream",
     "text": [
      "[6] Accuracy: 0.9989466538704619\n"
     ]
    },
    {
     "name": "stderr",
     "output_type": "stream",
     "text": [
      "/usr/local/lib/python3.8/site-packages/sklearn/utils/validation.py:63: DataConversionWarning: A column-vector y was passed when a 1d array was expected. Please change the shape of y to (n_samples, ), for example using ravel().\n",
      "  return f(*args, **kwargs)\n"
     ]
    },
    {
     "name": "stdout",
     "output_type": "stream",
     "text": [
      "[7] Accuracy: 0.999133915404602\n"
     ]
    },
    {
     "name": "stderr",
     "output_type": "stream",
     "text": [
      "/usr/local/lib/python3.8/site-packages/sklearn/utils/validation.py:63: DataConversionWarning: A column-vector y was passed when a 1d array was expected. Please change the shape of y to (n_samples, ), for example using ravel().\n",
      "  return f(*args, **kwargs)\n"
     ]
    },
    {
     "name": "stdout",
     "output_type": "stream",
     "text": [
      "[8] Accuracy: 0.9987828000280893\n"
     ]
    },
    {
     "name": "stderr",
     "output_type": "stream",
     "text": [
      "/usr/local/lib/python3.8/site-packages/sklearn/utils/validation.py:63: DataConversionWarning: A column-vector y was passed when a 1d array was expected. Please change the shape of y to (n_samples, ), for example using ravel().\n",
      "  return f(*args, **kwargs)\n"
     ]
    },
    {
     "name": "stdout",
     "output_type": "stream",
     "text": [
      "[9] Accuracy: 0.9988296154116243\n"
     ]
    },
    {
     "name": "stderr",
     "output_type": "stream",
     "text": [
      "/usr/local/lib/python3.8/site-packages/sklearn/utils/validation.py:63: DataConversionWarning: A column-vector y was passed when a 1d array was expected. Please change the shape of y to (n_samples, ), for example using ravel().\n",
      "  return f(*args, **kwargs)\n"
     ]
    },
    {
     "name": "stdout",
     "output_type": "stream",
     "text": [
      "[10] Accuracy: 0.9985955384939491\n"
     ]
    }
   ],
   "source": [
    "configure_logging(log_http_requests=True)\n",
    "\n",
    "participant = Participant(x_train, x_test, y_train, y_test)\n",
    "run_participant(participant, COORDINATOR_URL)"
   ]
  }
 ],
 "metadata": {
  "kernelspec": {
   "display_name": "Python 3",
   "language": "python",
   "name": "python3"
  },
  "language_info": {
   "codemirror_mode": {
    "name": "ipython",
    "version": 3
   },
   "file_extension": ".py",
   "mimetype": "text/x-python",
   "name": "python",
   "nbconvert_exporter": "python",
   "pygments_lexer": "ipython3",
   "version": "3.8.8"
  },
  "papermill": {
   "default_parameters": {},
   "duration": 151.687303,
   "end_time": "2021-03-11T12:54:03.038632",
   "environment_variables": {},
   "exception": null,
   "input_path": "federated_fraud_demo.ipynb",
   "output_path": "/data/outputs/federated_fraud_demo_output.ipynb",
   "parameters": {},
   "start_time": "2021-03-11T12:51:31.351329",
   "version": "2.3.3"
  }
 },
 "nbformat": 4,
 "nbformat_minor": 5
}