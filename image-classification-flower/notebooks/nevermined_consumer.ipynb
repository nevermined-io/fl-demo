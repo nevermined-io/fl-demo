{
 "cells": [
  {
   "cell_type": "markdown",
   "metadata": {},
   "source": [
    "### Imports"
   ]
  },
  {
   "cell_type": "code",
   "execution_count": null,
   "metadata": {
    "tags": [
     "parameters"
    ]
   },
   "outputs": [],
   "source": [
    "from datetime import datetime\n",
    "import time\n",
    "\n",
    "from contracts_lib_py.account import Account\n",
    "from common_utils_py.agreements.service_types import ServiceTypesIndices\n",
    "\n",
    "\n",
    "from nevermined_sdk_py import Config, Nevermined\n",
    "from nevermined_sdk_py.nevermined.keeper import NeverminedKeeper as Keeper\n",
    "\n",
    "import utils\n",
    "\n",
    "CONSUMER_ADDRESS = \"0x00Bd138aBD70e2F00903268F3Db08f2D25677C9e\"\n",
    "CONSUMER_PASSWORD = \"node0\"\n",
    "CONSUMER_KEYFILE = \"../resources/accounts/consumer.json\"\n",
    "CONFIG_FILE = \"../config.ini\"\n",
    "\n",
    "PROVIDER_ADDRESS = \"0x068Ed00cF0441e4829D9784fCBe7b9e26D4BD8d0\"\n",
    "ASSET_COMPUTE_DID_1 = \"did:nv:e89d6f3f919c24cd8a3ee56994a3d5d9cf05ae17401352be4f42bf3d8e08cab9\"\n",
    "ASSET_COMPUTE_DID_2 = \"did:nv:e8ab24c865922e1e357f5d5436061a4f459b56a7afb340ab24ab026cb418ed6f\"\n",
    "ASSET_FLOWER_SERVER_DID = \"did:nv:2ea320c1dc0336f7f8f86f4ca87e7e041164ab763a5ac20e8b596eebb92e019a\"\n",
    "\n",
    "URL_FLOWER_CLIENT = \"https://github.com/nevermined-io/fl-demo/raw/master/image-classification-flower/notebooks/flwr_client.ipynb\"\n",
    "URL_FLOWER_SERVER = \"https://github.com/nevermined-io/fl-demo/raw/master/image-classification-flower/notebooks/flwr_server.ipynb\""
   ]
  },
  {
   "cell_type": "markdown",
   "metadata": {},
   "source": [
    "### Setup Nevermined and accounts"
   ]
  },
  {
   "cell_type": "code",
   "execution_count": null,
   "metadata": {},
   "outputs": [],
   "source": [
    "nevermined = Nevermined(Config(CONFIG_FILE))\n",
    "consumer_account = Account(CONSUMER_ADDRESS, CONSUMER_PASSWORD, CONSUMER_KEYFILE)\n",
    "\n",
    "nevermined.accounts.request_tokens(consumer_account, 10)\n"
   ]
  },
  {
   "cell_type": "markdown",
   "metadata": {},
   "source": [
    "### Publish algorithm"
   ]
  },
  {
   "cell_type": "code",
   "execution_count": null,
   "metadata": {},
   "outputs": [],
   "source": [
    "metadata_algorithm_client = {\n",
    "  \"main\": {\n",
    "    \"name\": \"Flower Demo Client\",\n",
    "    \"dateCreated\": utils.date_now(),\n",
    "    \"author\": \"Adap\",\n",
    "    \"license\": \"\",\n",
    "    \"price\": \"0\",\n",
    "    \"files\": [\n",
    "      {\n",
    "        \"index\": 0,\n",
    "        \"contentType\": \"text/text\",\n",
    "        \"checksum\": \"0x52b5c93b82dd9e7ecc3d9fdf4755f7f69a54484941897dc517b4adfe3bbc3377\",\n",
    "        \"checksumType\": \"MD5\",\n",
    "        \"contentLength\": \"12057507\",\n",
    "        \"url\": URL_FLOWER_CLIENT\n",
    "      }\n",
    "    ],\n",
    "    \"type\": \"algorithm\",\n",
    "    \"algorithm\": {\n",
    "      \"language\": \"python\",\n",
    "      \"format\": \"py\",\n",
    "      \"version\": \"0.1.0\",\n",
    "      \"entrypoint\": (\n",
    "          \"pip install tensorflow-cpu numpy flwr==0.15 jupyter papermill && \"\n",
    "          \"papermill --stdout-file - flwr_client.ipynb $NEVERMINED_OUTPUTS_PATH/flwr_client_output.ipynb\"\n",
    "      ),\n",
    "      \"requirements\": {\n",
    "        \"container\": {\n",
    "          \"image\": \"python\",\n",
    "          \"tag\": \"3.8-slim-buster\",\n",
    "          \"checksum\": \"sha256:53ad3a03b2fb240b6c494339821e6638cd44c989bcf26ec4d51a6a52f7518c1d\"\n",
    "        }\n",
    "      }\n",
    "    }\n",
    "  }\n",
    "}\n",
    "\n",
    "utils.print_json(metadata_algorithm_client)\n",
    "\n",
    "ddo_algorithm_client = nevermined.assets.create(metadata_algorithm_client, consumer_account, providers=[PROVIDER_ADDRESS])\n",
    "print(f\"Algorithm DID: {ddo_algorithm_client.did}\")"
   ]
  },
  {
   "cell_type": "code",
   "execution_count": null,
   "metadata": {},
   "outputs": [],
   "source": [
    "metadata_algorithm_server = {\n",
    "  \"main\": {\n",
    "    \"name\": \"Flower Demo Server\",\n",
    "    \"dateCreated\": utils.date_now(),\n",
    "    \"author\": \"Adap\",\n",
    "    \"license\": \"\",\n",
    "    \"price\": \"0\",\n",
    "    \"files\": [\n",
    "      {\n",
    "        \"index\": 0,\n",
    "        \"contentType\": \"text/text\",\n",
    "        \"checksum\": \"0x52b5c93b82dd9e7ecc3d9fdf4755f7f69a54484941897dc517b4adfe3bbc3377\",\n",
    "        \"checksumType\": \"MD5\",\n",
    "        \"contentLength\": \"12057507\",\n",
    "        \"url\": URL_FLOWER_SERVER\n",
    "      }\n",
    "    ],\n",
    "    \"type\": \"algorithm\",\n",
    "    \"algorithm\": {\n",
    "      \"language\": \"python\",\n",
    "      \"format\": \"py\",\n",
    "      \"version\": \"0.1.0\",\n",
    "      \"entrypoint\": (\n",
    "          \"pip install tensorflow-cpu numpy flwr==0.15 jupyter papermill && \"\n",
    "          \"papermill --stdout-file - flwr_server.ipynb $NEVERMINED_OUTPUTS_PATH/flwr_server_output.ipynb\"\n",
    "      ),\n",
    "      \"requirements\": {\n",
    "        \"container\": {\n",
    "          \"image\": \"python\",\n",
    "          \"tag\": \"3.8-slim-buster\",\n",
    "          \"checksum\": \"sha256:53ad3a03b2fb240b6c494339821e6638cd44c989bcf26ec4d51a6a52f7518c1d\"\n",
    "        }\n",
    "      }\n",
    "    }\n",
    "  }\n",
    "}\n",
    "\n",
    "utils.print_json(metadata_algorithm_server)\n",
    "\n",
    "ddo_algorithm_server = nevermined.assets.create(metadata_algorithm_server, consumer_account, providers=[PROVIDER_ADDRESS])\n",
    "print(f\"Algorithm DID: {ddo_algorithm_server.did}\")"
   ]
  },
  {
   "cell_type": "markdown",
   "metadata": {},
   "source": [
    "### Publish the workflows:\n",
    "\n",
    "- Two for the compute to the data assets\n",
    "- One for the flower service"
   ]
  },
  {
   "cell_type": "code",
   "execution_count": null,
   "metadata": {},
   "outputs": [],
   "source": [
    "# Compute asset 1\n",
    "metadata_workflow_client1 = {\n",
    "  \"main\": {\n",
    "    \"name\": \"Flower Client\",\n",
    "    \"dateCreated\": utils.date_now(),\n",
    "    \"author\": \"Adap\",\n",
    "    \"license\": \"\",\n",
    "    \"price\": \"0\",\n",
    "    \"type\": \"workflow\",\n",
    "    \"workflow\": {\n",
    "      \"stages\": [\n",
    "        {\n",
    "          \"index\": 0,\n",
    "          \"input\": [\n",
    "              {\n",
    "                \"index\": 0,\n",
    "                \"id\": ASSET_COMPUTE_DID_1\n",
    "              }\n",
    "          ],\n",
    "          \"transformation\": {\n",
    "            \"id\": ddo_algorithm_client.did\n",
    "          }\n",
    "        }\n",
    "      ]\n",
    "    }\n",
    "  }\n",
    "}\n",
    "\n",
    "utils.print_json(metadata_workflow_client1)\n",
    "\n",
    "ddo_workflow_client1 = nevermined.assets.create(metadata_workflow_client1, consumer_account, providers=[PROVIDER_ADDRESS])\n",
    "print(f\"Workflow DID: {ddo_workflow_client1.did}\")"
   ]
  },
  {
   "cell_type": "code",
   "execution_count": null,
   "metadata": {},
   "outputs": [],
   "source": [
    "# Compute asset 2\n",
    "metadata_workflow_client2 = {\n",
    "  \"main\": {\n",
    "    \"name\": \"Flower Client\",\n",
    "    \"dateCreated\": utils.date_now(),\n",
    "    \"author\": \"Adap\",\n",
    "    \"license\": \"\",\n",
    "    \"price\": \"0\",\n",
    "    \"type\": \"workflow\",\n",
    "    \"workflow\": {\n",
    "      \"stages\": [\n",
    "        {\n",
    "          \"index\": 0,\n",
    "          \"input\": [\n",
    "              {\n",
    "                \"index\": 0,\n",
    "                \"id\": ASSET_COMPUTE_DID_2\n",
    "              }\n",
    "          ],\n",
    "          \"transformation\": {\n",
    "            \"id\": ddo_algorithm_client.did\n",
    "          }\n",
    "        }\n",
    "      ]\n",
    "    }\n",
    "  }\n",
    "}\n",
    "\n",
    "utils.print_json(metadata_workflow_client2)\n",
    "\n",
    "ddo_workflow_client2 = nevermined.assets.create(metadata_workflow_client2, consumer_account, providers=[PROVIDER_ADDRESS])\n",
    "print(f\"Workflow DID: {ddo_workflow_client2.did}\")"
   ]
  },
  {
   "cell_type": "code",
   "execution_count": null,
   "metadata": {},
   "outputs": [],
   "source": [
    "# Compute server\n",
    "metadata_workflow_server = {\n",
    "  \"main\": {\n",
    "    \"name\": \"Flower Server\",\n",
    "    \"dateCreated\": utils.date_now(),\n",
    "    \"author\": \"Adap\",\n",
    "    \"license\": \"\",\n",
    "    \"price\": \"0\",\n",
    "    \"type\": \"workflow\",\n",
    "    \"workflow\": {\n",
    "      \"stages\": [\n",
    "        {\n",
    "          \"index\": 0,\n",
    "          \"input\": [],\n",
    "          \"transformation\": {\n",
    "            \"id\": ddo_algorithm_server.did\n",
    "          }\n",
    "        }\n",
    "      ]\n",
    "    }\n",
    "  }\n",
    "}\n",
    "\n",
    "utils.print_json(metadata_workflow_server)\n",
    "\n",
    "ddo_workflow_server = nevermined.assets.create(metadata_workflow_server, consumer_account, providers=[PROVIDER_ADDRESS])\n",
    "print(f\"Workflow DID: {ddo_workflow_server.did}\")"
   ]
  },
  {
   "cell_type": "markdown",
   "metadata": {},
   "source": [
    "### Order computations:\n",
    "\n",
    "- One for each data asset\n",
    "- One for the coordinator service\n",
    "\n",
    "In between we want for the blockchain to process the request."
   ]
  },
  {
   "cell_type": "code",
   "execution_count": null,
   "metadata": {},
   "outputs": [],
   "source": [
    "keeper = Keeper.get_instance()\n",
    "\n",
    "service_agreement_id1 = nevermined.assets.order(ASSET_COMPUTE_DID_1, ServiceTypesIndices.DEFAULT_COMPUTING_INDEX, consumer_account, consumer_account)\n",
    "print(f\"Service Agreement ID: {service_agreement_id1}\")\n",
    "utils.wait_for_event(keeper, service_agreement_id1)\n",
    "\n",
    "service_agreement_id2 = nevermined.assets.order(ASSET_COMPUTE_DID_2, ServiceTypesIndices.DEFAULT_COMPUTING_INDEX, consumer_account, consumer_account)\n",
    "print(f\"Service Agreement ID: {service_agreement_id2}\")\n",
    "utils.wait_for_event(keeper, service_agreement_id2)\n",
    "\n",
    "service_agreement_id_server = nevermined.assets.order(ASSET_FLOWER_SERVER_DID, ServiceTypesIndices.DEFAULT_COMPUTING_INDEX, consumer_account, consumer_account)\n",
    "print(f\"Service Agreement ID: {service_agreement_id_server}\")\n",
    "utils.wait_for_event(keeper, service_agreement_id_server)\n"
   ]
  },
  {
   "cell_type": "markdown",
   "metadata": {},
   "source": [
    "### Execute workflows\n",
    "\n",
    "This orders the Nevermined to start the execution of the workflows:\n",
    "- One for each data asset\n",
    "- One for the coordinator service"
   ]
  },
  {
   "cell_type": "code",
   "execution_count": null,
   "metadata": {},
   "outputs": [],
   "source": [
    "execution_id1 = nevermined.assets.execute(\n",
    "    service_agreement_id1,\n",
    "    ASSET_COMPUTE_DID_1,\n",
    "    ServiceTypesIndices.DEFAULT_COMPUTING_INDEX,\n",
    "    consumer_account,\n",
    "    ddo_workflow_client1.did\n",
    ")\n",
    "print(f\"Execution ID: {execution_id1}\")"
   ]
  },
  {
   "cell_type": "code",
   "execution_count": null,
   "metadata": {},
   "outputs": [],
   "source": [
    "execution_id2 = nevermined.assets.execute(\n",
    "    service_agreement_id2,\n",
    "    ASSET_COMPUTE_DID_2,\n",
    "    ServiceTypesIndices.DEFAULT_COMPUTING_INDEX,\n",
    "    consumer_account,\n",
    "    ddo_workflow_client2.did\n",
    ")\n",
    "print(f\"Execution ID: {execution_id2}\")"
   ]
  },
  {
   "cell_type": "code",
   "execution_count": null,
   "metadata": {},
   "outputs": [],
   "source": [
    "execution_id_coordinator = nevermined.assets.execute(\n",
    "    service_agreement_id2,\n",
    "    ASSET_FLOWER_SERVER_DID,\n",
    "    ServiceTypesIndices.DEFAULT_COMPUTING_INDEX,\n",
    "    consumer_account,\n",
    "    ddo_workflow_server.did\n",
    ")\n",
    "print(f\"Execution ID: {execution_id_coordinator}\")"
   ]
  },
  {
   "cell_type": "markdown",
   "metadata": {},
   "source": [
    "### Wait for compute jobs to finish"
   ]
  },
  {
   "cell_type": "code",
   "execution_count": null,
   "metadata": {},
   "outputs": [],
   "source": [
    "succeeded = set()\n",
    "failed = set()\n",
    "outputs = set()\n",
    "while len(succeeded) < 3:\n",
    "    for job_id in [execution_id1, execution_id2, execution_id_coordinator]:\n",
    "        result = nevermined.assets.compute_status(service_agreement_id1, job_id, consumer_account)\n",
    "        status = result[\"status\"]\n",
    "        print(f\"{job_id}: {status}\")\n",
    "\n",
    "        if status == \"Succeeded\":\n",
    "            succeeded.add(job_id)\n",
    "            outputs.add(result[\"did\"])\n",
    "        elif status == \"Failed\":\n",
    "            raise Exception(\"Some jobs failed\")\n",
    "    print()\n",
    "    time.sleep(10)\n",
    "\n",
    "for did in outputs:\n",
    "    print(f\"Output DID: {did}\")"
   ]
  },
  {
   "cell_type": "markdown",
   "metadata": {},
   "source": [
    "### Download the results"
   ]
  },
  {
   "cell_type": "code",
   "execution_count": null,
   "metadata": {},
   "outputs": [],
   "source": [
    "for did in outputs:\n",
    "    print(f\"Downloading: {did}\")\n",
    "    nevermined.assets.download(did, ServiceTypesIndices.DEFAULT_ACCESS_INDEX, consumer_account, \"./\")"
   ]
  }
 ],
 "metadata": {
  "kernelspec": {
   "display_name": "Python 3",
   "language": "python",
   "name": "python3"
  },
  "language_info": {
   "codemirror_mode": {
    "name": "ipython",
    "version": 3
   },
   "file_extension": ".py",
   "mimetype": "text/x-python",
   "name": "python",
   "nbconvert_exporter": "python",
   "pygments_lexer": "ipython3",
   "version": "3.8.9"
  }
 },
 "nbformat": 4,
 "nbformat_minor": 4
}