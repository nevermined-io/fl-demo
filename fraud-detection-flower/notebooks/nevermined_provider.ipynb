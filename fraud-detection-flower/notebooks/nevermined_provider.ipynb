{
 "cells": [
  {
   "cell_type": "markdown",
   "metadata": {},
   "source": [
    "### Imports"
   ]
  },
  {
   "cell_type": "code",
   "execution_count": 1,
   "metadata": {
    "tags": [
     "parameters"
    ]
   },
   "outputs": [],
   "source": [
    "from contracts_lib_py.account import Account\n",
    "from nevermined_sdk_py import Config, Nevermined\n",
    "\n",
    "import utils\n",
    "\n",
    "PROVIDER_ADDRESS = \"0x068Ed00cF0441e4829D9784fCBe7b9e26D4BD8d0\"\n",
    "PROVIDER_PASSWORD = \"secret\"\n",
    "PROVIDER_KEYFILE = \"../resources/accounts/provider.json\"\n",
    "CONFIG_FILE = \"../config.ini\"\n",
    "\n",
    "URL_DATASET_1 = [\n",
    "    \"https://github.com/nevermined-io/fl-demo/raw/master/fraud-detection-flower/resources/data/x_test_0.npy\",\n",
    "    \"https://github.com/nevermined-io/fl-demo/raw/master/fraud-detection-flower/resources/data/y_test_0.npy\",\n",
    "    \"https://github.com/nevermined-io/fl-demo/raw/master/fraud-detection-flower/resources/data/x_train_0.npy\",\n",
    "    \"https://github.com/nevermined-io/fl-demo/raw/master/fraud-detection-flower/resources/data/y_train_0.npy\",\n",
    "]\n",
    "\n",
    "URL_DATASET_2 = [\n",
    "    \"https://github.com/nevermined-io/fl-demo/raw/master/fraud-detection-flower/resources/data/x_test_1.npy\",\n",
    "    \"https://github.com/nevermined-io/fl-demo/raw/master/fraud-detection-flower/resources/data/y_test_1.npy\",\n",
    "    \"https://github.com/nevermined-io/fl-demo/raw/master/fraud-detection-flower/resources/data/x_train_1.npy\",\n",
    "    \"https://github.com/nevermined-io/fl-demo/raw/master/fraud-detection-flower/resources/data/y_train_1.npy\",\n",
    "]"
   ]
  },
  {
   "cell_type": "markdown",
   "metadata": {},
   "source": [
    "### Setup Nevermined and Accounts"
   ]
  },
  {
   "cell_type": "code",
   "execution_count": 2,
   "metadata": {},
   "outputs": [],
   "source": [
    "nevermined = Nevermined(Config(CONFIG_FILE))\n",
    "\n",
    "provider_account = Account(PROVIDER_ADDRESS, PROVIDER_PASSWORD, PROVIDER_KEYFILE)"
   ]
  },
  {
   "cell_type": "markdown",
   "metadata": {},
   "source": [
    "### Publish compute to the data for both data assets"
   ]
  },
  {
   "cell_type": "code",
   "execution_count": 3,
   "metadata": {
    "tags": [
     "compute1_did"
    ]
   },
   "outputs": [
    {
     "name": "stdout",
     "output_type": "stream",
     "text": [
      "{\n",
      "  \"main\": {\n",
      "    \"name\": \"CIFAR-10 Part 1\",\n",
      "    \"dateCreated\": \"2021-05-11T12:15:32Z\",\n",
      "    \"author\": \"Nevermined Provider\",\n",
      "    \"license\": \"\",\n",
      "    \"price\": \"1\",\n",
      "    \"files\": [\n",
      "      {\n",
      "        \"index\": 0,\n",
      "        \"contentType\": \"application/octet-stream\",\n",
      "        \"checksum\": \"0x52b5c93b82dd9e7ecc3d9fdf4755f7f69a54484941897dc517b4adfe3bbc3377\",\n",
      "        \"checksumType\": \"MD5\",\n",
      "        \"contentLength\": \"12057507\",\n",
      "        \"url\": \"https://github.com/nevermined-io/fl-demo/raw/master/fraud-detection-flower/resources/data/x_test_0.npy\"\n",
      "      },\n",
      "      {\n",
      "        \"index\": 1,\n",
      "        \"contentType\": \"application/octet-stream\",\n",
      "        \"checksum\": \"0x52b5c93b82dd9e7ecc3d9fdf4755f7f69a54484941897dc517b4adfe3bbc3377\",\n",
      "        \"checksumType\": \"MD5\",\n",
      "        \"contentLength\": \"12057507\",\n",
      "        \"url\": \"https://github.com/nevermined-io/fl-demo/raw/master/fraud-detection-flower/resources/data/y_test_0.npy\"\n",
      "      },\n",
      "      {\n",
      "        \"index\": 2,\n",
      "        \"contentType\": \"application/octet-stream\",\n",
      "        \"checksum\": \"0x52b5c93b82dd9e7ecc3d9fdf4755f7f69a54484941897dc517b4adfe3bbc3377\",\n",
      "        \"checksumType\": \"MD5\",\n",
      "        \"contentLength\": \"12057507\",\n",
      "        \"url\": \"https://github.com/nevermined-io/fl-demo/raw/master/fraud-detection-flower/resources/data/x_train_0.npy\"\n",
      "      },\n",
      "      {\n",
      "        \"index\": 3,\n",
      "        \"contentType\": \"application/octet-stream\",\n",
      "        \"checksum\": \"0x52b5c93b82dd9e7ecc3d9fdf4755f7f69a54484941897dc517b4adfe3bbc3377\",\n",
      "        \"checksumType\": \"MD5\",\n",
      "        \"contentLength\": \"12057507\",\n",
      "        \"url\": \"https://github.com/nevermined-io/fl-demo/raw/master/fraud-detection-flower/resources/data/y_train_0.npy\"\n",
      "      }\n",
      "    ],\n",
      "    \"type\": \"dataset\"\n",
      "  }\n",
      "}\n"
     ]
    }
   ],
   "source": [
    "# Dataset 1\n",
    "metadata_compute1 = {\n",
    "  \"main\": {\n",
    "    \"name\": \"CIFAR-10 Part 1\",\n",
    "    \"dateCreated\": utils.date_now(),\n",
    "    \"author\": \"Nevermined Provider\",\n",
    "    \"license\": \"\",\n",
    "    \"price\": \"1\",\n",
    "    \"files\": [],\n",
    "    \"type\": \"dataset\"\n",
    "  }\n",
    "}\n",
    "\n",
    "for i, url in enumerate(URL_DATASET_1):\n",
    "    file_ = {\n",
    "        \"index\": i,\n",
    "        \"contentType\": \"application/octet-stream\",\n",
    "        \"checksum\": \"0x52b5c93b82dd9e7ecc3d9fdf4755f7f69a54484941897dc517b4adfe3bbc3377\",\n",
    "        \"checksumType\": \"MD5\",\n",
    "        \"contentLength\": \"12057507\",\n",
    "        \"url\": url\n",
    "    }\n",
    "    metadata_compute1[\"main\"][\"files\"].append(file_)\n",
    "\n",
    "utils.print_json(metadata_compute1)"
   ]
  },
  {
   "cell_type": "code",
   "execution_count": 4,
   "metadata": {
    "tags": [
     "compute1_did"
    ]
   },
   "outputs": [
    {
     "name": "stdout",
     "output_type": "stream",
     "text": [
      "Compute DID: did:nv:afed3e04a050e44a31dc43b55e1f874aec0e1cc1703e8203fe5cac372b7ad543\n"
     ]
    }
   ],
   "source": [
    "ddo_compute1 = nevermined.assets.create_compute(metadata_compute1, provider_account)\n",
    "print(f\"Compute DID: {ddo_compute1.did}\")"
   ]
  },
  {
   "cell_type": "code",
   "execution_count": 5,
   "metadata": {
    "tags": [
     "compute_did",
     "compute2_did"
    ]
   },
   "outputs": [
    {
     "name": "stdout",
     "output_type": "stream",
     "text": [
      "{\n",
      "  \"main\": {\n",
      "    \"name\": \"CIFAR-10 Part 2\",\n",
      "    \"dateCreated\": \"2021-05-11T12:15:33Z\",\n",
      "    \"author\": \"Nevermined Provider\",\n",
      "    \"license\": \"\",\n",
      "    \"price\": \"1\",\n",
      "    \"files\": [\n",
      "      {\n",
      "        \"index\": 0,\n",
      "        \"contentType\": \"application/octet-stream\",\n",
      "        \"checksum\": \"0x52b5c93b82dd9e7ecc3d9fdf4755f7f69a54484941897dc517b4adfe3bbc3377\",\n",
      "        \"checksumType\": \"MD5\",\n",
      "        \"contentLength\": \"12057507\",\n",
      "        \"url\": \"https://github.com/nevermined-io/fl-demo/raw/master/fraud-detection-flower/resources/data/x_test_1.npy\"\n",
      "      },\n",
      "      {\n",
      "        \"index\": 1,\n",
      "        \"contentType\": \"application/octet-stream\",\n",
      "        \"checksum\": \"0x52b5c93b82dd9e7ecc3d9fdf4755f7f69a54484941897dc517b4adfe3bbc3377\",\n",
      "        \"checksumType\": \"MD5\",\n",
      "        \"contentLength\": \"12057507\",\n",
      "        \"url\": \"https://github.com/nevermined-io/fl-demo/raw/master/fraud-detection-flower/resources/data/y_test_1.npy\"\n",
      "      },\n",
      "      {\n",
      "        \"index\": 2,\n",
      "        \"contentType\": \"application/octet-stream\",\n",
      "        \"checksum\": \"0x52b5c93b82dd9e7ecc3d9fdf4755f7f69a54484941897dc517b4adfe3bbc3377\",\n",
      "        \"checksumType\": \"MD5\",\n",
      "        \"contentLength\": \"12057507\",\n",
      "        \"url\": \"https://github.com/nevermined-io/fl-demo/raw/master/fraud-detection-flower/resources/data/x_train_1.npy\"\n",
      "      },\n",
      "      {\n",
      "        \"index\": 3,\n",
      "        \"contentType\": \"application/octet-stream\",\n",
      "        \"checksum\": \"0x52b5c93b82dd9e7ecc3d9fdf4755f7f69a54484941897dc517b4adfe3bbc3377\",\n",
      "        \"checksumType\": \"MD5\",\n",
      "        \"contentLength\": \"12057507\",\n",
      "        \"url\": \"https://github.com/nevermined-io/fl-demo/raw/master/fraud-detection-flower/resources/data/y_train_1.npy\"\n",
      "      }\n",
      "    ],\n",
      "    \"type\": \"dataset\"\n",
      "  }\n",
      "}\n"
     ]
    }
   ],
   "source": [
    "# Dataset 1\n",
    "metadata_compute2 = {\n",
    "  \"main\": {\n",
    "    \"name\": \"CIFAR-10 Part 2\",\n",
    "    \"dateCreated\": utils.date_now(),\n",
    "    \"author\": \"Nevermined Provider\",\n",
    "    \"license\": \"\",\n",
    "    \"price\": \"1\",\n",
    "    \"files\": [],\n",
    "    \"type\": \"dataset\"\n",
    "  }\n",
    "}\n",
    "\n",
    "for i, url in enumerate(URL_DATASET_2):\n",
    "    file_ = {\n",
    "        \"index\": i,\n",
    "        \"contentType\": \"application/octet-stream\",\n",
    "        \"checksum\": \"0x52b5c93b82dd9e7ecc3d9fdf4755f7f69a54484941897dc517b4adfe3bbc3377\",\n",
    "        \"checksumType\": \"MD5\",\n",
    "        \"contentLength\": \"12057507\",\n",
    "        \"url\": url\n",
    "    }\n",
    "    metadata_compute2[\"main\"][\"files\"].append(file_)\n",
    "\n",
    "utils.print_json(metadata_compute2)"
   ]
  },
  {
   "cell_type": "code",
   "execution_count": 6,
   "metadata": {
    "tags": [
     "compute_did",
     "compute2_did"
    ]
   },
   "outputs": [
    {
     "name": "stdout",
     "output_type": "stream",
     "text": [
      "Compute DID: did:nv:5bca427955d7ee982426ebc61f8246a7eeebf9685d35b0b2ecc103abddfe94dd\n"
     ]
    }
   ],
   "source": [
    "ddo_compute2 = nevermined.assets.create_compute(metadata_compute2, provider_account)\n",
    "print(f\"Compute DID: {ddo_compute2.did}\")"
   ]
  },
  {
   "cell_type": "markdown",
   "metadata": {},
   "source": [
    "### Publish the coordinator service\n",
    "\n",
    "This service does not provide any data. It only provides compute by hosting the coordinator."
   ]
  },
  {
   "cell_type": "code",
   "execution_count": 7,
   "metadata": {},
   "outputs": [],
   "source": [
    "metadata_flwr_service = {\n",
    "  \"main\": {\n",
    "    \"name\": \"Flower Service\",\n",
    "    \"dateCreated\": utils.date_now(),\n",
    "    \"author\": \"Adap\",\n",
    "    \"license\": \"\",\n",
    "    \"price\": \"1\",\n",
    "    \"files\": [],\n",
    "    \"type\": \"compute\"\n",
    "  }\n",
    "}"
   ]
  },
  {
   "cell_type": "code",
   "execution_count": 8,
   "metadata": {
    "tags": [
     "compute3_did"
    ]
   },
   "outputs": [
    {
     "name": "stdout",
     "output_type": "stream",
     "text": [
      "Compute DID: did:nv:4edae4f20cec9682236af52b9d99f1d54f82feeef107a18c01800088b9c1de09\n"
     ]
    }
   ],
   "source": [
    "ddo_compute_flwr = nevermined.assets.create_compute(metadata_flwr_service, provider_account)\n",
    "print(f\"Compute DID: {ddo_compute_flwr.did}\")"
   ]
  },
  {
   "cell_type": "code",
   "execution_count": null,
   "metadata": {},
   "outputs": [],
   "source": []
  }
 ],
 "metadata": {
  "kernelspec": {
   "display_name": "Python 3",
   "language": "python",
   "name": "python3"
  },
  "language_info": {
   "codemirror_mode": {
    "name": "ipython",
    "version": 3
   },
   "file_extension": ".py",
   "mimetype": "text/x-python",
   "name": "python",
   "nbconvert_exporter": "python",
   "pygments_lexer": "ipython3",
   "version": "3.8.9"
  }
 },
 "nbformat": 4,
 "nbformat_minor": 4
}
