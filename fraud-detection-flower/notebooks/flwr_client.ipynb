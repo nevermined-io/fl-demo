{
 "cells": [
  {
   "cell_type": "markdown",
   "metadata": {},
   "source": [
    "# [Flower](https://github.com/adap/flower) client with CIFAR-10 dataset\n"
   ]
  },
  {
   "cell_type": "code",
   "execution_count": null,
   "metadata": {},
   "outputs": [],
   "source": [
    "import os\n",
    "import pathlib\n",
    "\n",
    "import flwr as fl\n",
    "import tensorflow as tf\n",
    "import numpy as np\n",
    "\n",
    "# Make TensorFlow log less verbose\n",
    "os.environ[\"TF_CPP_MIN_LOG_LEVEL\"] = \"3\"\n",
    "\n",
    "INPUTS_PATH = os.environ.get(\"NEVERMINED_INPUTS_PATH\")"
   ]
  },
  {
   "cell_type": "code",
   "execution_count": null,
   "metadata": {},
   "outputs": [],
   "source": [
    "# Read input files\n",
    "def load_data():\n",
    "    x_train = None\n",
    "    y_train = None\n",
    "    x_test = None\n",
    "    y_test = None\n",
    "    for f in pathlib.Path(INPUTS_PATH).rglob(\"*/*.npy\"):\n",
    "        if f.name.startswith(\"x_train\"):\n",
    "            x_train = np.load(f.as_posix())\n",
    "        elif f.name.startswith(\"y_train\"):\n",
    "            y_train = np.load(f.as_posix())\n",
    "        elif f.name.startswith(\"x_test\"):\n",
    "            x_test = np.load(f.as_posix())\n",
    "        elif f.name.startswith(\"y_test\"):\n",
    "            y_test = np.load(f.as_posix())\n",
    "\n",
    "    return (x_train, y_train), (x_test, y_test)\n"
   ]
  },
  {
   "cell_type": "code",
   "execution_count": null,
   "metadata": {},
   "outputs": [],
   "source": [
    "# Load and compile Keras model\n",
    "model = tf.keras.applications.MobileNetV2((32, 32, 3), classes=10, weights=None)\n",
    "model.compile(\"adam\", \"sparse_categorical_crossentropy\", metrics=[\"accuracy\"])\n",
    "\n",
    "# Load CIFAR-10 dataset\n",
    "(x_train, y_train), (x_test, y_test) = load_data()\n",
    "\n",
    "# Define Flower client\n",
    "class CifarClient(fl.client.NumPyClient):\n",
    "    def get_parameters(self):  # type: ignore\n",
    "        return model.get_weights()\n",
    "\n",
    "    def fit(self, parameters, config):  # type: ignore\n",
    "        model.set_weights(parameters)\n",
    "        \n",
    "        # Select a subset of the data to train\n",
    "        idx = np.random.randint(0, high=len(x_train), size=len(x_train) // 10)\n",
    "        x_train_sample = x_train[idx,:]\n",
    "        y_train_sample = y_train[idx,:]\n",
    "        \n",
    "        model.fit(x_train_sample, y_train_sample, epochs=1, batch_size=32)\n",
    "        return model.get_weights(), len(x_train_sample), {}\n",
    "\n",
    "    def evaluate(self, parameters, config):  # type: ignore\n",
    "        model.set_weights(parameters)\n",
    "        loss, accuracy = model.evaluate(x_test, y_test)\n",
    "        print(f\"Loss: {loss}  Accuracy: {accuracy}\")\n",
    "        return loss, len(x_test), {\"accuracy\": accuracy}"
   ]
  },
  {
   "cell_type": "code",
   "execution_count": null,
   "metadata": {},
   "outputs": [],
   "source": [
    "# Start Flower client\n",
    "fl.client.start_numpy_client(\"172.17.0.2:8080\", client=CifarClient())"
   ]
  }
 ],
 "metadata": {
  "kernelspec": {
   "display_name": "Python 3",
   "language": "python",
   "name": "python3"
  },
  "language_info": {
   "codemirror_mode": {
    "name": "ipython",
    "version": 3
   },
   "file_extension": ".py",
   "mimetype": "text/x-python",
   "name": "python",
   "nbconvert_exporter": "python",
   "pygments_lexer": "ipython3",
   "version": "3.8.9"
  }
 },
 "nbformat": 4,
 "nbformat_minor": 4
}
