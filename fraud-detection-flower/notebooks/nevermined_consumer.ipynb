{
 "cells": [
  {
   "cell_type": "markdown",
   "metadata": {},
   "source": [
    "### Imports"
   ]
  },
  {
   "cell_type": "code",
   "execution_count": 45,
   "metadata": {
    "tags": [
     "parameters"
    ]
   },
   "outputs": [],
   "source": [
    "from datetime import datetime\n",
    "import time\n",
    "\n",
    "from contracts_lib_py.account import Account\n",
    "from common_utils_py.agreements.service_types import ServiceTypesIndices\n",
    "\n",
    "\n",
    "from nevermined_sdk_py import Config, Nevermined\n",
    "from nevermined_sdk_py.nevermined.keeper import NeverminedKeeper as Keeper\n",
    "\n",
    "import utils\n",
    "\n",
    "CONSUMER_ADDRESS = \"0x00Bd138aBD70e2F00903268F3Db08f2D25677C9e\"\n",
    "CONSUMER_PASSWORD = \"node0\"\n",
    "CONSUMER_KEYFILE = \"../resources/accounts/consumer.json\"\n",
    "CONFIG_FILE = \"../config.ini\"\n",
    "\n",
    "PROVIDER_ADDRESS = \"0x068Ed00cF0441e4829D9784fCBe7b9e26D4BD8d0\"\n",
    "ASSET_COMPUTE_DID_1 = \"did:nv:12d90cad684355e351b325b36c259da4a7fbf1e3430b81db4a805cd79d05070e\"\n",
    "ASSET_COMPUTE_DID_2 = \"did:nv:cfccba01c3f76f29e24f19122c96189e4708219b5f920b4c4e4b759d8c3dafec\"\n",
    "ASSET_FLOWER_SERVER_DID = \"did:nv:6ff812da145652951136f852fc9927ec699534553e59c6a6b87ee1833e3542a4\""
   ]
  },
  {
   "cell_type": "markdown",
   "metadata": {},
   "source": [
    "### Setup Nevermined and accounts"
   ]
  },
  {
   "cell_type": "code",
   "execution_count": 46,
   "metadata": {},
   "outputs": [
    {
     "data": {
      "text/plain": [
       "True"
      ]
     },
     "execution_count": 46,
     "metadata": {},
     "output_type": "execute_result"
    }
   ],
   "source": [
    "nevermined = Nevermined(Config(CONFIG_FILE))\n",
    "consumer_account = Account(CONSUMER_ADDRESS, CONSUMER_PASSWORD, CONSUMER_KEYFILE)\n",
    "\n",
    "nevermined.accounts.request_tokens(consumer_account, 10)\n"
   ]
  },
  {
   "cell_type": "markdown",
   "metadata": {},
   "source": [
    "### Publish algorithm"
   ]
  },
  {
   "cell_type": "code",
   "execution_count": 47,
   "metadata": {},
   "outputs": [
    {
     "name": "stdout",
     "output_type": "stream",
     "text": [
      "{\n",
      "  \"main\": {\n",
      "    \"name\": \"Flower Demo Client\",\n",
      "    \"dateCreated\": \"2021-03-15T17:03:04Z\",\n",
      "    \"author\": \"Adap\",\n",
      "    \"license\": \"\",\n",
      "    \"price\": \"0\",\n",
      "    \"files\": [\n",
      "      {\n",
      "        \"index\": 0,\n",
      "        \"contentType\": \"text/text\",\n",
      "        \"checksum\": \"0x52b5c93b82dd9e7ecc3d9fdf4755f7f69a54484941897dc517b4adfe3bbc3377\",\n",
      "        \"checksumType\": \"MD5\",\n",
      "        \"contentLength\": \"12057507\",\n",
      "        \"url\": \"https://github.com/nevermined-io/fl-demo/raw/feature/flower/notebooks/flwr_client.ipnby\"\n",
      "      }\n",
      "    ],\n",
      "    \"type\": \"algorithm\",\n",
      "    \"algorithm\": {\n",
      "      \"language\": \"python\",\n",
      "      \"format\": \"py\",\n",
      "      \"version\": \"0.1.0\",\n",
      "      \"entrypoint\": \"pip install tensorflow-cpu numpy flwr==0.15 jupyter papermill && papermill --stdout-file - flwr_client.ipynb $NEVERMINED_OUTPUTS_PATH/flwr_client_output.ipynb\",\n",
      "      \"requirements\": {\n",
      "        \"container\": {\n",
      "          \"image\": \"python\",\n",
      "          \"tag\": \"3.8-slim-buster\",\n",
      "          \"checksum\": \"sha256:53ad3a03b2fb240b6c494339821e6638cd44c989bcf26ec4d51a6a52f7518c1d\"\n",
      "        }\n",
      "      }\n",
      "    }\n",
      "  }\n",
      "}\n",
      "Algorithm DID: did:nv:17a880ffc8be72a1809c5fe9bee4d56886dee820d5b0f704309ee6a5a1f9c2fa\n"
     ]
    }
   ],
   "source": [
    "metadata_algorithm_client = {\n",
    "  \"main\": {\n",
    "    \"name\": \"Flower Demo Client\",\n",
    "    \"dateCreated\": utils.date_now(),\n",
    "    \"author\": \"Adap\",\n",
    "    \"license\": \"\",\n",
    "    \"price\": \"0\",\n",
    "    \"files\": [\n",
    "      {\n",
    "        \"index\": 0,\n",
    "        \"contentType\": \"text/text\",\n",
    "        \"checksum\": \"0x52b5c93b82dd9e7ecc3d9fdf4755f7f69a54484941897dc517b4adfe3bbc3377\",\n",
    "        \"checksumType\": \"MD5\",\n",
    "        \"contentLength\": \"12057507\",\n",
    "        \"url\": \"https://github.com/nevermined-io/fl-demo/raw/feature/flower/flower/notebooks/flwr_client.ipynb\"\n",
    "      }\n",
    "    ],\n",
    "    \"type\": \"algorithm\",\n",
    "    \"algorithm\": {\n",
    "      \"language\": \"python\",\n",
    "      \"format\": \"py\",\n",
    "      \"version\": \"0.1.0\",\n",
    "      \"entrypoint\": (\n",
    "          \"pip install tensorflow-cpu numpy flwr==0.15 jupyter papermill && \"\n",
    "          \"papermill --stdout-file - flwr_client.ipynb $NEVERMINED_OUTPUTS_PATH/flwr_client_output.ipynb\"\n",
    "      ),\n",
    "      \"requirements\": {\n",
    "        \"container\": {\n",
    "          \"image\": \"python\",\n",
    "          \"tag\": \"3.8-slim-buster\",\n",
    "          \"checksum\": \"sha256:53ad3a03b2fb240b6c494339821e6638cd44c989bcf26ec4d51a6a52f7518c1d\"\n",
    "        }\n",
    "      }\n",
    "    }\n",
    "  }\n",
    "}\n",
    "\n",
    "utils.print_json(metadata_algorithm_client)\n",
    "\n",
    "ddo_algorithm_client = nevermined.assets.create(metadata_algorithm_client, consumer_account, providers=[PROVIDER_ADDRESS])\n",
    "print(f\"Algorithm DID: {ddo_algorithm_client.did}\")"
   ]
  },
  {
   "cell_type": "code",
   "execution_count": 48,
   "metadata": {},
   "outputs": [
    {
     "name": "stdout",
     "output_type": "stream",
     "text": [
      "{\n",
      "  \"main\": {\n",
      "    \"name\": \"Flower Demo Server\",\n",
      "    \"dateCreated\": \"2021-03-15T17:03:07Z\",\n",
      "    \"author\": \"Adap\",\n",
      "    \"license\": \"\",\n",
      "    \"price\": \"0\",\n",
      "    \"files\": [\n",
      "      {\n",
      "        \"index\": 0,\n",
      "        \"contentType\": \"text/text\",\n",
      "        \"checksum\": \"0x52b5c93b82dd9e7ecc3d9fdf4755f7f69a54484941897dc517b4adfe3bbc3377\",\n",
      "        \"checksumType\": \"MD5\",\n",
      "        \"contentLength\": \"12057507\",\n",
      "        \"url\": \"https://github.com/nevermined-io/fl-demo/raw/feature/flower/notebooks/flwr_server.ipnby\"\n",
      "      }\n",
      "    ],\n",
      "    \"type\": \"algorithm\",\n",
      "    \"algorithm\": {\n",
      "      \"language\": \"python\",\n",
      "      \"format\": \"py\",\n",
      "      \"version\": \"0.1.0\",\n",
      "      \"entrypoint\": \"pip install tensorflow-cpu numpy flwr==0.15 jupyter papermill && papermill --stdout-file - flwr_server.ipynb $NEVERMINED_OUTPUTS_PATH/flwr_server_output.ipynb\",\n",
      "      \"requirements\": {\n",
      "        \"container\": {\n",
      "          \"image\": \"python\",\n",
      "          \"tag\": \"3.8-slim-buster\",\n",
      "          \"checksum\": \"sha256:53ad3a03b2fb240b6c494339821e6638cd44c989bcf26ec4d51a6a52f7518c1d\"\n",
      "        }\n",
      "      }\n",
      "    }\n",
      "  }\n",
      "}\n",
      "Algorithm DID: did:nv:d4485cb12099f56728f5905994373254072f51289ccdbe2cdc38b3ba2e573029\n"
     ]
    }
   ],
   "source": [
    "metadata_algorithm_server = {\n",
    "  \"main\": {\n",
    "    \"name\": \"Flower Demo Server\",\n",
    "    \"dateCreated\": utils.date_now(),\n",
    "    \"author\": \"Adap\",\n",
    "    \"license\": \"\",\n",
    "    \"price\": \"0\",\n",
    "    \"files\": [\n",
    "      {\n",
    "        \"index\": 0,\n",
    "        \"contentType\": \"text/text\",\n",
    "        \"checksum\": \"0x52b5c93b82dd9e7ecc3d9fdf4755f7f69a54484941897dc517b4adfe3bbc3377\",\n",
    "        \"checksumType\": \"MD5\",\n",
    "        \"contentLength\": \"12057507\",\n",
    "        \"url\": \"https://github.com/nevermined-io/fl-demo/raw/feature/flower/flower/notebooks/flwr_server.ipynb\"\n",
    "      }\n",
    "    ],\n",
    "    \"type\": \"algorithm\",\n",
    "    \"algorithm\": {\n",
    "      \"language\": \"python\",\n",
    "      \"format\": \"py\",\n",
    "      \"version\": \"0.1.0\",\n",
    "      \"entrypoint\": (\n",
    "          \"pip install tensorflow-cpu numpy flwr==0.15 jupyter papermill && \"\n",
    "          \"papermill --stdout-file - flwr_server.ipynb $NEVERMINED_OUTPUTS_PATH/flwr_server_output.ipynb\"\n",
    "      ),\n",
    "      \"requirements\": {\n",
    "        \"container\": {\n",
    "          \"image\": \"python\",\n",
    "          \"tag\": \"3.8-slim-buster\",\n",
    "          \"checksum\": \"sha256:53ad3a03b2fb240b6c494339821e6638cd44c989bcf26ec4d51a6a52f7518c1d\"\n",
    "        }\n",
    "      }\n",
    "    }\n",
    "  }\n",
    "}\n",
    "\n",
    "utils.print_json(metadata_algorithm_server)\n",
    "\n",
    "ddo_algorithm_server = nevermined.assets.create(metadata_algorithm_server, consumer_account, providers=[PROVIDER_ADDRESS])\n",
    "print(f\"Algorithm DID: {ddo_algorithm_server.did}\")"
   ]
  },
  {
   "cell_type": "markdown",
   "metadata": {},
   "source": [
    "### Publish the workflows:\n",
    "\n",
    "- Two for the compute to the data assets\n",
    "- One for the flower service"
   ]
  },
  {
   "cell_type": "code",
   "execution_count": 49,
   "metadata": {},
   "outputs": [
    {
     "name": "stdout",
     "output_type": "stream",
     "text": [
      "{\n",
      "  \"main\": {\n",
      "    \"name\": \"Flower Client\",\n",
      "    \"dateCreated\": \"2021-03-15T17:03:09Z\",\n",
      "    \"author\": \"Adap\",\n",
      "    \"license\": \"\",\n",
      "    \"price\": \"0\",\n",
      "    \"type\": \"workflow\",\n",
      "    \"workflow\": {\n",
      "      \"stages\": [\n",
      "        {\n",
      "          \"index\": 0,\n",
      "          \"input\": [\n",
      "            {\n",
      "              \"index\": 0,\n",
      "              \"id\": \"did:nv:12d90cad684355e351b325b36c259da4a7fbf1e3430b81db4a805cd79d05070e\"\n",
      "            }\n",
      "          ],\n",
      "          \"transformation\": {\n",
      "            \"id\": \"did:nv:17a880ffc8be72a1809c5fe9bee4d56886dee820d5b0f704309ee6a5a1f9c2fa\"\n",
      "          }\n",
      "        }\n",
      "      ]\n",
      "    }\n",
      "  }\n",
      "}\n",
      "Workflow DID: did:nv:dce62eef4a2c53bb8a599ae6275a2390d3a6ca8e7baeb7bb4d97328b494a8fc6\n"
     ]
    }
   ],
   "source": [
    "# Compute asset 1\n",
    "metadata_workflow_client1 = {\n",
    "  \"main\": {\n",
    "    \"name\": \"Flower Client\",\n",
    "    \"dateCreated\": utils.date_now(),\n",
    "    \"author\": \"Adap\",\n",
    "    \"license\": \"\",\n",
    "    \"price\": \"0\",\n",
    "    \"type\": \"workflow\",\n",
    "    \"workflow\": {\n",
    "      \"stages\": [\n",
    "        {\n",
    "          \"index\": 0,\n",
    "          \"input\": [\n",
    "              {\n",
    "                \"index\": 0,\n",
    "                \"id\": ASSET_COMPUTE_DID_1\n",
    "              }\n",
    "          ],\n",
    "          \"transformation\": {\n",
    "            \"id\": ddo_algorithm_client.did\n",
    "          }\n",
    "        }\n",
    "      ]\n",
    "    }\n",
    "  }\n",
    "}\n",
    "\n",
    "utils.print_json(metadata_workflow_client1)\n",
    "\n",
    "ddo_workflow_client1 = nevermined.assets.create(metadata_workflow_client1, consumer_account, providers=[PROVIDER_ADDRESS])\n",
    "print(f\"Workflow DID: {ddo_workflow_client1.did}\")"
   ]
  },
  {
   "cell_type": "code",
   "execution_count": 50,
   "metadata": {},
   "outputs": [
    {
     "name": "stdout",
     "output_type": "stream",
     "text": [
      "{\n",
      "  \"main\": {\n",
      "    \"name\": \"Flower Client\",\n",
      "    \"dateCreated\": \"2021-03-15T17:03:12Z\",\n",
      "    \"author\": \"Adap\",\n",
      "    \"license\": \"\",\n",
      "    \"price\": \"0\",\n",
      "    \"type\": \"workflow\",\n",
      "    \"workflow\": {\n",
      "      \"stages\": [\n",
      "        {\n",
      "          \"index\": 0,\n",
      "          \"input\": [\n",
      "            {\n",
      "              \"index\": 0,\n",
      "              \"id\": \"did:nv:cfccba01c3f76f29e24f19122c96189e4708219b5f920b4c4e4b759d8c3dafec\"\n",
      "            }\n",
      "          ],\n",
      "          \"transformation\": {\n",
      "            \"id\": \"did:nv:17a880ffc8be72a1809c5fe9bee4d56886dee820d5b0f704309ee6a5a1f9c2fa\"\n",
      "          }\n",
      "        }\n",
      "      ]\n",
      "    }\n",
      "  }\n",
      "}\n",
      "Workflow DID: did:nv:783b131b255fcf2a929cf242437bae1675c8cf91d44b797b25f7ce35c542273a\n"
     ]
    }
   ],
   "source": [
    "# Compute asset 2\n",
    "metadata_workflow_client2 = {\n",
    "  \"main\": {\n",
    "    \"name\": \"Flower Client\",\n",
    "    \"dateCreated\": utils.date_now(),\n",
    "    \"author\": \"Adap\",\n",
    "    \"license\": \"\",\n",
    "    \"price\": \"0\",\n",
    "    \"type\": \"workflow\",\n",
    "    \"workflow\": {\n",
    "      \"stages\": [\n",
    "        {\n",
    "          \"index\": 0,\n",
    "          \"input\": [\n",
    "              {\n",
    "                \"index\": 0,\n",
    "                \"id\": ASSET_COMPUTE_DID_2\n",
    "              }\n",
    "          ],\n",
    "          \"transformation\": {\n",
    "            \"id\": ddo_algorithm_client.did\n",
    "          }\n",
    "        }\n",
    "      ]\n",
    "    }\n",
    "  }\n",
    "}\n",
    "\n",
    "utils.print_json(metadata_workflow_client2)\n",
    "\n",
    "ddo_workflow_client2 = nevermined.assets.create(metadata_workflow_client2, consumer_account, providers=[PROVIDER_ADDRESS])\n",
    "print(f\"Workflow DID: {ddo_workflow_client2.did}\")"
   ]
  },
  {
   "cell_type": "code",
   "execution_count": 51,
   "metadata": {},
   "outputs": [
    {
     "name": "stdout",
     "output_type": "stream",
     "text": [
      "{\n",
      "  \"main\": {\n",
      "    \"name\": \"Flower Server\",\n",
      "    \"dateCreated\": \"2021-03-15T17:03:16Z\",\n",
      "    \"author\": \"Adap\",\n",
      "    \"license\": \"\",\n",
      "    \"price\": \"0\",\n",
      "    \"type\": \"workflow\",\n",
      "    \"workflow\": {\n",
      "      \"stages\": [\n",
      "        {\n",
      "          \"index\": 0,\n",
      "          \"input\": [],\n",
      "          \"transformation\": {\n",
      "            \"id\": \"did:nv:d4485cb12099f56728f5905994373254072f51289ccdbe2cdc38b3ba2e573029\"\n",
      "          }\n",
      "        }\n",
      "      ]\n",
      "    }\n",
      "  }\n",
      "}\n",
      "Workflow DID: did:nv:9031bd647a16be4f4a452a0594a5ed6d227a6847ef0a3d2fd98514208333168f\n"
     ]
    }
   ],
   "source": [
    "# Compute server\n",
    "metadata_workflow_server = {\n",
    "  \"main\": {\n",
    "    \"name\": \"Flower Server\",\n",
    "    \"dateCreated\": utils.date_now(),\n",
    "    \"author\": \"Adap\",\n",
    "    \"license\": \"\",\n",
    "    \"price\": \"0\",\n",
    "    \"type\": \"workflow\",\n",
    "    \"workflow\": {\n",
    "      \"stages\": [\n",
    "        {\n",
    "          \"index\": 0,\n",
    "          \"input\": [],\n",
    "          \"transformation\": {\n",
    "            \"id\": ddo_algorithm_server.did\n",
    "          }\n",
    "        }\n",
    "      ]\n",
    "    }\n",
    "  }\n",
    "}\n",
    "\n",
    "utils.print_json(metadata_workflow_server)\n",
    "\n",
    "ddo_workflow_server = nevermined.assets.create(metadata_workflow_server, consumer_account, providers=[PROVIDER_ADDRESS])\n",
    "print(f\"Workflow DID: {ddo_workflow_server.did}\")"
   ]
  },
  {
   "cell_type": "markdown",
   "metadata": {},
   "source": [
    "### Order computations:\n",
    "\n",
    "- One for each data asset\n",
    "- One for the coordinator service\n",
    "\n",
    "In between we want for the blockchain to process the request."
   ]
  },
  {
   "cell_type": "code",
   "execution_count": 52,
   "metadata": {},
   "outputs": [
    {
     "name": "stdout",
     "output_type": "stream",
     "text": [
      "Service Agreement ID: 0xb07d825b71234804942b64ab916673a216224ae3277742a68882ebbf546d5ff6\n",
      "Service Agreement ID: 0x48095029e4d74c30957caabd1bf1ee51e7b5286fcc3547b5aa186d0717f3474f\n",
      "Service Agreement ID: 0x9de95455d4cf471b913f3b77642ffa91df7ed705bf8d4d41b5fd886981b9d57c\n"
     ]
    }
   ],
   "source": [
    "keeper = Keeper.get_instance()\n",
    "\n",
    "service_agreement_id1 = nevermined.assets.order(ASSET_COMPUTE_DID_1, ServiceTypesIndices.DEFAULT_COMPUTING_INDEX, consumer_account, consumer_account)\n",
    "print(f\"Service Agreement ID: {service_agreement_id1}\")\n",
    "utils.wait_for_event(keeper, service_agreement_id1)\n",
    "\n",
    "service_agreement_id2 = nevermined.assets.order(ASSET_COMPUTE_DID_2, ServiceTypesIndices.DEFAULT_COMPUTING_INDEX, consumer_account, consumer_account)\n",
    "print(f\"Service Agreement ID: {service_agreement_id2}\")\n",
    "utils.wait_for_event(keeper, service_agreement_id2)\n",
    "\n",
    "service_agreement_id_server = nevermined.assets.order(ASSET_FLOWER_SERVER_DID, ServiceTypesIndices.DEFAULT_COMPUTING_INDEX, consumer_account, consumer_account)\n",
    "print(f\"Service Agreement ID: {service_agreement_id_server}\")\n",
    "utils.wait_for_event(keeper, service_agreement_id_server)\n"
   ]
  },
  {
   "cell_type": "markdown",
   "metadata": {},
   "source": [
    "### Execute workflows\n",
    "\n",
    "This orders the Nevermined to start the execution of the workflows:\n",
    "- One for each data asset\n",
    "- One for the coordinator service"
   ]
  },
  {
   "cell_type": "code",
   "execution_count": 53,
   "metadata": {},
   "outputs": [
    {
     "name": "stdout",
     "output_type": "stream",
     "text": [
      "Execution ID: nevermined-compute-5v7md\n"
     ]
    }
   ],
   "source": [
    "execution_id1 = nevermined.assets.execute(\n",
    "    service_agreement_id1,\n",
    "    ASSET_COMPUTE_DID_1,\n",
    "    ServiceTypesIndices.DEFAULT_COMPUTING_INDEX,\n",
    "    consumer_account,\n",
    "    ddo_workflow_client1.did\n",
    ")\n",
    "print(f\"Execution ID: {execution_id1}\")"
   ]
  },
  {
   "cell_type": "code",
   "execution_count": 54,
   "metadata": {},
   "outputs": [
    {
     "name": "stdout",
     "output_type": "stream",
     "text": [
      "Execution ID: nevermined-compute-h5w2w\n"
     ]
    }
   ],
   "source": [
    "execution_id2 = nevermined.assets.execute(\n",
    "    service_agreement_id2,\n",
    "    ASSET_COMPUTE_DID_2,\n",
    "    ServiceTypesIndices.DEFAULT_COMPUTING_INDEX,\n",
    "    consumer_account,\n",
    "    ddo_workflow_client2.did\n",
    ")\n",
    "print(f\"Execution ID: {execution_id2}\")"
   ]
  },
  {
   "cell_type": "code",
   "execution_count": 55,
   "metadata": {},
   "outputs": [
    {
     "name": "stdout",
     "output_type": "stream",
     "text": [
      "Execution ID: nevermined-compute-9pmc2\n"
     ]
    }
   ],
   "source": [
    "execution_id_coordinator = nevermined.assets.execute(\n",
    "    service_agreement_id2,\n",
    "    ASSET_FLOWER_SERVER_DID,\n",
    "    ServiceTypesIndices.DEFAULT_COMPUTING_INDEX,\n",
    "    consumer_account,\n",
    "    ddo_workflow_server.did\n",
    ")\n",
    "print(f\"Execution ID: {execution_id_coordinator}\")"
   ]
  },
  {
   "cell_type": "markdown",
   "metadata": {},
   "source": [
    "### Wait for compute jobs to finish"
   ]
  },
  {
   "cell_type": "code",
   "execution_count": 56,
   "metadata": {},
   "outputs": [
    {
     "name": "stdout",
     "output_type": "stream",
     "text": [
      "nevermined-compute-5v7md: Running\n",
      "nevermined-compute-h5w2w: Running\n",
      "nevermined-compute-9pmc2: Running\n",
      "\n",
      "nevermined-compute-5v7md: Running\n",
      "nevermined-compute-h5w2w: Running\n",
      "nevermined-compute-9pmc2: Failed\n"
     ]
    },
    {
     "ename": "Exception",
     "evalue": "Some jobs failed",
     "output_type": "error",
     "traceback": [
      "\u001b[0;31m---------------------------------------------------------------------------\u001b[0m",
      "\u001b[0;31mException\u001b[0m                                 Traceback (most recent call last)",
      "\u001b[0;32m<ipython-input-56-bd0e209b609e>\u001b[0m in \u001b[0;36m<module>\u001b[0;34m\u001b[0m\n\u001b[1;32m     12\u001b[0m             \u001b[0moutputs\u001b[0m\u001b[0;34m.\u001b[0m\u001b[0madd\u001b[0m\u001b[0;34m(\u001b[0m\u001b[0mresult\u001b[0m\u001b[0;34m[\u001b[0m\u001b[0;34m\"did\"\u001b[0m\u001b[0;34m]\u001b[0m\u001b[0;34m)\u001b[0m\u001b[0;34m\u001b[0m\u001b[0;34m\u001b[0m\u001b[0m\n\u001b[1;32m     13\u001b[0m         \u001b[0;32melif\u001b[0m \u001b[0mstatus\u001b[0m \u001b[0;34m==\u001b[0m \u001b[0;34m\"Failed\"\u001b[0m\u001b[0;34m:\u001b[0m\u001b[0;34m\u001b[0m\u001b[0;34m\u001b[0m\u001b[0m\n\u001b[0;32m---> 14\u001b[0;31m             \u001b[0;32mraise\u001b[0m \u001b[0mException\u001b[0m\u001b[0;34m(\u001b[0m\u001b[0;34m\"Some jobs failed\"\u001b[0m\u001b[0;34m)\u001b[0m\u001b[0;34m\u001b[0m\u001b[0;34m\u001b[0m\u001b[0m\n\u001b[0m\u001b[1;32m     15\u001b[0m     \u001b[0mprint\u001b[0m\u001b[0;34m(\u001b[0m\u001b[0;34m)\u001b[0m\u001b[0;34m\u001b[0m\u001b[0;34m\u001b[0m\u001b[0m\n\u001b[1;32m     16\u001b[0m     \u001b[0mtime\u001b[0m\u001b[0;34m.\u001b[0m\u001b[0msleep\u001b[0m\u001b[0;34m(\u001b[0m\u001b[0;36m10\u001b[0m\u001b[0;34m)\u001b[0m\u001b[0;34m\u001b[0m\u001b[0;34m\u001b[0m\u001b[0m\n",
      "\u001b[0;31mException\u001b[0m: Some jobs failed"
     ]
    }
   ],
   "source": [
    "succeeded = set()\n",
    "failed = set()\n",
    "outputs = set()\n",
    "while len(succeeded) < 3:\n",
    "    for job_id in [execution_id1, execution_id2, execution_id_coordinator]:\n",
    "        result = nevermined.assets.compute_status(service_agreement_id1, job_id, consumer_account)\n",
    "        status = result[\"status\"]\n",
    "        print(f\"{job_id}: {status}\")\n",
    "\n",
    "        if status == \"Succeeded\":\n",
    "            succeeded.add(job_id)\n",
    "            outputs.add(result[\"did\"])\n",
    "        elif status == \"Failed\":\n",
    "            raise Exception(\"Some jobs failed\")\n",
    "    print()\n",
    "    time.sleep(10)\n",
    "\n",
    "for did in outputs:\n",
    "    print(f\"Output DID: {did}\")"
   ]
  },
  {
   "cell_type": "markdown",
   "metadata": {},
   "source": [
    "### Download the results"
   ]
  },
  {
   "cell_type": "code",
   "execution_count": null,
   "metadata": {},
   "outputs": [],
   "source": [
    "for did in outputs:\n",
    "    print(f\"Downloading: {did}\")\n",
    "    nevermined.assets.download(did, ServiceTypesIndices.DEFAULT_ACCESS_INDEX, consumer_account, \"./\")"
   ]
  }
 ],
 "metadata": {
  "kernelspec": {
   "display_name": "Python 3",
   "language": "python",
   "name": "python3"
  },
  "language_info": {
   "codemirror_mode": {
    "name": "ipython",
    "version": 3
   },
   "file_extension": ".py",
   "mimetype": "text/x-python",
   "name": "python",
   "nbconvert_exporter": "python",
   "pygments_lexer": "ipython3",
   "version": "3.8.7"
  }
 },
 "nbformat": 4,
 "nbformat_minor": 4
}
